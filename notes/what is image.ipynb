{
 "cells": [
  {
   "cell_type": "markdown",
   "metadata": {},
   "source": [
    "이미지? => 픽셀로 이루어진 행*열의 집합  \n",
    "\n",
    "영상 => 이미지 + 소리\n",
    "    1초에 24~29개의 이미지(frame)로 구성(국제 표준)  \n",
    "    -> 1/24, 2/24, 3/24 ~ 24/24 순서로 1초에 24개의 이미지가 보여야 1초의 영상이 된다!\n",
    "\n",
    "따라서 영상 처리를 한다 => 엄청 많은 이미지를 처리한다\n"
   ]
  },
  {
   "cell_type": "markdown",
   "metadata": {},
   "source": [
    "jpg 파일과 달리 png 파일은 투명 배경을 가질 수 있다  \n",
    "\n",
    "=> 기존 3채널로 이루어진 이미지 파일과 달리 png 파일은 배경색 보유 유무를 확인하는\n",
    "    채널이 하나 더 있어서 4채널로 이루어져있다\n",
    "    => 다른 이미지 파일들과 같이 Array에 넣으려면 에러가 난다!\n"
   ]
  },
  {
   "cell_type": "markdown",
   "metadata": {},
   "source": [
    "GUI에서 파일들의 아이콘은 내가 지정한 확장자에 따라서 모양도 달라지고, 연결 프로그램도 달라진다.  \n",
    "하지만 실제 파일을 열 때에는 할 수 있는 일인지, 아닌지 스스로 판단해서 알려준다.  \n",
    "그럼 컴퓨터는 그걸 어떻게 알고 답하는가?  \n",
    "==> 파일의 헤더 정보를 읽어오기 때문  "
   ]
  }
 ],
 "metadata": {
  "kernelspec": {
   "display_name": "study",
   "language": "python",
   "name": "python3"
  },
  "language_info": {
   "name": "python",
   "version": "3.12.0"
  }
 },
 "nbformat": 4,
 "nbformat_minor": 2
}
