{
 "cells": [
  {
   "cell_type": "markdown",
   "metadata": {},
   "source": [
    "SELECT TOP 5 ContactName, Count(ContactName) AS Cnt   \n",
    "FROM Customers  \n",
    "GROUP BY ContactName  \n",
    "ORDER BY Count(ContactName) DESC"
   ]
  },
  {
   "cell_type": "markdown",
   "metadata": {},
   "source": [
    "이런 식으로 쿼리를 할 수도 있지만, AS Cnt를 통해  \n",
    "별칭을 지정한 것을 사용하려면 하위 쿼리를 사용해야 한다!"
   ]
  },
  {
   "cell_type": "markdown",
   "metadata": {},
   "source": [
    "SELECT TOP5 * FROM (  \n",
    "SELECT ContactName, Count(ContactName) AS Cnt    \n",
    "FROM Customers  \n",
    "GROUP BY ContactName )  \n",
    "ORDER BY Cnt DESC"
   ]
  },
  {
   "cell_type": "markdown",
   "metadata": {},
   "source": [
    "일반 유저들은 테이블을 생성할 수 없지만, 상황에 따라서 자신이 원하는 데이터를 담고 있는 테이블을 view table 이라는 곳에 등록해둘 수 있음!"
   ]
  }
 ],
 "metadata": {
  "language_info": {
   "name": "python"
  }
 },
 "nbformat": 4,
 "nbformat_minor": 2
}
