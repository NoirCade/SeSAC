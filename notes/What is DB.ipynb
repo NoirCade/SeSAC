{
 "cells": [
  {
   "cell_type": "markdown",
   "metadata": {},
   "source": [
    "1. 데이터베이스 transaction\n",
    "    데이터베이스의 상태를 변화시키는 논리적 기능을 수행하기 위해 필요한 작업들의 단위 또는 한번에 수행되어야 할 일련의 연산들\n",
    "\n",
    "2. 데이터베이스 commit\n",
    "    하나의 트랜잭션이 성공적으로 완료되었다는 것을 의미\n",
    "\n",
    "3. 데이터베이스 rollback\n",
    "    트랜잭션이 온전히 수행되지 않아서 전체 연산을 취소하기 위해 진행하는 작업을 의미"
   ]
  }
 ],
 "metadata": {
  "language_info": {
   "name": "python"
  }
 },
 "nbformat": 4,
 "nbformat_minor": 2
}
