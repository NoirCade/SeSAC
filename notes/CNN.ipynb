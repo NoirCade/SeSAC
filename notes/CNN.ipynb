{
 "cells": [
  {
   "cell_type": "markdown",
   "metadata": {},
   "source": [
    "인공 신경망의 원리를 학습  \n",
    "    -> 모델 제작 = 좋은 가중치 찾는 과정  \n",
    "       좋은 모델 = 잘 맞추는 모델 + 가볍기도 하면 좋고!  "
   ]
  },
  {
   "cell_type": "markdown",
   "metadata": {},
   "source": [
    "그렇다면 이미 만들어진 좋은 모델이 있다면 그 모델의 가중치와 구조를 선별해서 사용하면 좋지 않나?\n",
    "=> 전이 학습!"
   ]
  },
  {
   "cell_type": "markdown",
   "metadata": {},
   "source": [
    "모델을 제작할 때 사용자가 원핫 인코딩하면 편한데, 예측도 그냥 model.predict 하면 되니까  \n",
    "근데 단점은 test 라벨도 원핫 인코딩해서 맞춰야 한다..."
   ]
  },
  {
   "cell_type": "markdown",
   "metadata": {},
   "source": [
    "비전 초창기의 CNN 작동방식  \n",
    "Conv2D - MaxPooling2D - Conv2D - MaxPooling2D - ... 이미지 줄여서 특성이 드러나게 만듦  \n",
    "-> flatten 레이어에 넣어서 wx+b를 할 수 있는 x변수를 제작  \n",
    "-> Dense에 넣음 -> 추가로 Dense 진행 가능 -> Dense를 충분히 거친 후 최종값 출력  "
   ]
  },
  {
   "cell_type": "markdown",
   "metadata": {},
   "source": [
    "최근에는 MaxPooling 레이어를 점점 없애는 중  \n",
    "-> 계산 부하를 줄이기 위해서 이미지 사이즈 줄이려는 시도였는데, 요즘엔 하드웨어가 좋아져서 안해도 잘 계산하더라\n"
   ]
  }
 ],
 "metadata": {
  "language_info": {
   "name": "python"
  }
 },
 "nbformat": 4,
 "nbformat_minor": 2
}
