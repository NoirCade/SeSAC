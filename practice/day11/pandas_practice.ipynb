{
 "cells": [
  {
   "cell_type": "code",
   "execution_count": 33,
   "metadata": {},
   "outputs": [
    {
     "data": {
      "text/plain": [
       "',윤경환,,성형석,,김동현,,최재권,,이재범,,주미현,,윤도하,,황지의,,이승환,,박호정,,박주형,,백혜리,,차혁주,한다연,,김동민,,이예림,,박세웅,,장유미,,우만경,,김태호,,권용희,,유해성,,최지욱,,김현우'"
      ]
     },
     "execution_count": 33,
     "metadata": {},
     "output_type": "execute_result"
    }
   ],
   "source": [
    "data = '''\n",
    "윤경환, 성형석,\n",
    "김동현, 최재권,\n",
    "이재범, 주미현,\n",
    "윤도하, 황지의,\n",
    "이승환, 박호정,\n",
    "박주형, 백혜리,\n",
    "차혁주,한다연,\n",
    "김동민, 이예림,\n",
    "박세웅, 장유미,\n",
    "우만경, 김태호,\n",
    "권용희, 유해성,\n",
    "최지욱, 김현우'''\n",
    "\n",
    "data\n",
    "\n",
    "# pattern = \"[^ㄱ-ㅎ가-힣,]+\"\n",
    "\n",
    "# import re\n",
    "# data=re.sub(pattern, ',', data)\n",
    "data"
   ]
  },
  {
   "cell_type": "markdown",
   "metadata": {},
   "source": [
    "위아래 차이가 뭐지...??"
   ]
  },
  {
   "cell_type": "code",
   "execution_count": 5,
   "metadata": {},
   "outputs": [
    {
     "data": {
      "text/plain": [
       "'윤경환,성형석,김동현,최재권,이재범,주미현,윤도하,황지의,이승환,박호정,박주형,백혜리,차혁주,한다연,김동민,이예림,박세웅,장유미,우만경,김태호,권용희,유해성,최지욱,김현우'"
      ]
     },
     "execution_count": 5,
     "metadata": {},
     "output_type": "execute_result"
    }
   ],
   "source": [
    "data='''\n",
    "윤경환, 성형석,\n",
    "김동현, 최재권,\n",
    "이재범, 주미현,\n",
    "윤도하, 황지의,\n",
    "이승환, 박호정,\n",
    "박주형, 백혜리,\n",
    "차혁주,한다연,\n",
    "김동민, 이예림,\n",
    "박세웅, 장유미,\n",
    "우만경, 김태호,\n",
    "권용희, 유해성,\n",
    "최지욱, 김현우\n",
    "'''\n",
    "\n",
    "data\n",
    "\n",
    "pattern = \"[^ㄱ-ㅎ가-힣,]+\"\n",
    "\n",
    "import re\n",
    "# import numpy as np\n",
    "data=re.sub(pattern,'',data)\n",
    "# data=data.split(',')\n",
    "# dataList=np.reshape(data,(-1,2))\n",
    "# bun=list(range(1,len(dataList)+1))\n",
    "# bun=np.reshape(bun, (-1,1))\n",
    "# result=np.hstack((bun,dataList))\n",
    "\n",
    "# result\n",
    "data"
   ]
  },
  {
   "cell_type": "code",
   "execution_count": 6,
   "metadata": {},
   "outputs": [
    {
     "data": {
      "text/plain": [
       "[[]]"
      ]
     },
     "execution_count": 6,
     "metadata": {},
     "output_type": "execute_result"
    }
   ],
   "source": [
    "nameList=[]\n",
    "nameList.append([])\n",
    "nameList"
   ]
  },
  {
   "cell_type": "code",
   "execution_count": 27,
   "metadata": {},
   "outputs": [
    {
     "data": {
      "text/plain": [
       "['윤경환',\n",
       " '성형석',\n",
       " '김동현',\n",
       " '최재권',\n",
       " '이재범',\n",
       " '주미현',\n",
       " '윤도하',\n",
       " '황지의',\n",
       " '이승환',\n",
       " '박호정',\n",
       " '박주형',\n",
       " '백혜리',\n",
       " '차혁주',\n",
       " '한다연',\n",
       " '김동민',\n",
       " '이예림',\n",
       " '박세웅',\n",
       " '장유미',\n",
       " '우만경',\n",
       " '김태호',\n",
       " '권용희',\n",
       " '유해성',\n",
       " '최지욱',\n",
       " '김현우']"
      ]
     },
     "execution_count": 27,
     "metadata": {},
     "output_type": "execute_result"
    }
   ],
   "source": [
    "data = data.replace('\\n', '')\n",
    "data = data.replace(', ', ',')\n",
    "data = data.split(',')\n",
    "data"
   ]
  },
  {
   "cell_type": "code",
   "execution_count": 28,
   "metadata": {},
   "outputs": [
    {
     "data": {
      "text/plain": [
       "array([['윤경환', '성형석'],\n",
       "       ['김동현', '최재권'],\n",
       "       ['이재범', '주미현'],\n",
       "       ['윤도하', '황지의'],\n",
       "       ['이승환', '박호정'],\n",
       "       ['박주형', '백혜리'],\n",
       "       ['차혁주', '한다연'],\n",
       "       ['김동민', '이예림'],\n",
       "       ['박세웅', '장유미'],\n",
       "       ['우만경', '김태호'],\n",
       "       ['권용희', '유해성'],\n",
       "       ['최지욱', '김현우']], dtype='<U3')"
      ]
     },
     "execution_count": 28,
     "metadata": {},
     "output_type": "execute_result"
    }
   ],
   "source": [
    "import numpy as np\n",
    "\n",
    "dataList=np.reshape(data, (-1,2))\n",
    "dataList"
   ]
  },
  {
   "cell_type": "code",
   "execution_count": 30,
   "metadata": {},
   "outputs": [
    {
     "data": {
      "text/plain": [
       "array([[ 1],\n",
       "       [ 2],\n",
       "       [ 3],\n",
       "       [ 4],\n",
       "       [ 5],\n",
       "       [ 6],\n",
       "       [ 7],\n",
       "       [ 8],\n",
       "       [ 9],\n",
       "       [10],\n",
       "       [11],\n",
       "       [12]])"
      ]
     },
     "execution_count": 30,
     "metadata": {},
     "output_type": "execute_result"
    }
   ],
   "source": [
    "bun=list(range(1,len(dataList)+1))\n",
    "bun=np.reshape(bun, (-1,1))\n",
    "bun"
   ]
  },
  {
   "cell_type": "code",
   "execution_count": 32,
   "metadata": {},
   "outputs": [
    {
     "data": {
      "text/plain": [
       "array([['1', '윤경환', '성형석'],\n",
       "       ['2', '김동현', '최재권'],\n",
       "       ['3', '이재범', '주미현'],\n",
       "       ['4', '윤도하', '황지의'],\n",
       "       ['5', '이승환', '박호정'],\n",
       "       ['6', '박주형', '백혜리'],\n",
       "       ['7', '차혁주', '한다연'],\n",
       "       ['8', '김동민', '이예림'],\n",
       "       ['9', '박세웅', '장유미'],\n",
       "       ['10', '우만경', '김태호'],\n",
       "       ['11', '권용희', '유해성'],\n",
       "       ['12', '최지욱', '김현우']], dtype='<U11')"
      ]
     },
     "execution_count": 32,
     "metadata": {},
     "output_type": "execute_result"
    }
   ],
   "source": [
    "result=np.hstack((bun, dataList))"
   ]
  },
  {
   "cell_type": "code",
   "execution_count": null,
   "metadata": {},
   "outputs": [],
   "source": [
    "nameList=[]\n",
    "for cnt, name in enumerate(data):\n",
    "    if cnt%2:\n",
    "        nameList.append([])\n",
    "        \n",
    "    nameList[-1].append(name)\n",
    "\n"
   ]
  },
  {
   "cell_type": "code",
   "execution_count": 2,
   "metadata": {},
   "outputs": [
    {
     "name": "stdout",
     "output_type": "stream",
     "text": [
      "['\\n', ' ']\n"
     ]
    },
    {
     "data": {
      "text/plain": [
       "'윤경환, 성형석김동현, 최재권이재범, 주미현윤도하, 황지의이승환, 박호정박주형, 백혜리차혁주,한다연김동민, 이예림박세웅, 장유미우만경, 김태호권용희, 유해성최지욱, 김현우'"
      ]
     },
     "execution_count": 2,
     "metadata": {},
     "output_type": "execute_result"
    }
   ],
   "source": [
    "# \\n을 제거, ' '을 제거\n",
    "# 제거: 찾는 값을 바꿀 값이 ''로\n",
    "### 한글과 쉼표를 제외한 나머지값 제거\n",
    "\n",
    "import re\n",
    "def aa(data, *reLIst):\n",
    "    print(reLIst[0])\n",
    "    for x in reLIst[0]:\n",
    "        data=re.sub(x,'',data)\n",
    "        return data\n",
    "    \n",
    "reLIst=['\\n', ' ']\n",
    "aa(data, reLIst)"
   ]
  },
  {
   "cell_type": "code",
   "execution_count": 8,
   "metadata": {},
   "outputs": [
    {
     "data": {
      "text/plain": [
       "array([['1', '윤경환', '성형석'],\n",
       "       ['2', '김동현', '최재권'],\n",
       "       ['3', '이재범', '주미현'],\n",
       "       ['4', '윤도하', '황지의'],\n",
       "       ['5', '이승환', '박호정'],\n",
       "       ['6', '박주형', '백혜리'],\n",
       "       ['7', '차혁주', '한다연'],\n",
       "       ['8', '김동민', '이예림'],\n",
       "       ['9', '박세웅', '장유미'],\n",
       "       ['10', '우만경', '김태호'],\n",
       "       ['11', '권용희', '유해성'],\n",
       "       ['12', '최지욱', '김현우']], dtype='<U11')"
      ]
     },
     "execution_count": 8,
     "metadata": {},
     "output_type": "execute_result"
    }
   ],
   "source": [
    "data='''\n",
    "윤경환, 성형석,\n",
    "김동현, 최재권,\n",
    "이재범, 주미현,\n",
    "윤도하, 황지의,\n",
    "이승환, 박호정,\n",
    "박주형, 백혜리,\n",
    "차혁주,한다연,\n",
    "김동민, 이예림,\n",
    "박세웅, 장유미,\n",
    "우만경, 김태호,\n",
    "권용희, 유해성,\n",
    "최지욱, 김현우\n",
    "'''\n",
    "\n",
    "data\n",
    "\n",
    "pattern = \"[^ㄱ-ㅎ가-힣,]+\"\n",
    "\n",
    "import re\n",
    "import numpy as np\n",
    "data=re.sub(pattern,'',data)\n",
    "data=data.split(',')\n",
    "dataList=np.reshape(data,(-1,2))\n",
    "bun=list(range(1,len(dataList)+1))\n",
    "bun=np.reshape(bun, (-1,1))\n",
    "result=np.hstack((bun,dataList))\n",
    "\n",
    "result"
   ]
  },
  {
   "cell_type": "code",
   "execution_count": 9,
   "metadata": {},
   "outputs": [
    {
     "data": {
      "text/html": [
       "<div>\n",
       "<style scoped>\n",
       "    .dataframe tbody tr th:only-of-type {\n",
       "        vertical-align: middle;\n",
       "    }\n",
       "\n",
       "    .dataframe tbody tr th {\n",
       "        vertical-align: top;\n",
       "    }\n",
       "\n",
       "    .dataframe thead th {\n",
       "        text-align: right;\n",
       "    }\n",
       "</style>\n",
       "<table border=\"1\" class=\"dataframe\">\n",
       "  <thead>\n",
       "    <tr style=\"text-align: right;\">\n",
       "      <th></th>\n",
       "      <th>번호</th>\n",
       "      <th>조원1</th>\n",
       "      <th>조원2</th>\n",
       "      <th>발표시간</th>\n",
       "    </tr>\n",
       "  </thead>\n",
       "  <tbody>\n",
       "    <tr>\n",
       "      <th>0</th>\n",
       "      <td>1</td>\n",
       "      <td>윤경환</td>\n",
       "      <td>성형석</td>\n",
       "      <td>5</td>\n",
       "    </tr>\n",
       "    <tr>\n",
       "      <th>1</th>\n",
       "      <td>2</td>\n",
       "      <td>김동현</td>\n",
       "      <td>최재권</td>\n",
       "      <td>5</td>\n",
       "    </tr>\n",
       "    <tr>\n",
       "      <th>2</th>\n",
       "      <td>3</td>\n",
       "      <td>이재범</td>\n",
       "      <td>주미현</td>\n",
       "      <td>5</td>\n",
       "    </tr>\n",
       "    <tr>\n",
       "      <th>3</th>\n",
       "      <td>4</td>\n",
       "      <td>윤도하</td>\n",
       "      <td>황지의</td>\n",
       "      <td>10</td>\n",
       "    </tr>\n",
       "    <tr>\n",
       "      <th>4</th>\n",
       "      <td>5</td>\n",
       "      <td>이승환</td>\n",
       "      <td>박호정</td>\n",
       "      <td>10</td>\n",
       "    </tr>\n",
       "    <tr>\n",
       "      <th>5</th>\n",
       "      <td>6</td>\n",
       "      <td>박주형</td>\n",
       "      <td>백혜리</td>\n",
       "      <td>5</td>\n",
       "    </tr>\n",
       "    <tr>\n",
       "      <th>6</th>\n",
       "      <td>7</td>\n",
       "      <td>차혁주</td>\n",
       "      <td>한다연</td>\n",
       "      <td>5</td>\n",
       "    </tr>\n",
       "    <tr>\n",
       "      <th>7</th>\n",
       "      <td>8</td>\n",
       "      <td>김동민</td>\n",
       "      <td>이예림</td>\n",
       "      <td>5</td>\n",
       "    </tr>\n",
       "    <tr>\n",
       "      <th>8</th>\n",
       "      <td>9</td>\n",
       "      <td>박세웅</td>\n",
       "      <td>장유미</td>\n",
       "      <td>3</td>\n",
       "    </tr>\n",
       "    <tr>\n",
       "      <th>9</th>\n",
       "      <td>10</td>\n",
       "      <td>우만경</td>\n",
       "      <td>김태호</td>\n",
       "      <td>10</td>\n",
       "    </tr>\n",
       "    <tr>\n",
       "      <th>10</th>\n",
       "      <td>11</td>\n",
       "      <td>권용희</td>\n",
       "      <td>유해성</td>\n",
       "      <td>3</td>\n",
       "    </tr>\n",
       "    <tr>\n",
       "      <th>11</th>\n",
       "      <td>12</td>\n",
       "      <td>최지욱</td>\n",
       "      <td>김현우</td>\n",
       "      <td>5</td>\n",
       "    </tr>\n",
       "  </tbody>\n",
       "</table>\n",
       "</div>"
      ],
      "text/plain": [
       "    번호  조원1  조원2  발표시간\n",
       "0    1  윤경환  성형석     5\n",
       "1    2  김동현  최재권     5\n",
       "2    3  이재범  주미현     5\n",
       "3    4  윤도하  황지의    10\n",
       "4    5  이승환  박호정    10\n",
       "5    6  박주형  백혜리     5\n",
       "6    7  차혁주  한다연     5\n",
       "7    8  김동민  이예림     5\n",
       "8    9  박세웅  장유미     3\n",
       "9   10  우만경  김태호    10\n",
       "10  11  권용희  유해성     3\n",
       "11  12  최지욱  김현우     5"
      ]
     },
     "execution_count": 9,
     "metadata": {},
     "output_type": "execute_result"
    }
   ],
   "source": [
    "import pandas as pd\n",
    "\n",
    "df = pd.DataFrame(result, columns=['번호', '조원1', '조원2'])\n",
    "시간=[5,5,5,10,10,5,5,5,3,10,3,5]\n",
    "type(df),type(시간)\n",
    "df['발표시간']=시간\n",
    "df"
   ]
  },
  {
   "cell_type": "code",
   "execution_count": 11,
   "metadata": {},
   "outputs": [
    {
     "data": {
      "text/plain": [
       "(71, 5.916666666666667, 2.574643252722186)"
      ]
     },
     "execution_count": 11,
     "metadata": {},
     "output_type": "execute_result"
    }
   ],
   "source": [
    "df['발표시간'].sum(), df['발표시간'].mean(), df['발표시간'].std()"
   ]
  },
  {
   "cell_type": "code",
   "execution_count": 13,
   "metadata": {},
   "outputs": [
    {
     "name": "stdout",
     "output_type": "stream",
     "text": [
      "<class 'pandas.core.frame.DataFrame'>\n",
      "RangeIndex: 12 entries, 0 to 11\n",
      "Data columns (total 4 columns):\n",
      " #   Column  Non-Null Count  Dtype \n",
      "---  ------  --------------  ----- \n",
      " 0   번호      12 non-null     object\n",
      " 1   조원1     12 non-null     object\n",
      " 2   조원2     12 non-null     object\n",
      " 3   발표시간    12 non-null     int64 \n",
      "dtypes: int64(1), object(3)\n",
      "memory usage: 516.0+ bytes\n"
     ]
    }
   ],
   "source": [
    "df.info()"
   ]
  },
  {
   "cell_type": "code",
   "execution_count": 14,
   "metadata": {},
   "outputs": [
    {
     "data": {
      "text/html": [
       "<div>\n",
       "<style scoped>\n",
       "    .dataframe tbody tr th:only-of-type {\n",
       "        vertical-align: middle;\n",
       "    }\n",
       "\n",
       "    .dataframe tbody tr th {\n",
       "        vertical-align: top;\n",
       "    }\n",
       "\n",
       "    .dataframe thead th {\n",
       "        text-align: right;\n",
       "    }\n",
       "</style>\n",
       "<table border=\"1\" class=\"dataframe\">\n",
       "  <thead>\n",
       "    <tr style=\"text-align: right;\">\n",
       "      <th></th>\n",
       "      <th>발표시간</th>\n",
       "    </tr>\n",
       "  </thead>\n",
       "  <tbody>\n",
       "    <tr>\n",
       "      <th>count</th>\n",
       "      <td>12.000000</td>\n",
       "    </tr>\n",
       "    <tr>\n",
       "      <th>mean</th>\n",
       "      <td>5.916667</td>\n",
       "    </tr>\n",
       "    <tr>\n",
       "      <th>std</th>\n",
       "      <td>2.574643</td>\n",
       "    </tr>\n",
       "    <tr>\n",
       "      <th>min</th>\n",
       "      <td>3.000000</td>\n",
       "    </tr>\n",
       "    <tr>\n",
       "      <th>25%</th>\n",
       "      <td>5.000000</td>\n",
       "    </tr>\n",
       "    <tr>\n",
       "      <th>50%</th>\n",
       "      <td>5.000000</td>\n",
       "    </tr>\n",
       "    <tr>\n",
       "      <th>75%</th>\n",
       "      <td>6.250000</td>\n",
       "    </tr>\n",
       "    <tr>\n",
       "      <th>max</th>\n",
       "      <td>10.000000</td>\n",
       "    </tr>\n",
       "  </tbody>\n",
       "</table>\n",
       "</div>"
      ],
      "text/plain": [
       "            발표시간\n",
       "count  12.000000\n",
       "mean    5.916667\n",
       "std     2.574643\n",
       "min     3.000000\n",
       "25%     5.000000\n",
       "50%     5.000000\n",
       "75%     6.250000\n",
       "max    10.000000"
      ]
     },
     "execution_count": 14,
     "metadata": {},
     "output_type": "execute_result"
    }
   ],
   "source": [
    "df.describe() # 숫자로 된 필드만 기술통계 제공!"
   ]
  },
  {
   "cell_type": "code",
   "execution_count": null,
   "metadata": {},
   "outputs": [],
   "source": []
  }
 ],
 "metadata": {
  "kernelspec": {
   "display_name": "study",
   "language": "python",
   "name": "python3"
  },
  "language_info": {
   "codemirror_mode": {
    "name": "ipython",
    "version": 3
   },
   "file_extension": ".py",
   "mimetype": "text/x-python",
   "name": "python",
   "nbconvert_exporter": "python",
   "pygments_lexer": "ipython3",
   "version": "3.12.1"
  }
 },
 "nbformat": 4,
 "nbformat_minor": 2
}
