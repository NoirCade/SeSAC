{
 "cells": [
  {
   "cell_type": "code",
   "execution_count": 1,
   "metadata": {},
   "outputs": [
    {
     "name": "stdout",
     "output_type": "stream",
     "text": [
      "Time step 1\n",
      "Input: [[-0.9781427   0.32217053  0.85121867]]\n",
      "Output: [[0.81740748]]\n",
      "Time step 2\n",
      "Input: [[ 1.5093627  -0.7219711   1.41157899]]\n",
      "Output: [[0.55311122]]\n",
      "Time step 3\n",
      "Input: [[-1.61510378  0.91138226 -0.30816823]]\n",
      "Output: [[0.76786425]]\n",
      "Time step 4\n",
      "Input: [[ 0.71985622 -0.24302292  0.88826131]]\n",
      "Output: [[0.00984452]]\n",
      "Time step 5\n",
      "Input: [[-0.35872344 -0.13634579 -0.2563087 ]]\n",
      "Output: [[0.60574973]]\n"
     ]
    }
   ],
   "source": [
    "import numpy as np\n",
    "\n",
    "# 입력 시퀀스 길이와 hidden state 크기 정의\n",
    "seq_length = 5\n",
    "input_size = 3\n",
    "hidden_size = 4\n",
    "\n",
    "# 입력, 은닉 상태, 출력에 대한 가중치 및 편향 초기화\n",
    "Wx = np.random.randn(hidden_size, input_size)\n",
    "Wh = np.random.randn(hidden_size, hidden_size)\n",
    "Wy = np.random.randn(1, hidden_size)\n",
    "bx = np.random.randn(hidden_size, 1)\n",
    "bh = np.random.randn(hidden_size, 1)\n",
    "by = np.random.randn(1, 1)\n",
    "\n",
    "# 입력 시퀀스 생성\n",
    "inputs = np.random.randn(input_size, seq_length)\n",
    "\n",
    "# 초기 은닉 상태 설정\n",
    "h_prev = np.zeros((hidden_size, 1))\n",
    "\n",
    "# RNN 순방향 전파 진행\n",
    "for t in range(seq_length):\n",
    "    # 현재 시점의 입력\n",
    "    x_t = inputs[:, t].reshape(-1, 1)\n",
    "    \n",
    "    # 은닉 상태 계산\n",
    "    h_t = np.tanh(np.dot(Wx, x_t) + np.dot(Wh, h_prev) + bh)\n",
    "    \n",
    "    # 출력 계산\n",
    "    y_t = np.dot(Wy, h_t) + by\n",
    "    \n",
    "    # 현재 시점의 은닉 상태를 다음 시점을 위해 저장\n",
    "    h_prev = h_t\n",
    "\n",
    "    # 결과 출력\n",
    "    print(\"Time step\", t+1)\n",
    "    print(\"Input:\", x_t.T)\n",
    "    print(\"Output:\", y_t)"
   ]
  }
 ],
 "metadata": {
  "kernelspec": {
   "display_name": "mp",
   "language": "python",
   "name": "python3"
  },
  "language_info": {
   "codemirror_mode": {
    "name": "ipython",
    "version": 3
   },
   "file_extension": ".py",
   "mimetype": "text/x-python",
   "name": "python",
   "nbconvert_exporter": "python",
   "pygments_lexer": "ipython3",
   "version": "3.7.12"
  }
 },
 "nbformat": 4,
 "nbformat_minor": 2
}
