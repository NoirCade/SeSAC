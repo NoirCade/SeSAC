{
 "cells": [
  {
   "cell_type": "markdown",
   "metadata": {},
   "source": [
    "지도학습 (X: 원인, Y: 결과 둘 다 입력!) - 문제와 답을 알려주고 새로운 문제에 대해 답을 내고자 함  \n",
    "    예측: 새로운 X값들에 대해 Y값이 어떻게 될 것인지를 예측  \n",
    "    분류: Y값이 어떤 그룹에 속할지를 분류  \n",
    "        결과 그룹이 두개 - 이항 분류(생존:1, 사망:0)  \n",
    "            학습할 때는 결과값을 0이나 1로 학습하지만, 머신러닝이나 딥러닝을 통해 도출한 결과값은  \n",
    "            0 ~ 1 사이의 값이 출력되도록 하여 임계값 이상이면 1, 이하면 0이 출력되도록 함\n",
    "        결과 그룹이 여러개 - 다항 분류  \n",
    "\n",
    "\n",
    "    우리가 어떤 문제를 머신러닝/딥러닝을 통해 해결해야 한다면, 우선 예측인지 분류인지부터 생각해보자 \n",
    "        (사실 대부분은 분류의 문제)  \n",
    "\n",
    "비지도학습 (X: 원인 만 입력!)  \n",
    "    클러스터링  \n",
    "    생성  \n",
    "    (예측, 분류도 포함)  "
   ]
  },
  {
   "cell_type": "markdown",
   "metadata": {},
   "source": [
    "머신러닝 - 약속되어있는 통계적 수학 공식을 사용하여 오차를 계산하고 그 오차가 최소화되는\n",
    "    최소제곱법에 의해서 w, b 결과를 찾아낸다  \n",
    "\n",
    "딥러닝 - 무작위로 w, b를 만들어서 최소한의 공식만을 제공하여 계산하는데, 그 오차가 최소화되도록\n",
    "    경사하강을 반복하며 w, b 결과를 찾아낸다  "
   ]
  },
  {
   "cell_type": "code",
   "execution_count": 31,
   "metadata": {},
   "outputs": [],
   "source": [
    "import numpy as np\n",
    "from sklearn.linear_model import LinearRegression"
   ]
  },
  {
   "cell_type": "code",
   "execution_count": 32,
   "metadata": {},
   "outputs": [
    {
     "data": {
      "text/plain": [
       "(9, 9, 1.3333333333333333, 57.77777777777778)"
      ]
     },
     "execution_count": 32,
     "metadata": {},
     "output_type": "execute_result"
    }
   ],
   "source": [
    "#### 데이터 준비\n",
    "\n",
    "x = np.array([1,2,1,1,1,2,2,1,1])       \n",
    "y = np.array([100,200,100,50,10,20,20,10,10])\n",
    "len(x),len(y),x.mean(), y.mean()"
   ]
  },
  {
   "cell_type": "code",
   "execution_count": 33,
   "metadata": {},
   "outputs": [],
   "source": [
    "model = LinearRegression()  # 추정기 활성화\n",
    "model.fit(np.reshape(x, (-1, 1)), y)    # w, b가 생성됨\n",
    "w, b = model.coef_, model.intercept_"
   ]
  },
  {
   "cell_type": "code",
   "execution_count": 34,
   "metadata": {},
   "outputs": [
    {
     "data": {
      "text/plain": [
       "(array([[113.33333333]]), array([113.33333333]))"
      ]
     },
     "execution_count": 34,
     "metadata": {},
     "output_type": "execute_result"
    }
   ],
   "source": [
    "newX = 3\n",
    "newX = np.reshape(newX, (-1, 1))\n",
    "newY = newX*w + b\n",
    "newY, model.predict(newX)"
   ]
  },
  {
   "cell_type": "markdown",
   "metadata": {},
   "source": [
    "훈련 데이터 -> w, b값의 조절에 관여하는 데이터  \n",
    "검증 데이터 -> 조절된 w, b값이 잘 되어있는지 확인하기 위한 데이터 -> 테스트 데이터로 사용되기도 함  \n",
    "\n",
    "고전적인 머신러닝은 이미 공식이 만들어져있으므로, 검증이 불필요!  \n",
    "    이미 만들어진 공식을 변경할 수 없으므로 훈련데이터를 이용해서 w, b만 fit 후 계산  \n",
    "    이 w, b 값이 좋은 값인지를 테스트 데이터로 확인한다(오차가 작은지, 일치 확률이 어떤지) - 모델 검증  \n",
    "    => 결과값이 좋으면 이 모델을 확정해서 새로운 데이터를 연동해본다  \n",
    "\n",
    "딥러닝은 무작위로 w, b를 설정하고 훈련에 넣어 오차를 계산하고, 그 오차를 0으로 만들기 위해서  \n",
    "경사 하강(오차 역전파)를 실시하여 훈련데이터는 무조건 오차가 줄어든다.  \n",
    "    그러면 이 w, b 값이 좋은 값인지 확인하기 위해서, 검증 데이터를 그때 그때 넣어서 오차를 확인한다!  \n",
    "    => 좋은 케이스: 훈련 데이터의 오차도 줄어들고, 검증 데이터의 오차도 줄어드는 경우! -> 계속 돌려도 된다  \n",
    "    => 중단해야하는 경우(과적합): 훈련 데이터의 오차는 줄어드는데, 검증 데이터의 오차는 커지는 지점  \n",
    "\n",
    "최종 작업이 다 끝나면 생성된 w, b가 들어있는 모델에 테스트 데이터를 넣어서 모델을 검증  \n",
    "=> 결과값이 좋으면 이 모델을 확정해서 새로운 데이터를 연동해본다  "
   ]
  },
  {
   "cell_type": "markdown",
   "metadata": {},
   "source": [
    "중요사항!  \n",
    "    훈련 데이터는 fit하지만, 테스트 데이터는 fit하지 않는다"
   ]
  },
  {
   "cell_type": "markdown",
   "metadata": {},
   "source": [
    "https://wikidocs.net/42596"
   ]
  },
  {
   "cell_type": "code",
   "execution_count": 35,
   "metadata": {},
   "outputs": [],
   "source": [
    "import pandas as pd\n",
    "from sklearn.preprocessing import OneHotEncoder\n",
    "from sklearn.compose import make_column_transformer\n",
    "from sklearn.linear_model import LogisticRegression\n",
    "import numpy as np"
   ]
  },
  {
   "cell_type": "code",
   "execution_count": 36,
   "metadata": {},
   "outputs": [],
   "source": [
    "train_df = pd.read_excel('https://github.com/cranberryai/todak_todak_python/blob/master/machine_learning/binary_classification/%E1%84%90%E1%85%A1%E1%84%8B%E1%85%B5%E1%84%90%E1%85%A1%E1%84%82%E1%85%B5%E1%86%A8_b0fdSDZ.xlsx?raw=true', sheet_name='train')\n",
    "test_df = pd.read_excel('https://github.com/cranberryai/todak_todak_python/blob/master/machine_learning/binary_classification/%E1%84%90%E1%85%A1%E1%84%8B%E1%85%B5%E1%84%90%E1%85%A1%E1%84%82%E1%85%B5%E1%86%A8_b0fdSDZ.xlsx?raw=true', sheet_name='test')"
   ]
  },
  {
   "cell_type": "code",
   "execution_count": 37,
   "metadata": {},
   "outputs": [
    {
     "data": {
      "text/html": [
       "<div>\n",
       "<style scoped>\n",
       "    .dataframe tbody tr th:only-of-type {\n",
       "        vertical-align: middle;\n",
       "    }\n",
       "\n",
       "    .dataframe tbody tr th {\n",
       "        vertical-align: top;\n",
       "    }\n",
       "\n",
       "    .dataframe thead th {\n",
       "        text-align: right;\n",
       "    }\n",
       "</style>\n",
       "<table border=\"1\" class=\"dataframe\">\n",
       "  <thead>\n",
       "    <tr style=\"text-align: right;\">\n",
       "      <th></th>\n",
       "      <th>pclass</th>\n",
       "      <th>name</th>\n",
       "      <th>sex</th>\n",
       "      <th>age</th>\n",
       "      <th>sibsp</th>\n",
       "      <th>parch</th>\n",
       "      <th>ticket</th>\n",
       "      <th>fare</th>\n",
       "      <th>embarked</th>\n",
       "      <th>survival</th>\n",
       "    </tr>\n",
       "  </thead>\n",
       "  <tbody>\n",
       "    <tr>\n",
       "      <th>0</th>\n",
       "      <td>2</td>\n",
       "      <td>Lehmann, Miss. Bertha</td>\n",
       "      <td>Female</td>\n",
       "      <td>17</td>\n",
       "      <td>0</td>\n",
       "      <td>0</td>\n",
       "      <td>SC 1748</td>\n",
       "      <td>12.00</td>\n",
       "      <td>C</td>\n",
       "      <td>1</td>\n",
       "    </tr>\n",
       "    <tr>\n",
       "      <th>1</th>\n",
       "      <td>3</td>\n",
       "      <td>Laitinen, Miss. Kristina Sofia</td>\n",
       "      <td>Female</td>\n",
       "      <td>37</td>\n",
       "      <td>0</td>\n",
       "      <td>0</td>\n",
       "      <td>4135</td>\n",
       "      <td>9.59</td>\n",
       "      <td>S</td>\n",
       "      <td>0</td>\n",
       "    </tr>\n",
       "    <tr>\n",
       "      <th>2</th>\n",
       "      <td>3</td>\n",
       "      <td>Rosblom, Mr. Viktor Richard</td>\n",
       "      <td>Male</td>\n",
       "      <td>18</td>\n",
       "      <td>1</td>\n",
       "      <td>1</td>\n",
       "      <td>370129</td>\n",
       "      <td>20.21</td>\n",
       "      <td>S</td>\n",
       "      <td>0</td>\n",
       "    </tr>\n",
       "    <tr>\n",
       "      <th>3</th>\n",
       "      <td>3</td>\n",
       "      <td>Karaic, Mr. Milan</td>\n",
       "      <td>Male</td>\n",
       "      <td>30</td>\n",
       "      <td>0</td>\n",
       "      <td>0</td>\n",
       "      <td>349246</td>\n",
       "      <td>7.90</td>\n",
       "      <td>S</td>\n",
       "      <td>0</td>\n",
       "    </tr>\n",
       "    <tr>\n",
       "      <th>4</th>\n",
       "      <td>3</td>\n",
       "      <td>Moen, Mr. Sigurd Hansen</td>\n",
       "      <td>Male</td>\n",
       "      <td>25</td>\n",
       "      <td>0</td>\n",
       "      <td>0</td>\n",
       "      <td>348123</td>\n",
       "      <td>7.65</td>\n",
       "      <td>S</td>\n",
       "      <td>0</td>\n",
       "    </tr>\n",
       "  </tbody>\n",
       "</table>\n",
       "</div>"
      ],
      "text/plain": [
       "   pclass                            name     sex  age  sibsp  parch   ticket  \\\n",
       "0       2           Lehmann, Miss. Bertha  Female   17      0      0  SC 1748   \n",
       "1       3  Laitinen, Miss. Kristina Sofia  Female   37      0      0     4135   \n",
       "2       3     Rosblom, Mr. Viktor Richard    Male   18      1      1   370129   \n",
       "3       3               Karaic, Mr. Milan    Male   30      0      0   349246   \n",
       "4       3         Moen, Mr. Sigurd Hansen    Male   25      0      0   348123   \n",
       "\n",
       "    fare embarked  survival  \n",
       "0  12.00        C         1  \n",
       "1   9.59        S         0  \n",
       "2  20.21        S         0  \n",
       "3   7.90        S         0  \n",
       "4   7.65        S         0  "
      ]
     },
     "execution_count": 37,
     "metadata": {},
     "output_type": "execute_result"
    }
   ],
   "source": [
    "labels = ['사망', '생존']\n",
    "train_df.head()"
   ]
  },
  {
   "cell_type": "code",
   "execution_count": 38,
   "metadata": {},
   "outputs": [],
   "source": [
    "##########데이터 분석 => 어떤 값들이 필요하고 필요하지 않은가를 분석\n",
    "\n",
    "##########데이터 전처리 => 필요없을 것으로 생각된 변수들 + y값으로 사용할 변수를 제거\n",
    "\n",
    "x_train = train_df.drop(['name', 'ticket', 'survival'], axis=1)\n",
    "x_test = test_df.drop(['name', 'ticket', 'survival'], axis=1)\n",
    "y_train = train_df['survival']\n",
    "y_test = test_df['survival']"
   ]
  },
  {
   "cell_type": "code",
   "execution_count": 39,
   "metadata": {},
   "outputs": [
    {
     "data": {
      "text/html": [
       "<div>\n",
       "<style scoped>\n",
       "    .dataframe tbody tr th:only-of-type {\n",
       "        vertical-align: middle;\n",
       "    }\n",
       "\n",
       "    .dataframe tbody tr th {\n",
       "        vertical-align: top;\n",
       "    }\n",
       "\n",
       "    .dataframe thead th {\n",
       "        text-align: right;\n",
       "    }\n",
       "</style>\n",
       "<table border=\"1\" class=\"dataframe\">\n",
       "  <thead>\n",
       "    <tr style=\"text-align: right;\">\n",
       "      <th></th>\n",
       "      <th>pclass</th>\n",
       "      <th>sex</th>\n",
       "      <th>age</th>\n",
       "      <th>sibsp</th>\n",
       "      <th>parch</th>\n",
       "      <th>fare</th>\n",
       "      <th>embarked</th>\n",
       "    </tr>\n",
       "  </thead>\n",
       "  <tbody>\n",
       "    <tr>\n",
       "      <th>0</th>\n",
       "      <td>2</td>\n",
       "      <td>Female</td>\n",
       "      <td>17</td>\n",
       "      <td>0</td>\n",
       "      <td>0</td>\n",
       "      <td>12.00</td>\n",
       "      <td>C</td>\n",
       "    </tr>\n",
       "    <tr>\n",
       "      <th>1</th>\n",
       "      <td>3</td>\n",
       "      <td>Female</td>\n",
       "      <td>37</td>\n",
       "      <td>0</td>\n",
       "      <td>0</td>\n",
       "      <td>9.59</td>\n",
       "      <td>S</td>\n",
       "    </tr>\n",
       "    <tr>\n",
       "      <th>2</th>\n",
       "      <td>3</td>\n",
       "      <td>Male</td>\n",
       "      <td>18</td>\n",
       "      <td>1</td>\n",
       "      <td>1</td>\n",
       "      <td>20.21</td>\n",
       "      <td>S</td>\n",
       "    </tr>\n",
       "    <tr>\n",
       "      <th>3</th>\n",
       "      <td>3</td>\n",
       "      <td>Male</td>\n",
       "      <td>30</td>\n",
       "      <td>0</td>\n",
       "      <td>0</td>\n",
       "      <td>7.90</td>\n",
       "      <td>S</td>\n",
       "    </tr>\n",
       "    <tr>\n",
       "      <th>4</th>\n",
       "      <td>3</td>\n",
       "      <td>Male</td>\n",
       "      <td>25</td>\n",
       "      <td>0</td>\n",
       "      <td>0</td>\n",
       "      <td>7.65</td>\n",
       "      <td>S</td>\n",
       "    </tr>\n",
       "  </tbody>\n",
       "</table>\n",
       "</div>"
      ],
      "text/plain": [
       "   pclass     sex  age  sibsp  parch   fare embarked\n",
       "0       2  Female   17      0      0  12.00        C\n",
       "1       3  Female   37      0      0   9.59        S\n",
       "2       3    Male   18      1      1  20.21        S\n",
       "3       3    Male   30      0      0   7.90        S\n",
       "4       3    Male   25      0      0   7.65        S"
      ]
     },
     "execution_count": 39,
     "metadata": {},
     "output_type": "execute_result"
    }
   ],
   "source": [
    "x_train.head()\n",
    "\n",
    "# 머신러닝에 사용되는 데이터는 문자 데이터 없이 벡터 데이터만 있어야 하므로 sex, embarked 컬럼의 수정 필요\n",
    "# sex 컬럼에서 Male = 0, Female = 1로 변경\n",
    "# embarked를 0~3으로 변경할 경우, 이 값들의 크기가 의미를 가지는지 고민해보아야 한다.\n",
    "# 값들의 크기에 의미가 없고, 학습에 영향을 줄 가능성이 있다면 더미변수화/원핫인코딩 필요 -> 0과 1의 벡터값으로 바꾼다"
   ]
  },
  {
   "cell_type": "code",
   "execution_count": 40,
   "metadata": {},
   "outputs": [],
   "source": [
    "transformer = make_column_transformer(\n",
    "    (OneHotEncoder(), ['pclass', 'sex', 'embarked']),\n",
    "    remainder='passthrough')\n",
    "transformer.fit(x_train)\n",
    "x_train = transformer.transform(x_train)\n",
    "x_test = transformer.transform(x_test)"
   ]
  },
  {
   "cell_type": "code",
   "execution_count": 41,
   "metadata": {},
   "outputs": [
    {
     "data": {
      "text/plain": [
       "array([[ 0.  ,  1.  ,  0.  , ...,  0.  ,  0.  , 12.  ],\n",
       "       [ 0.  ,  0.  ,  1.  , ...,  0.  ,  0.  ,  9.59],\n",
       "       [ 0.  ,  0.  ,  1.  , ...,  1.  ,  1.  , 20.21],\n",
       "       ...,\n",
       "       [ 0.  ,  0.  ,  1.  , ...,  0.  ,  0.  ,  8.66],\n",
       "       [ 1.  ,  0.  ,  0.  , ...,  1.  ,  1.  , 52.55],\n",
       "       [ 0.  ,  1.  ,  0.  , ...,  1.  ,  0.  , 26.  ]])"
      ]
     },
     "execution_count": 41,
     "metadata": {},
     "output_type": "execute_result"
    }
   ],
   "source": [
    "x_train"
   ]
  },
  {
   "cell_type": "code",
   "execution_count": 42,
   "metadata": {},
   "outputs": [
    {
     "name": "stdout",
     "output_type": "stream",
     "text": [
      "0.7945205479452054\n",
      "0.7763578274760383\n"
     ]
    },
    {
     "name": "stderr",
     "output_type": "stream",
     "text": [
      "c:\\Users\\bluecom015\\miniconda3\\envs\\mp\\lib\\site-packages\\sklearn\\linear_model\\_logistic.py:818: ConvergenceWarning: lbfgs failed to converge (status=1):\n",
      "STOP: TOTAL NO. of ITERATIONS REACHED LIMIT.\n",
      "\n",
      "Increase the number of iterations (max_iter) or scale the data as shown in:\n",
      "    https://scikit-learn.org/stable/modules/preprocessing.html\n",
      "Please also refer to the documentation for alternative solver options:\n",
      "    https://scikit-learn.org/stable/modules/linear_model.html#logistic-regression\n",
      "  extra_warning_msg=_LOGISTIC_SOLVER_CONVERGENCE_MSG,\n"
     ]
    }
   ],
   "source": [
    "##########모델 생성\n",
    "\n",
    "model = LogisticRegression()\n",
    "\n",
    "##########모델 학습\n",
    "\n",
    "model.fit(x_train, y_train)\n",
    "\n",
    "##########모델 검증\n",
    "\n",
    "print(model.score(x_train, y_train)) #0.7945205479452054\n",
    "\n",
    "print(model.score(x_test, y_test)) #0.7795527156549521"
   ]
  },
  {
   "cell_type": "code",
   "execution_count": 48,
   "metadata": {},
   "outputs": [
    {
     "data": {
      "text/plain": [
       "array([1, 0, 0, 0, 1], dtype=int64)"
      ]
     },
     "execution_count": 48,
     "metadata": {},
     "output_type": "execute_result"
    }
   ],
   "source": [
    "model.predict(x_test)[:5]"
   ]
  },
  {
   "cell_type": "code",
   "execution_count": 49,
   "metadata": {},
   "outputs": [
    {
     "data": {
      "text/plain": [
       "array([[0.13255893, 0.86744107],\n",
       "       [0.90263844, 0.09736156],\n",
       "       [0.60909944, 0.39090056],\n",
       "       [0.82349029, 0.17650971],\n",
       "       [0.36005814, 0.63994186]])"
      ]
     },
     "execution_count": 49,
     "metadata": {},
     "output_type": "execute_result"
    }
   ],
   "source": [
    "model.predict_proba(x_test)[:5]"
   ]
  },
  {
   "cell_type": "code",
   "execution_count": 44,
   "metadata": {},
   "outputs": [],
   "source": [
    "##########모델 예측 - 새로운 값을 넣어서 테스트\n",
    "\n",
    "newx_test = [\n",
    "    [2, 'Female', 21, 0, 1, 21.00, 'S']\n",
    "    ]\n",
    "newx_test = pd.DataFrame(newx_test, columns=['pclass', 'sex', 'age', 'sibsp', 'parch', 'fare', 'embarked'])\n",
    "newx_test = transformer.transform(newx_test)"
   ]
  },
  {
   "cell_type": "code",
   "execution_count": 45,
   "metadata": {},
   "outputs": [
    {
     "name": "stdout",
     "output_type": "stream",
     "text": [
      "생존 0.8674410714255265\n"
     ]
    }
   ],
   "source": [
    "y_predict = model.predict(newx_test)\n",
    "label = labels[y_predict[0]]\n",
    "y_predict = model.predict_proba(newx_test)\n",
    "confidence = y_predict[0][y_predict[0].argmax()]\n",
    "\n",
    "print(label, confidence) #"
   ]
  }
 ],
 "metadata": {
  "kernelspec": {
   "display_name": "mp",
   "language": "python",
   "name": "python3"
  },
  "language_info": {
   "codemirror_mode": {
    "name": "ipython",
    "version": 3
   },
   "file_extension": ".py",
   "mimetype": "text/x-python",
   "name": "python",
   "nbconvert_exporter": "python",
   "pygments_lexer": "ipython3",
   "version": "3.7.12"
  }
 },
 "nbformat": 4,
 "nbformat_minor": 2
}
