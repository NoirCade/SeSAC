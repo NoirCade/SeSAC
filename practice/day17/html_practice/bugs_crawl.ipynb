{
 "cells": [
  {
   "cell_type": "code",
   "execution_count": null,
   "metadata": {},
   "outputs": [],
   "source": [
    "# step1.프로젝트에 필요한 패키지 불러오기\n",
    "from bs4 import BeautifulSoup as bs\n",
    "import requests\n",
    "\n",
    "\n",
    "# step2. 검색할 키워드 입력\n",
    "# query = '손흥민'\n",
    "\n",
    "\n",
    "# step3. 입력받은 query가 포함된 url 주소(네이버 뉴스 검색 결과 페이지) 저장\n",
    "url = 'https://music.bugs.co.kr/chart'\n",
    "\n",
    "\n",
    "# step4. requests 패키지를 이용해 'url'의 html 문서 가져오기\n",
    "response = requests.get(url)\n",
    "html_text = response.text\n",
    "\n",
    "\n",
    "# step5. beautifulsoup 패키지로 파싱 후, 'soup' 변수에 저장\n",
    "soup = bs(response.text, 'html.parser')\n",
    "soup"
   ]
  },
  {
   "cell_type": "code",
   "execution_count": null,
   "metadata": {},
   "outputs": [],
   "source": [
    "album_titles = soup.select(\"p.title\")\n",
    "artist_names = soup.select(\"p.artist\")\n",
    "album_names = soup.select(\"a.album\")\n",
    "covers = soup.select(\"img\")\n",
    "cnt = 0\n",
    "\n",
    "\n",
    "for tit, art, alb in zip(album_titles, artist_names, album_names):\n",
    "    title = tit.get_text()\n",
    "    artist = art.get_text()\n",
    "    album = alb.get_text()\n",
    "    cnt += 1\n",
    "\n",
    "    print(f'{cnt}위 제목: {title}, 가수: {artist}, 앨범: {album}')\n"
   ]
  },
  {
   "cell_type": "code",
   "execution_count": 20,
   "metadata": {},
   "outputs": [],
   "source": [
    "for cov in covers:\n",
    "    cover = cov.get_text()\n",
    "    print(cover)"
   ]
  }
 ],
 "metadata": {
  "kernelspec": {
   "display_name": "study",
   "language": "python",
   "name": "python3"
  },
  "language_info": {
   "codemirror_mode": {
    "name": "ipython",
    "version": 3
   },
   "file_extension": ".py",
   "mimetype": "text/x-python",
   "name": "python",
   "nbconvert_exporter": "python",
   "pygments_lexer": "ipython3",
   "version": "3.12.1"
  }
 },
 "nbformat": 4,
 "nbformat_minor": 2
}
