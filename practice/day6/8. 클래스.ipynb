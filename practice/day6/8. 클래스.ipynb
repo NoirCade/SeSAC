{
 "cells": [
  {
   "cell_type": "code",
   "execution_count": 2,
   "metadata": {},
   "outputs": [
    {
     "name": "stdout",
     "output_type": "stream",
     "text": [
      "-----------------\n",
      "bu사용자가 작업합니다.\n"
     ]
    },
    {
     "ename": "AttributeError",
     "evalue": "type object 'cal' has no attribute 'total'",
     "output_type": "error",
     "traceback": [
      "\u001b[1;31m---------------------------------------------------------------------------\u001b[0m",
      "\u001b[1;31mAttributeError\u001b[0m                            Traceback (most recent call last)",
      "Cell \u001b[1;32mIn[2], line 15\u001b[0m\n\u001b[0;32m     12\u001b[0m         \u001b[38;5;28;01melse\u001b[39;00m:\n\u001b[0;32m     13\u001b[0m             \u001b[38;5;28mprint\u001b[39m(x)\n\u001b[1;32m---> 15\u001b[0m \u001b[43mcal\u001b[49m\u001b[43m(\u001b[49m\u001b[43m)\u001b[49m\n\u001b[0;32m     16\u001b[0m cal\u001b[38;5;241m.\u001b[39mtest()\n",
      "Cell \u001b[1;32mIn[2], line 6\u001b[0m, in \u001b[0;36mcal.__init__\u001b[1;34m(self, userName)\u001b[0m\n\u001b[0;32m      4\u001b[0m \u001b[38;5;28mself\u001b[39m\u001b[38;5;241m.\u001b[39mname\u001b[38;5;241m=\u001b[39muserName\n\u001b[0;32m      5\u001b[0m \u001b[38;5;28mprint\u001b[39m(\u001b[38;5;28mself\u001b[39m\u001b[38;5;241m.\u001b[39mname\u001b[38;5;241m+\u001b[39m\u001b[38;5;124m'\u001b[39m\u001b[38;5;124m사용자가 작업합니다.\u001b[39m\u001b[38;5;124m'\u001b[39m)\n\u001b[1;32m----> 6\u001b[0m \u001b[43mcal\u001b[49m\u001b[38;5;241;43m.\u001b[39;49m\u001b[43mtotal\u001b[49m\u001b[38;5;241m+\u001b[39m\u001b[38;5;241m=\u001b[39m\u001b[38;5;241m1\u001b[39m\n\u001b[0;32m      7\u001b[0m \u001b[38;5;28mprint\u001b[39m(cal\u001b[38;5;241m.\u001b[39mtotal)\n",
      "\u001b[1;31mAttributeError\u001b[0m: type object 'cal' has no attribute 'total'"
     ]
    }
   ],
   "source": [
    "class cal:\n",
    "    def __init__(self,userName='bu'):\n",
    "        print('-----------------')\n",
    "        self.name=userName\n",
    "        print(self.name+'사용자가 작업합니다.')\n",
    "        cal.total+=1\n",
    "        print(cal.total)\n",
    "\n",
    "    def test(self,x=2):\n",
    "        if self.name!='bu':\n",
    "            print(x*20)\n",
    "        else:\n",
    "            print(x)\n",
    "\n",
    "cal()\n",
    "cal.test()"
   ]
  },
  {
   "cell_type": "code",
   "execution_count": null,
   "metadata": {},
   "outputs": [],
   "source": [
    "class cal:\n",
    "    def __init__(self, v1=3, v2=2):\n",
    "        print('----------------')\n",
    "        self.x=v1\n",
    "        self.y=v2"
   ]
  }
 ],
 "metadata": {
  "kernelspec": {
   "display_name": "study",
   "language": "python",
   "name": "python3"
  },
  "language_info": {
   "codemirror_mode": {
    "name": "ipython",
    "version": 3
   },
   "file_extension": ".py",
   "mimetype": "text/x-python",
   "name": "python",
   "nbconvert_exporter": "python",
   "pygments_lexer": "ipython3",
   "version": "3.12.0"
  }
 },
 "nbformat": 4,
 "nbformat_minor": 2
}
