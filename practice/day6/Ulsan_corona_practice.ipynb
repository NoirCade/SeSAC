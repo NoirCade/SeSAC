{
 "cells": [
  {
   "cell_type": "code",
   "execution_count": 1,
   "metadata": {},
   "outputs": [
    {
     "data": {
      "text/plain": [
       "Text(0.5, 1.0, '가나다')"
      ]
     },
     "execution_count": 1,
     "metadata": {},
     "output_type": "execute_result"
    },
    {
     "data": {
      "image/png": "[encoded data removed]",
      "text/plain": [
       "<Figure size 640x480 with 1 Axes>"
      ]
     },
     "metadata": {},
     "output_type": "display_data"
    }
   ],
   "source": [
    "# matplot 사전 준비 및 확인\n",
    "import matplotlib.pyplot as plt\n",
    "plt.rcParams['font.family']='Malgun Gothic'\n",
    "plt.plot([3,4,5,6])\n",
    "plt.title('가나다')"
   ]
  },
  {
   "cell_type": "code",
   "execution_count": 4,
   "metadata": {},
   "outputs": [
    {
     "name": "stdout",
     "output_type": "stream",
     "text": [
      "[['시도', '시군구', '발생년도', '발생월', '확진자수', '사망자수', '데이터 기준일자'], ['울산광역시', '남구', '2020', '02', '8', '0', '2022-01-26'], ['울산광역시', '남구', '2020', '03', '9', '1', '2022-01-26'], ['울산광역시', '남구', '2020', '04', '1', '0', '2022-01-26'], ['울산광역시', '남구', '2020', '07', '2', '0', '2022-01-26'], ['울산광역시', '남구', '2020', '08', '18', '0', '2022-01-26'], ['울산광역시', '남구', '2020', '09', '20', '0', '2022-01-26'], ['울산광역시', '남구', '2020', '10', '2', '0', '2022-01-26'], ['울산광역시', '남구', '2020', '11', '9', '0', '2022-01-26'], ['울산광역시', '남구', '2020', '12', '292', '22', '2022-01-26'], ['울산광역시', '남구', '2021', '01', '28', '8', '2022-01-26'], ['울산광역시', '남구', '2021', '02', '11', '1', '2022-01-26'], ['울산광역시', '남구', '2021', '03', '18', '0', '2022-01-26'], ['울산광역시', '남구', '2021', '04', '259', '0', '2022-01-26'], ['울산광역시', '남구', '2021', '05', '255', '1', '2022-01-26'], ['울산광역시', '남구', '2021', '06', '58', '0', '2022-01-26'], ['울산광역시', '남구', '2021', '07', '121', '0', '2022-01-26'], ['울산광역시', '남구', '2021', '08', '292', '0', '2022-01-26'], ['울산광역시', '남구', '2021', '09', '316', '5', '2022-01-26'], ['울산광역시', '남구', '2021', '10', '87', '0', '2022-01-26'], ['울산광역시', '남구', '2021', '11', '91', '1', '2022-01-26'], ['울산광역시', '남구', '2021', '12', '299', '1', '2022-01-26'], ['울산광역시', '남구', '2022', '01', '327', '2', '2022-01-26']]\n"
     ]
    }
   ],
   "source": [
    "# 데이터 로드\n",
    "import csv\n",
    "data=[]\n",
    "f=open(r'C:\\Users\\bluecom015\\Desktop\\SeSAC\\data\\울산광역시 남구_코로나19_확진자_및_사망자_현황_20220126.csv','r',encoding='euc-kr')\n",
    "reader=csv.reader(f)\n",
    "for row in reader:\n",
    "    data.append(row)\n",
    "f.close()\n",
    "print(data)"
   ]
  },
  {
   "cell_type": "code",
   "execution_count": 5,
   "metadata": {},
   "outputs": [],
   "source": [
    "# 헤더 정리 및 필요 데이터 추출\n",
    "header=data[0] ; local=data[1:]\n",
    "label=[]\n",
    "\n",
    "for x in local:\n",
    "    label.append(x[2]+'-'+x[3])\n",
    "\n",
    "num=[]\n",
    "for x in local:\n",
    "    num.append(x[4:6])"
   ]
  },
  {
   "cell_type": "code",
   "execution_count": 6,
   "metadata": {},
   "outputs": [
    {
     "data": {
      "text/plain": [
       "[[8, 0],\n",
       " [9, 1],\n",
       " [1, 0],\n",
       " [2, 0],\n",
       " [18, 0],\n",
       " [20, 0],\n",
       " [2, 0],\n",
       " [9, 0],\n",
       " [292, 22],\n",
       " [28, 8],\n",
       " [11, 1],\n",
       " [18, 0],\n",
       " [259, 0],\n",
       " [255, 1],\n",
       " [58, 0],\n",
       " [121, 0],\n",
       " [292, 0],\n",
       " [316, 5],\n",
       " [87, 0],\n",
       " [91, 1],\n",
       " [299, 1],\n",
       " [327, 2]]"
      ]
     },
     "execution_count": 6,
     "metadata": {},
     "output_type": "execute_result"
    }
   ],
   "source": [
    "new_num=[]\n",
    "for x in num:\n",
    "    line=[]\n",
    "\n",
    "    for y in x:\n",
    "        line.append(int(y))\n",
    "    new_num.append(line)\n",
    "\n",
    "new_num"
   ]
  },
  {
   "cell_type": "code",
   "execution_count": null,
   "metadata": {},
   "outputs": [],
   "source": []
  }
 ],
 "metadata": {
  "kernelspec": {
   "display_name": "study",
   "language": "python",
   "name": "python3"
  },
  "language_info": {
   "codemirror_mode": {
    "name": "ipython",
    "version": 3
   },
   "file_extension": ".py",
   "mimetype": "text/x-python",
   "name": "python",
   "nbconvert_exporter": "python",
   "pygments_lexer": "ipython3",
   "version": "3.12.0"
  }
 },
 "nbformat": 4,
 "nbformat_minor": 2
}
