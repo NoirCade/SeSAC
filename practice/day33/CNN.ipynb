{
 "cells": [
  {
   "cell_type": "code",
   "execution_count": 1,
   "metadata": {},
   "outputs": [],
   "source": [
    "from tensorflow.keras import datasets, layers, models\n",
    "import numpy as np\n",
    "from skimage.transform import resize\n",
    "import matplotlib.pyplot as plt\n",
    "import pandas as pd\n",
    "\n",
    "(train_images, train_labels), (test_images, test_labels) = datasets.mnist.load_data()\n",
    "\n",
    "train_images = train_images.reshape((60000, 28, 28, 1))[:50]\n",
    "test_images = test_images.reshape((10000, 28, 28, 1))[:50]\n",
    "train_labels = train_labels[:50]\n",
    "test_labels = test_labels[:50]"
   ]
  },
  {
   "cell_type": "code",
   "execution_count": 2,
   "metadata": {},
   "outputs": [
    {
     "data": {
      "text/plain": [
       "(50, 10, 10, 1)"
      ]
     },
     "execution_count": 2,
     "metadata": {},
     "output_type": "execute_result"
    }
   ],
   "source": [
    "train_images = resize(train_images, (50, 10, 10, 1))\n",
    "test_images = resize(test_images, (50, 10, 10, 1))\n",
    "np.shape(train_images)"
   ]
  },
  {
   "cell_type": "code",
   "execution_count": 3,
   "metadata": {},
   "outputs": [
    {
     "data": {
      "text/plain": [
       "<matplotlib.image.AxesImage at 0x19a6eb8d748>"
      ]
     },
     "execution_count": 3,
     "metadata": {},
     "output_type": "execute_result"
    },
    {
     "data": {
      "image/png": "[encoded data removed]",
      "text/plain": [
       "<Figure size 640x480 with 1 Axes>"
      ]
     },
     "metadata": {},
     "output_type": "display_data"
    }
   ],
   "source": [
    "plt.imshow(np.hstack(train_images[:10]), cmap='gray')"
   ]
  },
  {
   "cell_type": "code",
   "execution_count": 4,
   "metadata": {},
   "outputs": [
    {
     "data": {
      "text/html": [
       "<div>\n",
       "<style scoped>\n",
       "    .dataframe tbody tr th:only-of-type {\n",
       "        vertical-align: middle;\n",
       "    }\n",
       "\n",
       "    .dataframe tbody tr th {\n",
       "        vertical-align: top;\n",
       "    }\n",
       "\n",
       "    .dataframe thead th {\n",
       "        text-align: right;\n",
       "    }\n",
       "</style>\n",
       "<table border=\"1\" class=\"dataframe\">\n",
       "  <thead>\n",
       "    <tr style=\"text-align: right;\">\n",
       "      <th></th>\n",
       "      <th>0</th>\n",
       "      <th>1</th>\n",
       "      <th>2</th>\n",
       "      <th>3</th>\n",
       "      <th>4</th>\n",
       "      <th>5</th>\n",
       "      <th>6</th>\n",
       "      <th>7</th>\n",
       "      <th>8</th>\n",
       "      <th>9</th>\n",
       "    </tr>\n",
       "  </thead>\n",
       "  <tbody>\n",
       "    <tr>\n",
       "      <th>0</th>\n",
       "      <td>0.000000</td>\n",
       "      <td>0.000000e+00</td>\n",
       "      <td>0.000000e+00</td>\n",
       "      <td>3.779813e-09</td>\n",
       "      <td>5.703982e-07</td>\n",
       "      <td>0.000004</td>\n",
       "      <td>1.042152e-05</td>\n",
       "      <td>0.000015</td>\n",
       "      <td>8.009369e-06</td>\n",
       "      <td>1.619335e-08</td>\n",
       "    </tr>\n",
       "    <tr>\n",
       "      <th>1</th>\n",
       "      <td>0.000000</td>\n",
       "      <td>3.493966e-07</td>\n",
       "      <td>7.807178e-04</td>\n",
       "      <td>7.999273e-03</td>\n",
       "      <td>2.619184e-02</td>\n",
       "      <td>0.059819</td>\n",
       "      <td>1.155171e-01</td>\n",
       "      <td>0.155306</td>\n",
       "      <td>7.679844e-02</td>\n",
       "      <td>1.519801e-04</td>\n",
       "    </tr>\n",
       "    <tr>\n",
       "      <th>2</th>\n",
       "      <td>0.000000</td>\n",
       "      <td>9.857660e-05</td>\n",
       "      <td>1.036307e-01</td>\n",
       "      <td>5.545328e-01</td>\n",
       "      <td>7.500384e-01</td>\n",
       "      <td>0.815209</td>\n",
       "      <td>6.413300e-01</td>\n",
       "      <td>0.491694</td>\n",
       "      <td>1.539254e-01</td>\n",
       "      <td>2.481732e-04</td>\n",
       "    </tr>\n",
       "    <tr>\n",
       "      <th>3</th>\n",
       "      <td>0.000000</td>\n",
       "      <td>2.617595e-05</td>\n",
       "      <td>5.656854e-02</td>\n",
       "      <td>4.300613e-01</td>\n",
       "      <td>8.046835e-01</td>\n",
       "      <td>0.233121</td>\n",
       "      <td>1.624373e-01</td>\n",
       "      <td>0.008346</td>\n",
       "      <td>1.218553e-03</td>\n",
       "      <td>5.837837e-07</td>\n",
       "    </tr>\n",
       "    <tr>\n",
       "      <th>4</th>\n",
       "      <td>0.000000</td>\n",
       "      <td>9.748591e-09</td>\n",
       "      <td>1.279662e-04</td>\n",
       "      <td>2.502775e-02</td>\n",
       "      <td>5.374982e-01</td>\n",
       "      <td>0.290856</td>\n",
       "      <td>3.380014e-02</td>\n",
       "      <td>0.000305</td>\n",
       "      <td>1.190274e-08</td>\n",
       "      <td>0.000000e+00</td>\n",
       "    </tr>\n",
       "    <tr>\n",
       "      <th>5</th>\n",
       "      <td>0.000000</td>\n",
       "      <td>0.000000e+00</td>\n",
       "      <td>6.266862e-09</td>\n",
       "      <td>2.610279e-04</td>\n",
       "      <td>6.696573e-02</td>\n",
       "      <td>0.564458</td>\n",
       "      <td>5.666593e-01</td>\n",
       "      <td>0.047100</td>\n",
       "      <td>1.411354e-05</td>\n",
       "      <td>0.000000e+00</td>\n",
       "    </tr>\n",
       "    <tr>\n",
       "      <th>6</th>\n",
       "      <td>0.000000</td>\n",
       "      <td>4.497760e-08</td>\n",
       "      <td>3.063738e-05</td>\n",
       "      <td>3.220381e-03</td>\n",
       "      <td>7.633813e-02</td>\n",
       "      <td>0.401042</td>\n",
       "      <td>8.656932e-01</td>\n",
       "      <td>0.157746</td>\n",
       "      <td>1.073702e-04</td>\n",
       "      <td>0.000000e+00</td>\n",
       "    </tr>\n",
       "    <tr>\n",
       "      <th>7</th>\n",
       "      <td>0.000008</td>\n",
       "      <td>5.200728e-03</td>\n",
       "      <td>7.889449e-02</td>\n",
       "      <td>3.434775e-01</td>\n",
       "      <td>7.748787e-01</td>\n",
       "      <td>0.739755</td>\n",
       "      <td>3.174749e-01</td>\n",
       "      <td>0.021589</td>\n",
       "      <td>2.289392e-06</td>\n",
       "      <td>0.000000e+00</td>\n",
       "    </tr>\n",
       "    <tr>\n",
       "      <th>8</th>\n",
       "      <td>0.000387</td>\n",
       "      <td>2.102920e-01</td>\n",
       "      <td>6.982965e-01</td>\n",
       "      <td>7.215174e-01</td>\n",
       "      <td>3.777502e-01</td>\n",
       "      <td>0.048582</td>\n",
       "      <td>1.853358e-03</td>\n",
       "      <td>0.000010</td>\n",
       "      <td>1.813034e-10</td>\n",
       "      <td>0.000000e+00</td>\n",
       "    </tr>\n",
       "    <tr>\n",
       "      <th>9</th>\n",
       "      <td>0.000029</td>\n",
       "      <td>1.430609e-02</td>\n",
       "      <td>3.384249e-02</td>\n",
       "      <td>1.997844e-02</td>\n",
       "      <td>1.852532e-03</td>\n",
       "      <td>0.000012</td>\n",
       "      <td>1.298005e-08</td>\n",
       "      <td>0.000000</td>\n",
       "      <td>0.000000e+00</td>\n",
       "      <td>0.000000e+00</td>\n",
       "    </tr>\n",
       "  </tbody>\n",
       "</table>\n",
       "</div>"
      ],
      "text/plain": [
       "          0             1             2             3             4         5  \\\n",
       "0  0.000000  0.000000e+00  0.000000e+00  3.779813e-09  5.703982e-07  0.000004   \n",
       "1  0.000000  3.493966e-07  7.807178e-04  7.999273e-03  2.619184e-02  0.059819   \n",
       "2  0.000000  9.857660e-05  1.036307e-01  5.545328e-01  7.500384e-01  0.815209   \n",
       "3  0.000000  2.617595e-05  5.656854e-02  4.300613e-01  8.046835e-01  0.233121   \n",
       "4  0.000000  9.748591e-09  1.279662e-04  2.502775e-02  5.374982e-01  0.290856   \n",
       "5  0.000000  0.000000e+00  6.266862e-09  2.610279e-04  6.696573e-02  0.564458   \n",
       "6  0.000000  4.497760e-08  3.063738e-05  3.220381e-03  7.633813e-02  0.401042   \n",
       "7  0.000008  5.200728e-03  7.889449e-02  3.434775e-01  7.748787e-01  0.739755   \n",
       "8  0.000387  2.102920e-01  6.982965e-01  7.215174e-01  3.777502e-01  0.048582   \n",
       "9  0.000029  1.430609e-02  3.384249e-02  1.997844e-02  1.852532e-03  0.000012   \n",
       "\n",
       "              6         7             8             9  \n",
       "0  1.042152e-05  0.000015  8.009369e-06  1.619335e-08  \n",
       "1  1.155171e-01  0.155306  7.679844e-02  1.519801e-04  \n",
       "2  6.413300e-01  0.491694  1.539254e-01  2.481732e-04  \n",
       "3  1.624373e-01  0.008346  1.218553e-03  5.837837e-07  \n",
       "4  3.380014e-02  0.000305  1.190274e-08  0.000000e+00  \n",
       "5  5.666593e-01  0.047100  1.411354e-05  0.000000e+00  \n",
       "6  8.656932e-01  0.157746  1.073702e-04  0.000000e+00  \n",
       "7  3.174749e-01  0.021589  2.289392e-06  0.000000e+00  \n",
       "8  1.853358e-03  0.000010  1.813034e-10  0.000000e+00  \n",
       "9  1.298005e-08  0.000000  0.000000e+00  0.000000e+00  "
      ]
     },
     "execution_count": 4,
     "metadata": {},
     "output_type": "execute_result"
    }
   ],
   "source": [
    "pd.DataFrame(np.vstack(train_images[0]).reshape(10, 10))"
   ]
  },
  {
   "cell_type": "code",
   "execution_count": 5,
   "metadata": {},
   "outputs": [
    {
     "data": {
      "text/html": [
       "<div>\n",
       "<style scoped>\n",
       "    .dataframe tbody tr th:only-of-type {\n",
       "        vertical-align: middle;\n",
       "    }\n",
       "\n",
       "    .dataframe tbody tr th {\n",
       "        vertical-align: top;\n",
       "    }\n",
       "\n",
       "    .dataframe thead th {\n",
       "        text-align: right;\n",
       "    }\n",
       "</style>\n",
       "<table border=\"1\" class=\"dataframe\">\n",
       "  <thead>\n",
       "    <tr style=\"text-align: right;\">\n",
       "      <th></th>\n",
       "      <th>0</th>\n",
       "      <th>1</th>\n",
       "      <th>2</th>\n",
       "      <th>3</th>\n",
       "      <th>4</th>\n",
       "      <th>5</th>\n",
       "      <th>6</th>\n",
       "      <th>7</th>\n",
       "      <th>8</th>\n",
       "      <th>9</th>\n",
       "    </tr>\n",
       "  </thead>\n",
       "  <tbody>\n",
       "    <tr>\n",
       "      <th>0</th>\n",
       "      <td>0</td>\n",
       "      <td>0</td>\n",
       "      <td>0</td>\n",
       "      <td>0</td>\n",
       "      <td>0</td>\n",
       "      <td>0</td>\n",
       "      <td>0</td>\n",
       "      <td>0</td>\n",
       "      <td>0</td>\n",
       "      <td>0</td>\n",
       "    </tr>\n",
       "    <tr>\n",
       "      <th>1</th>\n",
       "      <td>0</td>\n",
       "      <td>0</td>\n",
       "      <td>0</td>\n",
       "      <td>0</td>\n",
       "      <td>0</td>\n",
       "      <td>0</td>\n",
       "      <td>1</td>\n",
       "      <td>1</td>\n",
       "      <td>0</td>\n",
       "      <td>0</td>\n",
       "    </tr>\n",
       "    <tr>\n",
       "      <th>2</th>\n",
       "      <td>0</td>\n",
       "      <td>0</td>\n",
       "      <td>1</td>\n",
       "      <td>5</td>\n",
       "      <td>7</td>\n",
       "      <td>8</td>\n",
       "      <td>6</td>\n",
       "      <td>4</td>\n",
       "      <td>1</td>\n",
       "      <td>0</td>\n",
       "    </tr>\n",
       "    <tr>\n",
       "      <th>3</th>\n",
       "      <td>0</td>\n",
       "      <td>0</td>\n",
       "      <td>0</td>\n",
       "      <td>4</td>\n",
       "      <td>8</td>\n",
       "      <td>2</td>\n",
       "      <td>1</td>\n",
       "      <td>0</td>\n",
       "      <td>0</td>\n",
       "      <td>0</td>\n",
       "    </tr>\n",
       "    <tr>\n",
       "      <th>4</th>\n",
       "      <td>0</td>\n",
       "      <td>0</td>\n",
       "      <td>0</td>\n",
       "      <td>0</td>\n",
       "      <td>5</td>\n",
       "      <td>2</td>\n",
       "      <td>0</td>\n",
       "      <td>0</td>\n",
       "      <td>0</td>\n",
       "      <td>0</td>\n",
       "    </tr>\n",
       "    <tr>\n",
       "      <th>5</th>\n",
       "      <td>0</td>\n",
       "      <td>0</td>\n",
       "      <td>0</td>\n",
       "      <td>0</td>\n",
       "      <td>0</td>\n",
       "      <td>5</td>\n",
       "      <td>5</td>\n",
       "      <td>0</td>\n",
       "      <td>0</td>\n",
       "      <td>0</td>\n",
       "    </tr>\n",
       "    <tr>\n",
       "      <th>6</th>\n",
       "      <td>0</td>\n",
       "      <td>0</td>\n",
       "      <td>0</td>\n",
       "      <td>0</td>\n",
       "      <td>0</td>\n",
       "      <td>4</td>\n",
       "      <td>8</td>\n",
       "      <td>1</td>\n",
       "      <td>0</td>\n",
       "      <td>0</td>\n",
       "    </tr>\n",
       "    <tr>\n",
       "      <th>7</th>\n",
       "      <td>0</td>\n",
       "      <td>0</td>\n",
       "      <td>0</td>\n",
       "      <td>3</td>\n",
       "      <td>7</td>\n",
       "      <td>7</td>\n",
       "      <td>3</td>\n",
       "      <td>0</td>\n",
       "      <td>0</td>\n",
       "      <td>0</td>\n",
       "    </tr>\n",
       "    <tr>\n",
       "      <th>8</th>\n",
       "      <td>0</td>\n",
       "      <td>2</td>\n",
       "      <td>6</td>\n",
       "      <td>7</td>\n",
       "      <td>3</td>\n",
       "      <td>0</td>\n",
       "      <td>0</td>\n",
       "      <td>0</td>\n",
       "      <td>0</td>\n",
       "      <td>0</td>\n",
       "    </tr>\n",
       "    <tr>\n",
       "      <th>9</th>\n",
       "      <td>0</td>\n",
       "      <td>0</td>\n",
       "      <td>0</td>\n",
       "      <td>0</td>\n",
       "      <td>0</td>\n",
       "      <td>0</td>\n",
       "      <td>0</td>\n",
       "      <td>0</td>\n",
       "      <td>0</td>\n",
       "      <td>0</td>\n",
       "    </tr>\n",
       "  </tbody>\n",
       "</table>\n",
       "</div>"
      ],
      "text/plain": [
       "   0  1  2  3  4  5  6  7  8  9\n",
       "0  0  0  0  0  0  0  0  0  0  0\n",
       "1  0  0  0  0  0  0  1  1  0  0\n",
       "2  0  0  1  5  7  8  6  4  1  0\n",
       "3  0  0  0  4  8  2  1  0  0  0\n",
       "4  0  0  0  0  5  2  0  0  0  0\n",
       "5  0  0  0  0  0  5  5  0  0  0\n",
       "6  0  0  0  0  0  4  8  1  0  0\n",
       "7  0  0  0  3  7  7  3  0  0  0\n",
       "8  0  2  6  7  3  0  0  0  0  0\n",
       "9  0  0  0  0  0  0  0  0  0  0"
      ]
     },
     "execution_count": 5,
     "metadata": {},
     "output_type": "execute_result"
    }
   ],
   "source": [
    "train_images = (train_images*10).astype('int32')\n",
    "test_images = (test_images*10).astype('int32')\n",
    "pd.DataFrame(np.vstack(train_images[0]).reshape(10, 10))"
   ]
  },
  {
   "cell_type": "code",
   "execution_count": 6,
   "metadata": {},
   "outputs": [
    {
     "data": {
      "text/plain": [
       "<matplotlib.image.AxesImage at 0x19a6ee11048>"
      ]
     },
     "execution_count": 6,
     "metadata": {},
     "output_type": "execute_result"
    },
    {
     "data": {
      "image/png": "[encoded data removed]",
      "text/plain": [
       "<Figure size 640x480 with 1 Axes>"
      ]
     },
     "metadata": {},
     "output_type": "display_data"
    }
   ],
   "source": [
    "plt.imshow(train_images[0], cmap='gray')"
   ]
  },
  {
   "cell_type": "code",
   "execution_count": 7,
   "metadata": {},
   "outputs": [],
   "source": [
    "import tensorflow as tf\n",
    "\n",
    "tf.random.set_seed(123)\n",
    "model = models.Sequential()\n",
    "model.add(layers.Conv2D(1, (3, 3), activation='relu', input_shape=(10, 10, 1)))\n",
    "model.add(layers.MaxPooling2D((2, 2)))\n",
    "model.add(layers.Conv2D(2, (3, 3), activation='relu'))\n",
    "\n",
    "model.add(layers.Flatten())\n",
    "model.add(layers.Dense(2, activation='relu'))\n",
    "model.add(layers.Dense(10, activation='softmax'))"
   ]
  },
  {
   "cell_type": "code",
   "execution_count": 8,
   "metadata": {},
   "outputs": [
    {
     "name": "stdout",
     "output_type": "stream",
     "text": [
      "Model: \"sequential\"\n",
      "_________________________________________________________________\n",
      " Layer (type)                Output Shape              Param #   \n",
      "=================================================================\n",
      " conv2d (Conv2D)             (None, 8, 8, 1)           10        \n",
      "                                                                 \n",
      " max_pooling2d (MaxPooling2D  (None, 4, 4, 1)          0         \n",
      " )                                                               \n",
      "                                                                 \n",
      " conv2d_1 (Conv2D)           (None, 2, 2, 2)           20        \n",
      "                                                                 \n",
      " flatten (Flatten)           (None, 8)                 0         \n",
      "                                                                 \n",
      " dense (Dense)               (None, 2)                 18        \n",
      "                                                                 \n",
      " dense_1 (Dense)             (None, 10)                30        \n",
      "                                                                 \n",
      "=================================================================\n",
      "Total params: 78\n",
      "Trainable params: 78\n",
      "Non-trainable params: 0\n",
      "_________________________________________________________________\n"
     ]
    }
   ],
   "source": [
    "model.summary()"
   ]
  },
  {
   "cell_type": "code",
   "execution_count": 9,
   "metadata": {},
   "outputs": [
    {
     "data": {
      "text/plain": [
       "[<KerasTensor: shape=(None, 8, 8, 1) dtype=float32 (created by layer 'conv2d')>,\n",
       " <KerasTensor: shape=(None, 4, 4, 1) dtype=float32 (created by layer 'max_pooling2d')>,\n",
       " <KerasTensor: shape=(None, 2, 2, 2) dtype=float32 (created by layer 'conv2d_1')>,\n",
       " <KerasTensor: shape=(None, 8) dtype=float32 (created by layer 'flatten')>,\n",
       " <KerasTensor: shape=(None, 2) dtype=float32 (created by layer 'dense')>,\n",
       " <KerasTensor: shape=(None, 10) dtype=float32 (created by layer 'dense_1')>]"
      ]
     },
     "execution_count": 9,
     "metadata": {},
     "output_type": "execute_result"
    }
   ],
   "source": [
    "get_layer_name = [layer.name for layer in model.layers]\n",
    "get_output = [layer.output for layer in model.layers]\n",
    "get_output"
   ]
  },
  {
   "cell_type": "code",
   "execution_count": 10,
   "metadata": {},
   "outputs": [
    {
     "name": "stdout",
     "output_type": "stream",
     "text": [
      "Model: \"model\"\n",
      "_________________________________________________________________\n",
      " Layer (type)                Output Shape              Param #   \n",
      "=================================================================\n",
      " conv2d_input (InputLayer)   [(None, 10, 10, 1)]       0         \n",
      "                                                                 \n",
      " conv2d (Conv2D)             (None, 8, 8, 1)           10        \n",
      "                                                                 \n",
      "=================================================================\n",
      "Total params: 10\n",
      "Trainable params: 10\n",
      "Non-trainable params: 0\n",
      "_________________________________________________________________\n"
     ]
    }
   ],
   "source": [
    "visual_model = tf.keras.models.Model(inputs = model.input, outputs = get_output[0])\n",
    "visual_model.summary()"
   ]
  },
  {
   "cell_type": "code",
   "execution_count": 11,
   "metadata": {},
   "outputs": [
    {
     "name": "stdout",
     "output_type": "stream",
     "text": [
      "1/1 [==============================] - 0s 63ms/step\n"
     ]
    },
    {
     "data": {
      "text/plain": [
       "array([[[0.37106436],\n",
       "        [1.6406934 ],\n",
       "        [0.968734  ],\n",
       "        [0.        ],\n",
       "        [0.        ],\n",
       "        [0.        ],\n",
       "        [0.        ],\n",
       "        [0.        ]],\n",
       "\n",
       "       [[0.52298915],\n",
       "        [3.691869  ],\n",
       "        [4.1235223 ],\n",
       "        [0.0817225 ],\n",
       "        [0.        ],\n",
       "        [1.0145953 ],\n",
       "        [0.12665498],\n",
       "        [0.96437114]],\n",
       "\n",
       "       [[0.        ],\n",
       "        [1.4299686 ],\n",
       "        [1.9957452 ],\n",
       "        [0.        ],\n",
       "        [0.        ],\n",
       "        [0.        ],\n",
       "        [0.        ],\n",
       "        [0.        ]],\n",
       "\n",
       "       [[0.        ],\n",
       "        [0.        ],\n",
       "        [0.68776584],\n",
       "        [0.        ],\n",
       "        [0.        ],\n",
       "        [0.        ],\n",
       "        [0.        ],\n",
       "        [0.        ]],\n",
       "\n",
       "       [[0.        ],\n",
       "        [0.        ],\n",
       "        [0.        ],\n",
       "        [2.1707428 ],\n",
       "        [1.0380898 ],\n",
       "        [0.        ],\n",
       "        [0.        ],\n",
       "        [0.        ]],\n",
       "\n",
       "       [[0.        ],\n",
       "        [1.113193  ],\n",
       "        [1.9535649 ],\n",
       "        [1.2199638 ],\n",
       "        [0.        ],\n",
       "        [0.        ],\n",
       "        [0.1132431 ],\n",
       "        [0.389269  ]],\n",
       "\n",
       "       [[1.797129  ],\n",
       "        [1.7674989 ],\n",
       "        [0.        ],\n",
       "        [0.        ],\n",
       "        [0.        ],\n",
       "        [0.        ],\n",
       "        [0.        ],\n",
       "        [0.        ]],\n",
       "\n",
       "       [[2.3232663 ],\n",
       "        [1.815263  ],\n",
       "        [0.        ],\n",
       "        [0.        ],\n",
       "        [0.        ],\n",
       "        [0.        ],\n",
       "        [0.        ],\n",
       "        [0.        ]]], dtype=float32)"
      ]
     },
     "execution_count": 11,
     "metadata": {},
     "output_type": "execute_result"
    }
   ],
   "source": [
    "test_img = np.expand_dims(train_images[0], axis=0)\n",
    "feature_maps = visual_model.predict(test_img)\n",
    "feature_maps[0]"
   ]
  },
  {
   "cell_type": "code",
   "execution_count": 12,
   "metadata": {},
   "outputs": [
    {
     "data": {
      "text/plain": [
       "(2,\n",
       " array([[[[-0.1853705 ]],\n",
       " \n",
       "         [[-0.36166638]],\n",
       " \n",
       "         [[-0.06006432]]],\n",
       " \n",
       " \n",
       "        [[[ 0.389269  ]],\n",
       " \n",
       "         [[-0.40733433]],\n",
       " \n",
       "         [[ 0.52298915]]],\n",
       " \n",
       " \n",
       "        [[[-0.555574  ]],\n",
       " \n",
       "         [[-0.21462852]],\n",
       " \n",
       "         [[ 0.37106436]]]], dtype=float32),\n",
       " array([0.], dtype=float32))"
      ]
     },
     "execution_count": 12,
     "metadata": {},
     "output_type": "execute_result"
    }
   ],
   "source": [
    "len(visual_model.get_weights()), visual_model.get_weights()[0], visual_model.get_weights()[1]"
   ]
  },
  {
   "cell_type": "code",
   "execution_count": 13,
   "metadata": {},
   "outputs": [],
   "source": [
    "setW = np.array([[-0.4318703, 0.08380783, -0.23193197],\n",
    "                 [0.05313462, 0.25442973, 0.33345792],\n",
    "                 [-0.22227043, -0.02131751, 0.17737235]])\n",
    "\n",
    "setB = np.array([-0.00019932])\n",
    "\n",
    "setW = setW.reshape(3, 3, 1, 1)\n",
    "weights = setW, setB\n",
    "visual_model.set_weights(weights)"
   ]
  },
  {
   "cell_type": "code",
   "execution_count": 14,
   "metadata": {},
   "outputs": [
    {
     "data": {
      "text/plain": [
       "((3, 3, 1, 1),\n",
       " array([[-0.4318703 ,  0.08380783, -0.23193197],\n",
       "        [ 0.05313462,  0.25442973,  0.33345792],\n",
       "        [-0.22227043, -0.02131751,  0.17737235]], dtype=float32),\n",
       " array([-0.00019932], dtype=float32))"
      ]
     },
     "execution_count": 14,
     "metadata": {},
     "output_type": "execute_result"
    }
   ],
   "source": [
    "w = visual_model.get_weights()[0]\n",
    "b = visual_model.get_weights()[1]\n",
    "np.shape(w), np.vstack(w).reshape(3, 3), b"
   ]
  },
  {
   "cell_type": "code",
   "execution_count": 15,
   "metadata": {},
   "outputs": [
    {
     "name": "stdout",
     "output_type": "stream",
     "text": [
      ">--- 0:3, 0:3 에서 스트라이드 1한 높이 0:3, 너비 1:4 인덱싱값\n",
      "[[0 0 0]\n",
      " [0 0 0]\n",
      " [0 1 5]]\n",
      "\n",
      ">--- img[0:3, 1:4] * w\n",
      "[[-0.          0.         -0.        ]\n",
      " [ 0.          0.          0.        ]\n",
      " [-0.         -0.02131751  0.88686176]]\n",
      "\n",
      ">--- img[0:3, 1:4] * w의 합 + b\n",
      "[0.86534494]\n"
     ]
    }
   ],
   "source": [
    "wVal = np.vstack(w).reshape(3, 3)\n",
    "img = np.vstack(train_images[0]).reshape(10, 10)\n",
    "\n",
    "print('>--- 0:3, 0:3 에서 스트라이드 1한 높이 0:3, 너비 1:4 인덱싱값')\n",
    "print(img[0:3, 1:4])\n",
    "print('\\n>--- img[0:3, 1:4] * w')\n",
    "print(img[0:3, 1:4]*wVal)\n",
    "print('\\n>--- img[0:3, 1:4] * w의 합 + b')\n",
    "print(np.sum(img[0:3, 1:4]*wVal)+b)"
   ]
  },
  {
   "cell_type": "code",
   "execution_count": 16,
   "metadata": {},
   "outputs": [
    {
     "data": {
      "text/plain": [
       "array([0.86534494], dtype=float32)"
      ]
     },
     "execution_count": 16,
     "metadata": {},
     "output_type": "execute_result"
    }
   ],
   "source": [
    "np.sum(img[0:3, 1:4]*wVal)+b"
   ]
  },
  {
   "cell_type": "code",
   "execution_count": 17,
   "metadata": {},
   "outputs": [
    {
     "data": {
      "text/plain": [
       "<matplotlib.image.AxesImage at 0x19a6f18aa08>"
      ]
     },
     "execution_count": 17,
     "metadata": {},
     "output_type": "execute_result"
    },
    {
     "data": {
      "image/png": "[encoded data removed]",
      "text/plain": [
       "<Figure size 640x480 with 1 Axes>"
      ]
     },
     "metadata": {},
     "output_type": "display_data"
    }
   ],
   "source": [
    "# len(feature_maps[0][0])\n",
    "plt.imshow(feature_maps[0], cmap='gray')\n",
    "# pd.DataFrame(np.vstack(feature_maps[0]).reshape(8, 8))"
   ]
  },
  {
   "cell_type": "code",
   "execution_count": 18,
   "metadata": {},
   "outputs": [
    {
     "name": "stdout",
     "output_type": "stream",
     "text": [
      "Model: \"model_1\"\n",
      "_________________________________________________________________\n",
      " Layer (type)                Output Shape              Param #   \n",
      "=================================================================\n",
      " conv2d_input (InputLayer)   [(None, 10, 10, 1)]       0         \n",
      "                                                                 \n",
      " conv2d (Conv2D)             (None, 8, 8, 1)           10        \n",
      "                                                                 \n",
      " max_pooling2d (MaxPooling2D  (None, 4, 4, 1)          0         \n",
      " )                                                               \n",
      "                                                                 \n",
      "=================================================================\n",
      "Total params: 10\n",
      "Trainable params: 10\n",
      "Non-trainable params: 0\n",
      "_________________________________________________________________\n"
     ]
    }
   ],
   "source": [
    "visual_model = tf.keras.models.Model(inputs = model.input, outputs = get_output[1])\n",
    "visual_model.summary()"
   ]
  },
  {
   "cell_type": "code",
   "execution_count": 19,
   "metadata": {},
   "outputs": [
    {
     "name": "stdout",
     "output_type": "stream",
     "text": [
      "1/1 [==============================] - 0s 31ms/step\n"
     ]
    }
   ],
   "source": [
    "test_img = np.expand_dims(train_images[0], axis=0)\n",
    "feature_maps = visual_model.predict(test_img)"
   ]
  },
  {
   "cell_type": "code",
   "execution_count": 20,
   "metadata": {},
   "outputs": [
    {
     "data": {
      "image/png": "[encoded data removed]",
      "text/plain": [
       "<Figure size 640x480 with 1 Axes>"
      ]
     },
     "metadata": {},
     "output_type": "display_data"
    },
    {
     "data": {
      "text/html": [
       "<div>\n",
       "<style scoped>\n",
       "    .dataframe tbody tr th:only-of-type {\n",
       "        vertical-align: middle;\n",
       "    }\n",
       "\n",
       "    .dataframe tbody tr th {\n",
       "        vertical-align: top;\n",
       "    }\n",
       "\n",
       "    .dataframe thead th {\n",
       "        text-align: right;\n",
       "    }\n",
       "</style>\n",
       "<table border=\"1\" class=\"dataframe\">\n",
       "  <thead>\n",
       "    <tr style=\"text-align: right;\">\n",
       "      <th></th>\n",
       "      <th>0</th>\n",
       "      <th>1</th>\n",
       "      <th>2</th>\n",
       "      <th>3</th>\n",
       "    </tr>\n",
       "  </thead>\n",
       "  <tbody>\n",
       "    <tr>\n",
       "      <th>0</th>\n",
       "      <td>2.631009</td>\n",
       "      <td>4.992998</td>\n",
       "      <td>2.671305</td>\n",
       "      <td>1.099452</td>\n",
       "    </tr>\n",
       "    <tr>\n",
       "      <th>1</th>\n",
       "      <td>0.257780</td>\n",
       "      <td>2.935690</td>\n",
       "      <td>0.000000</td>\n",
       "      <td>0.000000</td>\n",
       "    </tr>\n",
       "    <tr>\n",
       "      <th>2</th>\n",
       "      <td>0.531918</td>\n",
       "      <td>2.331755</td>\n",
       "      <td>2.281212</td>\n",
       "      <td>0.052935</td>\n",
       "    </tr>\n",
       "    <tr>\n",
       "      <th>3</th>\n",
       "      <td>3.271058</td>\n",
       "      <td>2.146567</td>\n",
       "      <td>0.966089</td>\n",
       "      <td>0.000000</td>\n",
       "    </tr>\n",
       "  </tbody>\n",
       "</table>\n",
       "</div>"
      ],
      "text/plain": [
       "          0         1         2         3\n",
       "0  2.631009  4.992998  2.671305  1.099452\n",
       "1  0.257780  2.935690  0.000000  0.000000\n",
       "2  0.531918  2.331755  2.281212  0.052935\n",
       "3  3.271058  2.146567  0.966089  0.000000"
      ]
     },
     "execution_count": 20,
     "metadata": {},
     "output_type": "execute_result"
    }
   ],
   "source": [
    "plt.imshow(feature_maps[0], cmap='gray')\n",
    "plt.show()\n",
    "pd.DataFrame(np.vstack(feature_maps[0]).reshape(4, 4))"
   ]
  },
  {
   "cell_type": "code",
   "execution_count": 21,
   "metadata": {},
   "outputs": [
    {
     "name": "stdout",
     "output_type": "stream",
     "text": [
      "2\n",
      "[[-0.4318703   0.08380783 -0.23193197]\n",
      " [ 0.05313462  0.25442973  0.33345792]\n",
      " [-0.22227043 -0.02131751  0.17737235]] [-0.00019932]\n",
      "(3, 3, 1, 1) (1,)\n"
     ]
    }
   ],
   "source": [
    "print(len(visual_model.get_weights()))\n",
    "w = visual_model.get_weights()[0]\n",
    "b = visual_model.get_weights()[1]\n",
    "print(np.vstack(w).reshape(3, 3), b)\n",
    "print(np.shape(w), np.shape(b))"
   ]
  },
  {
   "cell_type": "code",
   "execution_count": 33,
   "metadata": {},
   "outputs": [
    {
     "name": "stdout",
     "output_type": "stream",
     "text": [
      "Model: \"model_6\"\n",
      "_________________________________________________________________\n",
      " Layer (type)                Output Shape              Param #   \n",
      "=================================================================\n",
      " conv2d_input (InputLayer)   [(None, 10, 10, 1)]       0         \n",
      "                                                                 \n",
      " conv2d (Conv2D)             (None, 8, 8, 1)           10        \n",
      "                                                                 \n",
      " max_pooling2d (MaxPooling2D  (None, 4, 4, 1)          0         \n",
      " )                                                               \n",
      "                                                                 \n",
      " conv2d_1 (Conv2D)           (None, 2, 2, 2)           20        \n",
      "                                                                 \n",
      "=================================================================\n",
      "Total params: 30\n",
      "Trainable params: 30\n",
      "Non-trainable params: 0\n",
      "_________________________________________________________________\n"
     ]
    },
    {
     "data": {
      "text/plain": [
       "<KerasTensor: shape=(None, 2, 2, 2) dtype=float32 (created by layer 'conv2d_1')>"
      ]
     },
     "execution_count": 33,
     "metadata": {},
     "output_type": "execute_result"
    }
   ],
   "source": [
    "visual_model2 = tf.keras.models.Model(inputs = model.input, outputs = get_output[2])\n",
    "visual_model2.summary()"
   ]
  },
  {
   "cell_type": "code",
   "execution_count": 23,
   "metadata": {},
   "outputs": [
    {
     "name": "stdout",
     "output_type": "stream",
     "text": [
      "4\n",
      "[[-0.4318703   0.08380783 -0.23193197]\n",
      " [ 0.05313462  0.25442973  0.33345792]\n",
      " [-0.22227043 -0.02131751  0.17737235]] [-0.00019932]\n",
      "(3, 3, 1, 1) (1,)\n",
      "[[[[ 0.08540502  0.13173309]]\n",
      "\n",
      "  [[-0.22844784 -0.11707193]]\n",
      "\n",
      "  [[ 0.37699243 -0.20870355]]]\n",
      "\n",
      "\n",
      " [[[ 0.1137785   0.08377591]]\n",
      "\n",
      "  [[-0.02740073 -0.40009767]]\n",
      "\n",
      "  [[-0.15904322 -0.09192541]]]\n",
      "\n",
      "\n",
      " [[[-0.44548252  0.3627803 ]]\n",
      "\n",
      "  [[ 0.18320754 -0.29578614]]\n",
      "\n",
      "  [[ 0.24744168  0.46837536]]]] [0. 0.]\n"
     ]
    }
   ],
   "source": [
    "print(len(visual_model2.get_weights()))\n",
    "w = visual_model2.get_weights()[0]\n",
    "b = visual_model2.get_weights()[1]\n",
    "print(np.vstack(w).reshape(3, 3), b)\n",
    "print(np.shape(w), np.shape(b))\n",
    "w2 = visual_model2.get_weights()[2]\n",
    "b2 = visual_model2.get_weights()[3]\n",
    "print(w2, b2)"
   ]
  },
  {
   "cell_type": "code",
   "execution_count": 24,
   "metadata": {},
   "outputs": [],
   "source": [
    "weights = [w, b, w2, b2]\n",
    "visual_model2.set_weights(weights)"
   ]
  },
  {
   "cell_type": "code",
   "execution_count": 25,
   "metadata": {},
   "outputs": [
    {
     "data": {
      "text/plain": [
       "4"
      ]
     },
     "execution_count": 25,
     "metadata": {},
     "output_type": "execute_result"
    }
   ],
   "source": [
    "len(visual_model2.get_weights())"
   ]
  },
  {
   "cell_type": "code",
   "execution_count": 26,
   "metadata": {},
   "outputs": [
    {
     "data": {
      "text/plain": [
       "(array([[[[ 0.08540502,  0.13173309]],\n",
       " \n",
       "         [[-0.22844784, -0.11707193]],\n",
       " \n",
       "         [[ 0.37699243, -0.20870355]]],\n",
       " \n",
       " \n",
       "        [[[ 0.1137785 ,  0.08377591]],\n",
       " \n",
       "         [[-0.02740073, -0.40009767]],\n",
       " \n",
       "         [[-0.15904322, -0.09192541]]],\n",
       " \n",
       " \n",
       "        [[[-0.44548252,  0.3627803 ]],\n",
       " \n",
       "         [[ 0.18320754, -0.29578614]],\n",
       " \n",
       "         [[ 0.24744168,  0.46837536]]]], dtype=float32),\n",
       " array([0., 0.], dtype=float32))"
      ]
     },
     "execution_count": 26,
     "metadata": {},
     "output_type": "execute_result"
    }
   ],
   "source": [
    "w2 = visual_model2.get_weights()[2]\n",
    "w2, b2"
   ]
  },
  {
   "cell_type": "code",
   "execution_count": 27,
   "metadata": {},
   "outputs": [
    {
     "data": {
      "text/plain": [
       "array([[2.6310093 , 4.992998  , 2.6713054 , 1.0994523 ],\n",
       "       [0.2577803 , 2.93569   , 0.        , 0.        ],\n",
       "       [0.53191775, 2.331755  , 2.2812119 , 0.0529353 ],\n",
       "       [3.2710578 , 2.146567  , 0.96608925, 0.        ]], dtype=float32)"
      ]
     },
     "execution_count": 27,
     "metadata": {},
     "output_type": "execute_result"
    }
   ],
   "source": [
    "maxpoolResult = np.vstack(feature_maps[0]).reshape(4, 4)\n",
    "maxpoolResult"
   ]
  },
  {
   "cell_type": "code",
   "execution_count": 28,
   "metadata": {},
   "outputs": [
    {
     "data": {
      "text/plain": [
       "[array([[[[-0.4318703 ]],\n",
       " \n",
       "         [[ 0.08380783]],\n",
       " \n",
       "         [[-0.23193197]]],\n",
       " \n",
       " \n",
       "        [[[ 0.05313462]],\n",
       " \n",
       "         [[ 0.25442973]],\n",
       " \n",
       "         [[ 0.33345792]]],\n",
       " \n",
       " \n",
       "        [[[-0.22227043]],\n",
       " \n",
       "         [[-0.02131751]],\n",
       " \n",
       "         [[ 0.17737235]]]], dtype=float32),\n",
       " array([-0.00019932], dtype=float32),\n",
       " array([[[[ 0.08540502,  0.13173309]],\n",
       " \n",
       "         [[-0.22844784, -0.11707193]],\n",
       " \n",
       "         [[ 0.37699243, -0.20870355]]],\n",
       " \n",
       " \n",
       "        [[[ 0.1137785 ,  0.08377591]],\n",
       " \n",
       "         [[-0.02740073, -0.40009767]],\n",
       " \n",
       "         [[-0.15904322, -0.09192541]]],\n",
       " \n",
       " \n",
       "        [[[-0.44548252,  0.3627803 ]],\n",
       " \n",
       "         [[ 0.18320754, -0.29578614]],\n",
       " \n",
       "         [[ 0.24744168,  0.46837536]]]], dtype=float32),\n",
       " array([0., 0.], dtype=float32)]"
      ]
     },
     "execution_count": 28,
     "metadata": {},
     "output_type": "execute_result"
    }
   ],
   "source": [
    "visual_model2.get_weights()"
   ]
  },
  {
   "cell_type": "code",
   "execution_count": 29,
   "metadata": {},
   "outputs": [
    {
     "name": "stdout",
     "output_type": "stream",
     "text": [
      "maxpoolResult값\n",
      "[[2.6310093  4.992998   2.6713054 ]\n",
      " [0.2577803  2.93569    0.        ]\n",
      " [0.53191775 2.331755   2.2812119 ]]\n",
      "\n",
      "->피처1 값 ----------------------------------------------------------------------------------------------------\n",
      "[[ 0.08540502 -0.22844784  0.37699243]\n",
      " [ 0.1137785  -0.02740073 -0.15904322]\n",
      " [-0.44548252  0.18320754  0.24744168]]\n",
      "\n",
      "->피처2 값 ----------------------------------------------------------------------------------------------------\n",
      "[[ 0.13173309 -0.11707193 -0.20870355]\n",
      " [ 0.08377591 -0.40009767 -0.09192541]\n",
      " [ 0.3627803  -0.29578614  0.46837536]]\n",
      "\n",
      "-<[0:3, 0:3]*피처1값+b[0]합 --------------------------------------------------\n"
     ]
    },
    {
     "data": {
      "text/plain": [
       "(0.79451615, -1.3768941)"
      ]
     },
     "execution_count": 29,
     "metadata": {},
     "output_type": "execute_result"
    }
   ],
   "source": [
    "f1 = w2[:,:,:,0]\n",
    "f2 = w2[:,:,:,1]\n",
    "\n",
    "print('maxpoolResult값')\n",
    "print(maxpoolResult[:3,:3])\n",
    "print('\\n->피처1 값', '-'*100)\n",
    "print(f1.reshape(3,3))\n",
    "print('\\n->피처2 값', '-'*100)\n",
    "print(f2.reshape(3,3))\n",
    "\n",
    "print('\\n-<[0:3, 0:3]*피처1값+b[0]합', '-'*50)\n",
    "np.sum(maxpoolResult[:3, :3]*f1.reshape(3,3))+b[0], np.sum(maxpoolResult[:3, :3]*f2.reshape(3,3))+b[0]"
   ]
  }
 ],
 "metadata": {
  "kernelspec": {
   "display_name": "mp",
   "language": "python",
   "name": "python3"
  },
  "language_info": {
   "codemirror_mode": {
    "name": "ipython",
    "version": 3
   },
   "file_extension": ".py",
   "mimetype": "text/x-python",
   "name": "python",
   "nbconvert_exporter": "python",
   "pygments_lexer": "ipython3",
   "version": "3.7.12"
  }
 },
 "nbformat": 4,
 "nbformat_minor": 2
}
