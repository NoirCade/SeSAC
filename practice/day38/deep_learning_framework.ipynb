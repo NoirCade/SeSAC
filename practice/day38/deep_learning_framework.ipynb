{
 "cells": [
  {
   "cell_type": "markdown",
   "metadata": {},
   "source": [
    "구글 검색 '텐서플로우, 파이토치, 케라스 딥러닝 프레임워크' (2020년을 기준으로 텐서1과 텐서2가 나뉘게 되어 코드가 다름!)  \n",
    "\n",
    "텐서플로우 1은 사용자가 마음껏 프로그래밍 할 수 있으나, 프로그래밍의 어려움과 GPU텐서/CPU텐서를 처음부터 세팅하여 작업해야하는 단점이 있어, 상황에 따라 GPU/CPU를 선택하고 프로그래밍을 쉽게 하고자 하는 이유로 파이토치 모듈이 생성됨  \n",
    "\n",
    "파이토치: 프로그램에서 CPU와 GPU를 선택하여 작업할 수 있음!"
   ]
  },
  {
   "cell_type": "markdown",
   "metadata": {},
   "source": [
    "Pytorch\n",
    "\n",
    "transform? => 데이터를 학습시키기에 적절한 형태로 변형하는 것\n",
    "\n",
    "ex)\n",
    "transform = transforms.Compose(\n",
    "    [transforms.ToTensor(),\n",
    "     transforms.Normalize((0.5, 0.5, 0.5), (0.5, 0.5, 0.5))])\n",
    "\n",
    "위와 같이 transform 변수에 변형할 내용들을 묶어놓을 수 있음\n",
    "\n",
    "num_workers => 데이터 로딩을 멀티 프로세싱하도록 프로세스를 할당할 로더의 수를 지정"
   ]
  },
  {
   "cell_type": "markdown",
   "metadata": {},
   "source": []
  }
 ],
 "metadata": {
  "language_info": {
   "name": "python"
  }
 },
 "nbformat": 4,
 "nbformat_minor": 2
}
