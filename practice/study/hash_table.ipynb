{
 "cells": [
  {
   "cell_type": "markdown",
   "metadata": {},
   "source": [
    "파이썬 딕셔너리 해시테이블 - http://cloudrain21.com/python-dictionary-hashtable  \n",
    "나무위치 해시 항목 - https://namu.wiki/w/%ED%95%B4%EC%8B%9C  \n",
    "위키독스 파이썬으로 해시테이블 구현하기 - https://wikidocs.net/193049  \n",
    "기타 - 구글에서 자료구조 해시테이블  "
   ]
  },
  {
   "cell_type": "markdown",
   "metadata": {},
   "source": [
    "프로그래머스 예제 문제  \n",
    "https://school.programmers.co.kr/learn/courses/30/lessons/42576  \n",
    "https://school.programmers.co.kr/learn/courses/30/lessons/147354?language=python3  "
   ]
  }
 ],
 "metadata": {
  "language_info": {
   "name": "python"
  }
 },
 "nbformat": 4,
 "nbformat_minor": 2
}
