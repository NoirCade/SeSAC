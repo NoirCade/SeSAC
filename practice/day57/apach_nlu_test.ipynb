{
 "cells": [
  {
   "cell_type": "code",
   "execution_count": 6,
   "metadata": {},
   "outputs": [
    {
     "ename": "ImportError",
     "evalue": "cannot import name 'load_model' from 'nlu' (c:\\Users\\kth53\\anaconda3\\envs\\untitled\\lib\\site-packages\\nlu\\__init__.py)",
     "output_type": "error",
     "traceback": [
      "\u001b[1;31m---------------------------------------------------------------------------\u001b[0m",
      "\u001b[1;31mImportError\u001b[0m                               Traceback (most recent call last)",
      "Cell \u001b[1;32mIn[6], line 1\u001b[0m\n\u001b[1;32m----> 1\u001b[0m \u001b[38;5;28;01mfrom\u001b[39;00m \u001b[38;5;21;01mnlu\u001b[39;00m \u001b[38;5;28;01mimport\u001b[39;00m load_model, load_data, get_entities\n\u001b[0;32m      3\u001b[0m \u001b[38;5;66;03m# 한국어 개인정보 엔티티 유형 정의\u001b[39;00m\n\u001b[0;32m      4\u001b[0m entity_types \u001b[38;5;241m=\u001b[39m [\u001b[38;5;124m\"\u001b[39m\u001b[38;5;124mKOREAN_NAME\u001b[39m\u001b[38;5;124m\"\u001b[39m, \u001b[38;5;124m\"\u001b[39m\u001b[38;5;124mKOREAN_PHONE\u001b[39m\u001b[38;5;124m\"\u001b[39m, \u001b[38;5;124m\"\u001b[39m\u001b[38;5;124mKOREAN_ADDRESS\u001b[39m\u001b[38;5;124m\"\u001b[39m] \n",
      "\u001b[1;31mImportError\u001b[0m: cannot import name 'load_model' from 'nlu' (c:\\Users\\kth53\\anaconda3\\envs\\untitled\\lib\\site-packages\\nlu\\__init__.py)"
     ]
    }
   ],
   "source": [
    "from nlu import load_model, load_data, get_entities\n",
    "\n",
    "# 한국어 개인정보 엔티티 유형 정의\n",
    "entity_types = [\"KOREAN_NAME\", \"KOREAN_PHONE\", \"KOREAN_ADDRESS\"] \n",
    "\n",
    "# 한국어 엔티티 추출기 모델 로드\n",
    "model = load_model('ko_personal_info')  \n",
    "\n",
    "# 한국어 데이터 로드\n",
    "data = load_data('/path/to/korean/text/data')\n",
    "\n",
    "# 엔티티 추출 \n",
    "entities = get_entities(data, model, entity_types)\n",
    "\n",
    "# 결과 출력\n",
    "for entity in entities:\n",
    "    print(f\"엔티티: {entity.entity}, 값: {entity.value}, 유형: {entity.type}\")"
   ]
  },
  {
   "cell_type": "code",
   "execution_count": null,
   "metadata": {},
   "outputs": [],
   "source": []
  }
 ],
 "metadata": {
  "kernelspec": {
   "display_name": "mp",
   "language": "python",
   "name": "python3"
  },
  "language_info": {
   "codemirror_mode": {
    "name": "ipython",
    "version": 3
   },
   "file_extension": ".py",
   "mimetype": "text/x-python",
   "name": "python",
   "nbconvert_exporter": "python",
   "pygments_lexer": "ipython3",
   "version": "3.10.12"
  }
 },
 "nbformat": 4,
 "nbformat_minor": 2
}
