{
 "cells": [
  {
   "cell_type": "markdown",
   "metadata": {},
   "source": [
    "평균, 편차, 표준편차, 분산, 히스토그램, 산점도, 중앙값, 최빈값\n",
    "\n"
   ]
  },
  {
   "cell_type": "code",
   "execution_count": null,
   "metadata": {
    "vscode": {
     "languageId": "plaintext"
    }
   },
   "outputs": [],
   "source": []
  }
 ],
 "metadata": {
  "language_info": {
   "name": "python"
  }
 },
 "nbformat": 4,
 "nbformat_minor": 2
}
