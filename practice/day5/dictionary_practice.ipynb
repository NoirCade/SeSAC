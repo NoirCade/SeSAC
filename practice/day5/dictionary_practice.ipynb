{
 "cells": [
  {
   "cell_type": "code",
   "execution_count": 4,
   "metadata": {},
   "outputs": [
    {
     "ename": "ValueError",
     "evalue": "int값만 가능",
     "output_type": "error",
     "traceback": [
      "\u001b[1;31m---------------------------------------------------------------------------\u001b[0m",
      "\u001b[1;31mValueError\u001b[0m                                Traceback (most recent call last)",
      "Cell \u001b[1;32mIn[4], line 8\u001b[0m\n\u001b[0;32m      5\u001b[0m     \u001b[38;5;28;01melse\u001b[39;00m:\n\u001b[0;32m      6\u001b[0m         \u001b[38;5;28;01mraise\u001b[39;00m \u001b[38;5;167;01mValueError\u001b[39;00m(\u001b[38;5;124m'\u001b[39m\u001b[38;5;124mint값만 가능\u001b[39m\u001b[38;5;124m'\u001b[39m)\n\u001b[1;32m----> 8\u001b[0m \u001b[43ma\u001b[49m\u001b[43m(\u001b[49m\u001b[38;5;124;43m'\u001b[39;49m\u001b[38;5;124;43mddd\u001b[39;49m\u001b[38;5;124;43m'\u001b[39;49m\u001b[43m)\u001b[49m\n",
      "Cell \u001b[1;32mIn[4], line 6\u001b[0m, in \u001b[0;36ma\u001b[1;34m(data)\u001b[0m\n\u001b[0;32m      4\u001b[0m     \u001b[38;5;28mprint\u001b[39m(data)\n\u001b[0;32m      5\u001b[0m \u001b[38;5;28;01melse\u001b[39;00m:\n\u001b[1;32m----> 6\u001b[0m     \u001b[38;5;28;01mraise\u001b[39;00m \u001b[38;5;167;01mValueError\u001b[39;00m(\u001b[38;5;124m'\u001b[39m\u001b[38;5;124mint값만 가능\u001b[39m\u001b[38;5;124m'\u001b[39m)\n",
      "\u001b[1;31mValueError\u001b[0m: int값만 가능"
     ]
    }
   ],
   "source": [
    "def a(data: int='ddd'):\n",
    "    if isinstance(data, int):\n",
    "    #if type(data)==int:와 동일\n",
    "        print(data)\n",
    "    else:\n",
    "        raise ValueError('int값만 가능')\n",
    "    \n",
    "a('ddd')"
   ]
  },
  {
   "cell_type": "markdown",
   "metadata": {},
   "source": [
    "매개변수 값의 타입을 ```(data: int)```와 같이 지정해줄 수 있지만, 강제력은 없다.\n",
    "\n",
    "```raise ValueError ('에러 메시지')```\n",
    "함수를 이용해서 특정한 경우에 에러를 발생시켜서 실행을 정지시킬 수 있다\n",
    "\n"
   ]
  },
  {
   "cell_type": "code",
   "execution_count": 12,
   "metadata": {},
   "outputs": [
    {
     "data": {
      "text/plain": [
       "['result']"
      ]
     },
     "execution_count": 12,
     "metadata": {},
     "output_type": "execute_result"
    }
   ],
   "source": [
    "import os\n",
    "os.makedirs('c:/data/result', exist_ok=True)\n",
    "os.listdir('c:/data')"
   ]
  },
  {
   "cell_type": "code",
   "execution_count": 14,
   "metadata": {},
   "outputs": [
    {
     "name": "stdout",
     "output_type": "stream",
     "text": [
      "c:/data/result/폴더 존재함\n"
     ]
    }
   ],
   "source": [
    "import os\n",
    "def makeFolder(folderLocation):\n",
    "    try:\n",
    "        os.mkdir(folderLocation)\n",
    "    except:\n",
    "        print(folderLocation+'폴더 존재함')\n",
    "\n",
    "makeFolder('c:/data/')"
   ]
  },
  {
   "cell_type": "code",
   "execution_count": 15,
   "metadata": {},
   "outputs": [],
   "source": [
    "import qrcode\n",
    "site = 'https://www.naver.com'\n",
    "newQR=qrcode.make(site)\n",
    "newQR.save('c:/data/result/naver.png')"
   ]
  },
  {
   "cell_type": "code",
   "execution_count": 20,
   "metadata": {},
   "outputs": [
    {
     "data": {
      "text/plain": [
       "['naver.png', '네이버.png', '다음.png']"
      ]
     },
     "execution_count": 20,
     "metadata": {},
     "output_type": "execute_result"
    }
   ],
   "source": [
    "import qrcode\n",
    "site = ['https://www.naver.com','https://www.daum.net']\n",
    "name = ['네이버','다음']\n",
    "\n",
    "def mkQR(site, name):\n",
    "    for s, n in zip(site, name):\n",
    "        myQR=qrcode.make(s)\n",
    "        myQR.save('c:/data/result/' + n + '.png')\n",
    "\n",
    "mkQR(site, name)\n",
    "os.listdir('c:/data/result/')"
   ]
  },
  {
   "cell_type": "code",
   "execution_count": 24,
   "metadata": {},
   "outputs": [
    {
     "data": {
      "text/plain": [
       "['네이버.png', '다음.png']"
      ]
     },
     "execution_count": 24,
     "metadata": {},
     "output_type": "execute_result"
    }
   ],
   "source": [
    "import qrcode\n",
    "sites = ['https://www.naver.com','https://www.daum.net']\n",
    "names = ['네이버','다음']\n",
    "\n",
    "def mkQR2(**kwargs):\n",
    "    x,y=kwargs['x'],kwargs['y']\n",
    "    for x,y in zip(x,y):\n",
    "        myQR=qrcode.make(x)\n",
    "        myQR.save('c:/data/result/'+ y +'.png')\n",
    "\n",
    "mkQR2(x=sites,y=names)\n",
    "os.listdir('c:/data/result/')\n"
   ]
  },
  {
   "cell_type": "code",
   "execution_count": null,
   "metadata": {},
   "outputs": [],
   "source": []
  }
 ],
 "metadata": {
  "kernelspec": {
   "display_name": "study",
   "language": "python",
   "name": "python3"
  },
  "language_info": {
   "codemirror_mode": {
    "name": "ipython",
    "version": 3
   },
   "file_extension": ".py",
   "mimetype": "text/x-python",
   "name": "python",
   "nbconvert_exporter": "python",
   "pygments_lexer": "ipython3",
   "version": "3.12.0"
  }
 },
 "nbformat": 4,
 "nbformat_minor": 2
}
