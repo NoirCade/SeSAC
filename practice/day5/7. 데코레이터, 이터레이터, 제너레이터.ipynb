{
 "cells": [
  {
   "cell_type": "code",
   "execution_count": 1,
   "metadata": {},
   "outputs": [
    {
     "data": {
      "text/plain": [
       "10"
      ]
     },
     "execution_count": 1,
     "metadata": {},
     "output_type": "execute_result"
    }
   ],
   "source": [
    "data=[10,2,3,4,5,6]\n",
    "next(iter(data))"
   ]
  },
  {
   "cell_type": "code",
   "execution_count": 11,
   "metadata": {},
   "outputs": [
    {
     "name": "stdout",
     "output_type": "stream",
     "text": [
      "5\n",
      "4\n"
     ]
    },
    {
     "ename": "StopIteration",
     "evalue": "",
     "output_type": "error",
     "traceback": [
      "\u001b[1;31m---------------------------------------------------------------------------\u001b[0m",
      "\u001b[1;31mStopIteration\u001b[0m                             Traceback (most recent call last)",
      "Cell \u001b[1;32mIn[11], line 5\u001b[0m\n\u001b[0;32m      3\u001b[0m \u001b[38;5;28mprint\u001b[39m(\u001b[38;5;28mnext\u001b[39m(it))\n\u001b[0;32m      4\u001b[0m \u001b[38;5;28mprint\u001b[39m(\u001b[38;5;28mnext\u001b[39m(it))\n\u001b[1;32m----> 5\u001b[0m \u001b[38;5;28mprint\u001b[39m(\u001b[38;5;28;43mnext\u001b[39;49m\u001b[43m(\u001b[49m\u001b[43mit\u001b[49m\u001b[43m)\u001b[49m)\n\u001b[0;32m      6\u001b[0m \u001b[38;5;28mprint\u001b[39m(\u001b[38;5;28mnext\u001b[39m(it))\n",
      "\u001b[1;31mStopIteration\u001b[0m: "
     ]
    }
   ],
   "source": [
    "import random\n",
    "it = iter(lambda : random.randint(0,5),2)\n",
    "print(next(it))\n",
    "print(next(it))\n",
    "print(next(it))\n",
    "print(next(it))\n",
    "## 2가 나오면 중간에 반복을 정지함"
   ]
  },
  {
   "cell_type": "code",
   "execution_count": 12,
   "metadata": {},
   "outputs": [
    {
     "name": "stdout",
     "output_type": "stream",
     "text": [
      "함수가 실행됩니다.\n",
      "함수 수행시간: 0.000000 초\n"
     ]
    }
   ],
   "source": [
    "import time\n",
    "\n",
    "def elapsed(original_func):   # 기존 함수를 인수로 받는다.\n",
    "    def wrapper():\n",
    "        start = time.time()\n",
    "        result = original_func()    # 기존 함수를 수행한다.\n",
    "        end = time.time()\n",
    "        print(\"함수 수행시간: %f 초\" % (end - start))  # 기존 함수의 수행시간을 출력한다.\n",
    "        return result  # 기존 함수의 수행 결과를 리턴한다.\n",
    "    return wrapper\n",
    "\n",
    "def myfunc():\n",
    "    print(\"함수가 실행됩니다.\")\n",
    "\n",
    "decorated_myfunc = elapsed(myfunc)\n",
    "decorated_myfunc()\n"
   ]
  },
  {
   "cell_type": "code",
   "execution_count": 13,
   "metadata": {},
   "outputs": [
    {
     "name": "stdout",
     "output_type": "stream",
     "text": [
      "함수가 실행됩니다.\n",
      "함수 수행시간: 0.000000 초\n"
     ]
    }
   ],
   "source": [
    "import time\n",
    "\n",
    "def elapsed(original_func):   # 기존 함수를 인수로 받는다.\n",
    "    def wrapper():\n",
    "        start = time.time()\n",
    "        result = original_func()    # 기존 함수를 수행한다.\n",
    "        end = time.time()\n",
    "        print(\"함수 수행시간: %f 초\" % (end - start))  # 기존 함수의 수행시간을 출력한다.\n",
    "        return result  # 기존 함수의 수행 결과를 리턴한다.\n",
    "    return wrapper\n",
    "\n",
    "@elapsed\n",
    "def myfunc():\n",
    "    print(\"함수가 실행됩니다.\")\n",
    "\n",
    "# decorated_myfunc = elapsed(myfunc)  # @elapsed 데코레이터로 인해 더이상 필요하지 않다.\n",
    "# decorated_myfunc()\n",
    "\n",
    "myfunc()\n"
   ]
  }
 ],
 "metadata": {
  "kernelspec": {
   "display_name": "study",
   "language": "python",
   "name": "python3"
  },
  "language_info": {
   "codemirror_mode": {
    "name": "ipython",
    "version": 3
   },
   "file_extension": ".py",
   "mimetype": "text/x-python",
   "name": "python",
   "nbconvert_exporter": "python",
   "pygments_lexer": "ipython3",
   "version": "3.12.0"
  }
 },
 "nbformat": 4,
 "nbformat_minor": 2
}
