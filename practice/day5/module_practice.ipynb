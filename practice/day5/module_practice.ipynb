{
 "cells": [
  {
   "cell_type": "code",
   "execution_count": 2,
   "metadata": {},
   "outputs": [
    {
     "name": "stdout",
     "output_type": "stream",
     "text": [
      "구구단을 외자! 구구단을 외자!\n",
      "땡! 정답은 64\n"
     ]
    }
   ],
   "source": [
    "import random\n",
    "\n",
    "print('구구단을 외자! 구구단을 외자!')\n",
    "for i in range(20):\n",
    "    a,b = random.randint(2,9),random.randint(1,9)\n",
    "    answer=int(input(str(a)+'x'+str(b)+'? '))\n",
    "\n",
    "    if answer !=a*b:\n",
    "        print('땡! 정답은', a*b)\n",
    "        break"
   ]
  },
  {
   "cell_type": "code",
   "execution_count": null,
   "metadata": {},
   "outputs": [],
   "source": [
    "import random\n",
    "\n",
    "def gugudan(num1,num2):\n",
    "    answer=int(input(str(num1)+'x'+str(num2)+'? '))\n",
    "\n",
    "    if answer==num1*num2:\n",
    "        return 0\n",
    "    else:\n",
    "        print('땡! 정답은',num1*num2)\n",
    "        return -1"
   ]
  }
 ],
 "metadata": {
  "kernelspec": {
   "display_name": "study",
   "language": "python",
   "name": "python3"
  },
  "language_info": {
   "codemirror_mode": {
    "name": "ipython",
    "version": 3
   },
   "file_extension": ".py",
   "mimetype": "text/x-python",
   "name": "python",
   "nbconvert_exporter": "python",
   "pygments_lexer": "ipython3",
   "version": "3.12.0"
  }
 },
 "nbformat": 4,
 "nbformat_minor": 2
}
