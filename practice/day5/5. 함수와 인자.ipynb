{
 "cells": [
  {
   "cell_type": "code",
   "execution_count": 5,
   "metadata": {},
   "outputs": [
    {
     "name": "stdout",
     "output_type": "stream",
     "text": [
      "10\n"
     ]
    }
   ],
   "source": [
    "def mySum(a):\n",
    "    sum=0\n",
    "    for i in a:\n",
    "        sum+=i\n",
    "    return sum\n",
    "a=[1,2,3,4]\n",
    "\n",
    "print(mySum(a))"
   ]
  },
  {
   "cell_type": "code",
   "execution_count": 6,
   "metadata": {},
   "outputs": [
    {
     "name": "stdout",
     "output_type": "stream",
     "text": [
      "10\n"
     ]
    }
   ],
   "source": [
    "def mySum(*a):\n",
    "    sum=0\n",
    "    for i in a:\n",
    "        sum+=i\n",
    "    return sum\n",
    "\n",
    "print(mySum(1,2,3,4))"
   ]
  },
  {
   "cell_type": "markdown",
   "metadata": {},
   "source": [
    "특정 함수의 인자가 몇 개가 들어갈지 모를 경우에는 ***인자명**의 형태로 지정해주면  \n",
    "입력한 다수의 인자값을 **튜플** 형태로 받아서 입력해준다!"
   ]
  },
  {
   "cell_type": "code",
   "execution_count": 20,
   "metadata": {},
   "outputs": [
    {
     "name": "stdout",
     "output_type": "stream",
     "text": [
      "키워드 인자는  {'a': 1, 'b': 2, 'c': 'd'}\n"
     ]
    }
   ],
   "source": [
    "def kwargs(**kwargs):\n",
    "    print('키워드 인자는 ', kwargs)\n",
    "\n",
    "kwargs(a=1, b=2, c='d')"
   ]
  },
  {
   "cell_type": "markdown",
   "metadata": {},
   "source": [
    "키워드 인자는 **딕셔너리** 형태로 입력값을 저장해준다!"
   ]
  },
  {
   "cell_type": "code",
   "execution_count": 18,
   "metadata": {},
   "outputs": [
    {
     "name": "stdout",
     "output_type": "stream",
     "text": [
      "This is args  (1, 2, 3, 4)\n",
      "And this is kwargs  {'a': 1, 'b': 2}\n"
     ]
    }
   ],
   "source": [
    "def print_args(*args,**kwargs):\n",
    "    print('This is args ',args)\n",
    "    print('And this is kwargs ', kwargs)\n",
    "\n",
    "print_args(1,2,3,4,a=1,b=2)"
   ]
  }
 ],
 "metadata": {
  "kernelspec": {
   "display_name": "study",
   "language": "python",
   "name": "python3"
  },
  "language_info": {
   "codemirror_mode": {
    "name": "ipython",
    "version": 3
   },
   "file_extension": ".py",
   "mimetype": "text/x-python",
   "name": "python",
   "nbconvert_exporter": "python",
   "pygments_lexer": "ipython3",
   "version": "3.12.0"
  }
 },
 "nbformat": 4,
 "nbformat_minor": 2
}
