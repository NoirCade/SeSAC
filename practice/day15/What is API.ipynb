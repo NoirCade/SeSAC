{
 "cells": [
  {
   "cell_type": "markdown",
   "metadata": {},
   "source": [
    "대기업의 api는 돈만 내면 편리하게 기술을 사용할 수 있게 해준다  \n",
    "=> 뭔가 시작하기 전에 이미 만들어둔 기술이 있는지를 확인하는게 좋다  \n",
    "구글, 네이버, 카카오 등 대기업들의 api를 미리 파악하고 있으면 큰 도움"
   ]
  },
  {
   "cell_type": "markdown",
   "metadata": {},
   "source": [
    "공공 데이터포털의 데이터 중 파일데이터는 기관에서 직접 업로드, 표준데이터셋은 포털에서 합쳐서 올려주는 데이터  \n",
    "But 데이터셋의 품질이 별로... 좋지 않은 문제가... 기본적인 표준화도 되어있지 않은 상황\n"
   ]
  },
  {
   "cell_type": "markdown",
   "metadata": {},
   "source": []
  }
 ],
 "metadata": {
  "language_info": {
   "name": "python"
  }
 },
 "nbformat": 4,
 "nbformat_minor": 2
}
