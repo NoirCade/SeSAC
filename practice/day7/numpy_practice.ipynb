{
 "cells": [
  {
   "cell_type": "code",
   "execution_count": 11,
   "metadata": {},
   "outputs": [
    {
     "data": {
      "text/plain": [
       "str"
      ]
     },
     "execution_count": 11,
     "metadata": {},
     "output_type": "execute_result"
    }
   ],
   "source": [
    "import numpy as np\n",
    "import matplotlib.pyplot as plt\n",
    "\n",
    "data='''0 0 0 0 0 0 0 0 0 0 0 0 0 0 0 0 0 0 0 0\n",
    "0 0 0 0 0 0 0 0 0 3 3 3 3 0 0 0 0 0 0 0\n",
    "0 0 0 0 0 0 0 0 3 0 0 0 0 3 3 0 0 0 0 0\n",
    "0 0 0 0 0 0 0 3 0 0 1 1 0 0 0 3 0 0 0 0\n",
    "0 0 0 0 0 0 0 3 0 1 0 1 1 0 0 0 3 0 0 0\n",
    "0 0 0 0 0 0 3 0 0 1 1 1 1 0 0 0 0 3 0 0\n",
    "0 0 0 0 0 0 3 0 0 0 1 1 0 0 0 0 0 3 0 0\n",
    "0 0 0 0 0 3 0 0 0 0 0 0 0 0 0 0 0 3 0 0\n",
    "0 0 0 0 0 3 0 0 0 0 0 0 0 0 0 0 0 3 0 0\n",
    "0 0 0 0 3 0 0 0 0 0 0 0 0 0 3 3 0 3 0 0\n",
    "0 0 0 0 3 0 0 0 0 0 0 0 3 3 2 2 0 3 0 0\n",
    "0 0 0 3 0 0 0 0 0 0 3 3 2 2 2 2 0 3 0 0\n",
    "0 0 0 3 0 0 0 0 3 3 2 2 2 2 2 0 0 3 0 0\n",
    "0 0 3 0 0 0 3 3 2 2 2 2 2 0 0 2 0 3 0 0\n",
    "0 0 3 0 3 3 2 2 2 2 2 0 0 2 2 2 0 3 0 0\n",
    "0 0 3 3 2 2 2 2 2 0 0 2 2 2 2 2 3 3 0 0\n",
    "0 0 3 2 2 2 2 0 0 2 2 2 2 2 3 3 0 0 0 0\n",
    "0 0 3 2 2 0 0 2 2 2 2 2 3 3 0 0 0 0 0 0\n",
    "0 0 3 0 0 2 2 2 2 2 3 3 0 0 0 0 0 0 0 0\n",
    "0 0 3 2 2 2 2 2 3 3 0 0 0 0 0 0 0 0 0 0\n",
    "0 0 3 2 2 2 3 3 0 0 0 0 0 0 0 0 0 0 0 0\n",
    "0 0 3 2 3 3 0 0 0 0 0 0 0 0 0 0 0 0 0 0\n",
    "0 0 3 3 0 0 0 0 0 0 0 0 0 0 0 0 0 0 0 0\n",
    "0 0 0 0 0 0 0 0 0 0 0 0 0 0 0 0 0 0 0 0'''\n",
    "\n",
    "type(data)   # 문자열 자료를 리스트로 제작해야함. "
   ]
  },
  {
   "cell_type": "code",
   "execution_count": 12,
   "metadata": {},
   "outputs": [],
   "source": [
    "data=data.replace('\\n',' ')\n",
    "data=data.split(' ')\n",
    "data=np.reshape(data,(-1,20)) "
   ]
  },
  {
   "cell_type": "code",
   "execution_count": 13,
   "metadata": {},
   "outputs": [
    {
     "data": {
      "text/plain": [
       "((24, 20),\n",
       " array([[0, 0, 0, 0, 0, 0, 0, 0, 0, 0, 0, 0, 0, 0, 0, 0, 0, 0, 0, 0],\n",
       "        [0, 0, 0, 0, 0, 0, 0, 0, 0, 3, 3, 3, 3, 0, 0, 0, 0, 0, 0, 0],\n",
       "        [0, 0, 0, 0, 0, 0, 0, 0, 3, 0, 0, 0, 0, 3, 3, 0, 0, 0, 0, 0],\n",
       "        [0, 0, 0, 0, 0, 0, 0, 3, 0, 0, 1, 1, 0, 0, 0, 3, 0, 0, 0, 0],\n",
       "        [0, 0, 0, 0, 0, 0, 0, 3, 0, 1, 0, 1, 1, 0, 0, 0, 3, 0, 0, 0],\n",
       "        [0, 0, 0, 0, 0, 0, 3, 0, 0, 1, 1, 1, 1, 0, 0, 0, 0, 3, 0, 0],\n",
       "        [0, 0, 0, 0, 0, 0, 3, 0, 0, 0, 1, 1, 0, 0, 0, 0, 0, 3, 0, 0],\n",
       "        [0, 0, 0, 0, 0, 3, 0, 0, 0, 0, 0, 0, 0, 0, 0, 0, 0, 3, 0, 0],\n",
       "        [0, 0, 0, 0, 0, 3, 0, 0, 0, 0, 0, 0, 0, 0, 0, 0, 0, 3, 0, 0],\n",
       "        [0, 0, 0, 0, 3, 0, 0, 0, 0, 0, 0, 0, 0, 0, 3, 3, 0, 3, 0, 0],\n",
       "        [0, 0, 0, 0, 3, 0, 0, 0, 0, 0, 0, 0, 3, 3, 2, 2, 0, 3, 0, 0],\n",
       "        [0, 0, 0, 3, 0, 0, 0, 0, 0, 0, 3, 3, 2, 2, 2, 2, 0, 3, 0, 0],\n",
       "        [0, 0, 0, 3, 0, 0, 0, 0, 3, 3, 2, 2, 2, 2, 2, 0, 0, 3, 0, 0],\n",
       "        [0, 0, 3, 0, 0, 0, 3, 3, 2, 2, 2, 2, 2, 0, 0, 2, 0, 3, 0, 0],\n",
       "        [0, 0, 3, 0, 3, 3, 2, 2, 2, 2, 2, 0, 0, 2, 2, 2, 0, 3, 0, 0],\n",
       "        [0, 0, 3, 3, 2, 2, 2, 2, 2, 0, 0, 2, 2, 2, 2, 2, 3, 3, 0, 0],\n",
       "        [0, 0, 3, 2, 2, 2, 2, 0, 0, 2, 2, 2, 2, 2, 3, 3, 0, 0, 0, 0],\n",
       "        [0, 0, 3, 2, 2, 0, 0, 2, 2, 2, 2, 2, 3, 3, 0, 0, 0, 0, 0, 0],\n",
       "        [0, 0, 3, 0, 0, 2, 2, 2, 2, 2, 3, 3, 0, 0, 0, 0, 0, 0, 0, 0],\n",
       "        [0, 0, 3, 2, 2, 2, 2, 2, 3, 3, 0, 0, 0, 0, 0, 0, 0, 0, 0, 0],\n",
       "        [0, 0, 3, 2, 2, 2, 3, 3, 0, 0, 0, 0, 0, 0, 0, 0, 0, 0, 0, 0],\n",
       "        [0, 0, 3, 2, 3, 3, 0, 0, 0, 0, 0, 0, 0, 0, 0, 0, 0, 0, 0, 0],\n",
       "        [0, 0, 3, 3, 0, 0, 0, 0, 0, 0, 0, 0, 0, 0, 0, 0, 0, 0, 0, 0],\n",
       "        [0, 0, 0, 0, 0, 0, 0, 0, 0, 0, 0, 0, 0, 0, 0, 0, 0, 0, 0, 0]],\n",
       "       dtype=uint8))"
      ]
     },
     "execution_count": 13,
     "metadata": {},
     "output_type": "execute_result"
    }
   ],
   "source": [
    "data=np.array(data, dtype='uint8')\n",
    "np.shape(data), data"
   ]
  },
  {
   "cell_type": "code",
   "execution_count": 14,
   "metadata": {},
   "outputs": [
    {
     "data": {
      "text/plain": [
       "<matplotlib.image.AxesImage at 0x1b1ec57df10>"
      ]
     },
     "execution_count": 14,
     "metadata": {},
     "output_type": "execute_result"
    },
    {
     "data": {
      "image/png": "[encoded data removed]",
      "text/plain": [
       "<Figure size 640x480 with 1 Axes>"
      ]
     },
     "metadata": {},
     "output_type": "display_data"
    }
   ],
   "source": [
    "plt.imshow(data, cmap='gray')"
   ]
  },
  {
   "cell_type": "code",
   "execution_count": 15,
   "metadata": {},
   "outputs": [
    {
     "name": "stdout",
     "output_type": "stream",
     "text": [
      "(24, 20, 3)\n"
     ]
    }
   ],
   "source": [
    "tmp=np.zeros((24,20,3))\n",
    "tmp[:,:,0]=data[:,:]\n",
    "tmp[:,:,1]=data[:,:]\n",
    "tmp[:,:,2]=data[:,:]\n",
    "print(tmp.shape)"
   ]
  },
  {
   "cell_type": "code",
   "execution_count": 16,
   "metadata": {},
   "outputs": [
    {
     "name": "stdout",
     "output_type": "stream",
     "text": [
      "(24, 20, 3) [0 0 0 0 0 0 0 0 0 0 0 0 0 0 0 0 0 0 0 0 0 0 0 0]\n"
     ]
    }
   ],
   "source": [
    "tmp=tmp.astype('uint8')\n",
    "print(tmp.shape, tmp[:,0,0])"
   ]
  },
  {
   "cell_type": "code",
   "execution_count": 17,
   "metadata": {},
   "outputs": [
    {
     "name": "stdout",
     "output_type": "stream",
     "text": [
      "(24, 20, 3) [255 255 255 255 255 255 255 255 255 255 255 255 255 255 255 255 255 255\n",
      " 255 255 255 255 255 255]\n"
     ]
    },
    {
     "data": {
      "text/plain": [
       "<matplotlib.image.AxesImage at 0x1b1eb3f4320>"
      ]
     },
     "execution_count": 17,
     "metadata": {},
     "output_type": "execute_result"
    },
    {
     "data": {
      "image/png": "[encoded data removed]",
      "text/plain": [
       "<Figure size 640x480 with 1 Axes>"
      ]
     },
     "metadata": {},
     "output_type": "display_data"
    }
   ],
   "source": [
    "tmp[tmp[:,:,0]==0]=[255,255,255]\n",
    "tmp[tmp[:,:,0]==3]=[0,0,0]\n",
    "tmp[tmp[:,:,0]==1]=[255,0,0]\n",
    "tmp[tmp[:,:,0]==2]=[165,42,42]\n",
    "print(tmp.shape,tmp[:,0,0])\n",
    "plt.imshow(tmp)"
   ]
  },
  {
   "cell_type": "code",
   "execution_count": 18,
   "metadata": {},
   "outputs": [
    {
     "data": {
      "text/plain": [
       "-1"
      ]
     },
     "execution_count": 18,
     "metadata": {},
     "output_type": "execute_result"
    }
   ],
   "source": [
    "import cv2\n",
    "\n",
    "# img=cv2.imread(r\"C:\\Users\\bluecom015\\Desktop\\SeSAC\\data\\img\\flower01.jpg\", 1)\n",
    "cv2.imshow('test', tmp)\n",
    "cv2.waitKey(0)"
   ]
  },
  {
   "cell_type": "code",
   "execution_count": 22,
   "metadata": {},
   "outputs": [],
   "source": [
    "from glob import glob\n",
    "import numpy as np\n",
    "import matplotlib.pyplot as plt\n",
    "import cv2\n",
    "\n",
    "def myfunc(data, keyValue):\n",
    "    data=data.replace('\\n',' ')\n",
    "    data=data.split(' ')\n",
    "    # print(len(data))\n",
    "    data=np.reshape(data,(-1,20))\n",
    "    data=np.array(data, dtype='uint8')\n",
    "    print(data.shape)\n",
    "\n",
    "    tmp=np.zeros((np.shape(data)[0],20,3))\n",
    "    tmp[:,:,0]=data[:,:]\n",
    "    tmp[:,:,1]=data[:,:]\n",
    "    tmp[:,:,2]=data[:,:]\n",
    "    tmp=tmp.astype('uint8')\n",
    "\n",
    "    for key,value in zip(keyValue['find'],keyValue['replace']):\n",
    "        tmp[tmp[:,:,0]==key]=value\n",
    "    plt.imshow(tmp)\n",
    "    plt.show()\n",
    "\n",
    "    bun=len(glob('*.jpg'))+1\n",
    "    cv2.imshow('test', tmp)\n",
    "    cv2.waitKey(0)\n",
    "    fileName='img'+str(bun)+'.jpg'\n",
    "    print(bun)\n",
    "\n",
    "    # cv2.imwrite('./img'+str(bun)+'.jpg',tmp)\n",
    "    # print('fileName: {0} 이 저장되었습니다.'.format(fileName))"
   ]
  },
  {
   "cell_type": "code",
   "execution_count": 20,
   "metadata": {},
   "outputs": [
    {
     "name": "stdout",
     "output_type": "stream",
     "text": [
      "(23, 20)\n"
     ]
    },
    {
     "data": {
      "image/png": "[encoded data removed]",
      "text/plain": [
       "<Figure size 640x480 with 1 Axes>"
      ]
     },
     "metadata": {},
     "output_type": "display_data"
    },
    {
     "name": "stdout",
     "output_type": "stream",
     "text": [
      "1\n",
      "fileName: img1.jpg 이 저장되었습니다.\n"
     ]
    }
   ],
   "source": [
    "# 0:흰색(0,0,0),  1:빨간색(255,0,0),  2:하늘색(153,204,255),  3:갈색(165,42,42),  4:검정색(255,255,255)\n",
    "\n",
    "data='''0 0 0 0 0 0 0 0 0 0 0 0 0 0 0 0 0 0 0 0\n",
    "0 0 0 0 0 0 0 0 4 4 4 4 0 0 0 0 0 0 0 0\n",
    "0 0 0 0 0 0 0 4 2 2 0 4 0 0 0 0 0 0 0 0\n",
    "0 0 0 0 0 0 4 2 0 0 4 0 0 0 0 0 0 0 0 0\n",
    "0 0 0 0 0 0 4 0 0 0 4 0 0 0 0 0 0 0 0 0\n",
    "0 0 0 0 0 4 0 2 0 4 0 4 0 0 0 0 0 0 0 0\n",
    "0 0 0 0 0 4 0 2 0 0 0 0 4 4 0 0 0 0 0 0\n",
    "0 0 0 0 4 4 0 2 2 0 0 0 0 2 4 4 0 0 0 0\n",
    "0 0 0 4 1 1 4 0 2 2 0 0 0 0 2 2 4 0 0 0\n",
    "0 0 4 1 1 0 1 4 0 2 2 0 0 0 0 2 4 0 0 0\n",
    "0 0 4 1 1 1 1 4 0 0 2 2 0 0 0 0 2 4 0 0\n",
    "0 4 2 4 1 1 4 2 2 0 0 2 0 0 0 0 2 4 0 0\n",
    "0 4 2 2 4 4 2 0 2 0 0 2 0 0 0 0 2 4 0 0\n",
    "0 4 2 0 2 2 2 0 0 0 2 0 0 0 0 0 2 4 0 0\n",
    "0 0 4 2 0 0 0 2 2 2 0 0 0 0 0 2 4 0 0 0\n",
    "0 0 4 2 2 0 0 0 0 0 0 0 0 2 4 4 4 0 0 0\n",
    "0 0 0 4 4 2 0 0 0 2 2 4 4 4 4 4 4 0 0 0\n",
    "0 0 0 0 4 4 4 4 4 4 4 4 3 3 4 3 4 0 0 0\n",
    "0 0 0 0 4 4 3 3 4 3 3 3 4 3 4 3 4 0 0 0\n",
    "0 0 0 0 0 4 3 3 3 4 3 3 4 3 3 4 0 0 0 0\n",
    "0 0 0 0 0 0 4 3 3 4 3 3 3 4 4 0 0 0 0 0\n",
    "0 0 0 0 0 0 0 4 4 4 4 4 4 0 0 0 0 0 0 0\n",
    "0 0 0 0 0 0 0 0 0 0 0 0 0 0 0 0 0 0 0 0'''\n",
    "\n",
    "findList=[0,1,2,3,4]\n",
    "replaceList=[[0,0,0],[255,0,0],[153,203,255],[165,42,42],[255,255,255]]\n",
    "keyValue=dict({'find':findList, 'replace':replaceList})\n",
    "\n",
    "myfunc(data, keyValue)"
   ]
  },
  {
   "cell_type": "code",
   "execution_count": 23,
   "metadata": {},
   "outputs": [
    {
     "name": "stdout",
     "output_type": "stream",
     "text": [
      "[['0 0 0 0 0 0 0 0 0 0 0 0 0 0 0 0 0 0 0 0 0 0 0 0 0 0 0 0 4 4 4 4 0 0 0 0 0 0 0 0 0 0 0 0 0 0 0 4 2 2 0 4 0 0 0 0 0 0 0 0 0 0 0 0 0 0 4 2 0 0 4 0 0 0 0 0 0 0 0 0 0 0 0 0 0 0 4 0 0 0 4 0 0 0 0 0 0 0 0 0 0 0 0 0 0 4 0 2 0 4 0 4 0 0 0 0 0 0 0 0 0 0 0 0 0 4 0 2 0 0 0 0 4 4 0 0 0 0 0 0 0 0 0 0 4 4 0 2 2 0 0 0 0 2 4 4 0 0 0 0 0 0 0 4 1 1 4 0 2 2 0 0 0 0 2 2 4 0 0 0 0 0 4 1 1 0 1 4 0 2 2 0 0 0 0 2 4 0 0 0 0 0 4 1 1 1 1 4 0 0 2 2 0 0 0 0 2 4 0 0 0 4 2 4 1 1 4 2 2 0 0 2 0 0 0 0 2 4 0 0 0 4 2 2 4 4 2 0 2 0 0 2 0 0 0 0 2 4 0 0 0 4 2 0 2 2 2 0 0 0 2 0 0 0 0 0 2 4 0 0 0 0 4 2 0 0 0 2 2 2 0 0 0 0 0 2 4 0 0 0 0 0 4 2 2 0 0 0 0 0 0 0 0 2 4 4 4 0 0 0 0 0 0 4 4 2 0 0 0 2 2 4 4 4 4 4 4 0 0 0 0 0 0 0 4 4 4 4 4 4 4 4 3 3 4 3 4 0 0 0 0 0 0 0 4 4 3 3 4 3 3 3 4 3 4 3 4 0 0 0 0 0 0 0 0 4 3 3 3 4 3 3 4 3 3 4 0 0 0 0 0 0 0 0 0 0 4 3 3 4 3 3 3 4 4 0 0 0 0 0 0 0 0 0 0 0 0 4 4 4 4 4 4 0 0 0 0 0 0 0 0 0 0 0 0 0 0 0 0 0 0 0 0 0 0 0 0 0 0 0']]\n",
      "(23, 20)\n"
     ]
    },
    {
     "data": {
      "image/png": "[encoded data removed]",
      "text/plain": [
       "<Figure size 640x480 with 1 Axes>"
      ]
     },
     "metadata": {},
     "output_type": "display_data"
    },
    {
     "name": "stdout",
     "output_type": "stream",
     "text": [
      "1\n"
     ]
    }
   ],
   "source": [
    "import csv\n",
    "\n",
    "csv_file=open(r'C:\\Users\\bluecom015\\Desktop\\SeSAC\\data\\교육 자료\\2024_01_04. Numpy_이미지\\02_브로드캐스트 및 클래스,외부자료연결\\3. 픽셀아트로작업\\test.csv','r')\n",
    "f=csv.reader(csv_file)\n",
    "data=list(f)\n",
    "print(data)\n",
    "myfunc(data[0][0], keyValue)"
   ]
  },
  {
   "cell_type": "code",
   "execution_count": 26,
   "metadata": {},
   "outputs": [
    {
     "data": {
      "text/plain": [
       "((23, 1),\n",
       " [['0 0 0 0 0 0 0 0 0 0 0 0 0 0 0 0 0 0 0 0'],\n",
       "  ['0 0 0 0 0 0 0 0 4 4 4 4 0 0 0 0 0 0 0 0'],\n",
       "  ['0 0 0 0 0 0 0 4 2 2 0 4 0 0 0 0 0 0 0 0'],\n",
       "  ['0 0 0 0 0 0 4 2 0 0 4 0 0 0 0 0 0 0 0 0'],\n",
       "  ['0 0 0 0 0 0 4 0 0 0 4 0 0 0 0 0 0 0 0 0'],\n",
       "  ['0 0 0 0 0 4 0 2 0 4 0 4 0 0 0 0 0 0 0 0'],\n",
       "  ['0 0 0 0 0 4 0 2 0 0 0 0 4 4 0 0 0 0 0 0'],\n",
       "  ['0 0 0 0 4 4 0 2 2 0 0 0 0 2 4 4 0 0 0 0'],\n",
       "  ['0 0 0 4 1 1 4 0 2 2 0 0 0 0 2 2 4 0 0 0'],\n",
       "  ['0 0 4 1 1 0 1 4 0 2 2 0 0 0 0 2 4 0 0 0'],\n",
       "  ['0 0 4 1 1 1 1 4 0 0 2 2 0 0 0 0 2 4 0 0'],\n",
       "  ['0 4 2 4 1 1 4 2 2 0 0 2 0 0 0 0 2 4 0 0'],\n",
       "  ['0 4 2 2 4 4 2 0 2 0 0 2 0 0 0 0 2 4 0 0'],\n",
       "  ['0 4 2 0 2 2 2 0 0 0 2 0 0 0 0 0 2 4 0 0'],\n",
       "  ['0 0 4 2 0 0 0 2 2 2 0 0 0 0 0 2 4 0 0 0'],\n",
       "  ['0 0 4 2 2 0 0 0 0 0 0 0 0 2 4 4 4 0 0 0'],\n",
       "  ['0 0 0 4 4 2 0 0 0 2 2 4 4 4 4 4 4 0 0 0'],\n",
       "  ['0 0 0 0 4 4 4 4 4 4 4 4 3 3 4 3 4 0 0 0'],\n",
       "  ['0 0 0 0 4 4 3 3 4 3 3 3 4 3 4 3 4 0 0 0'],\n",
       "  ['0 0 0 0 0 4 3 3 3 4 3 3 4 3 3 4 0 0 0 0'],\n",
       "  ['0 0 0 0 0 0 4 3 3 4 3 3 3 4 4 0 0 0 0 0'],\n",
       "  ['0 0 0 0 0 0 0 4 4 4 4 4 4 0 0 0 0 0 0 0'],\n",
       "  ['0 0 0 0 0 0 0 0 0 0 0 0 0 0 0 0 0 0 0 0']])"
      ]
     },
     "execution_count": 26,
     "metadata": {},
     "output_type": "execute_result"
    }
   ],
   "source": [
    "csv_file=open(r'C:\\Users\\bluecom015\\Desktop\\SeSAC\\data\\교육 자료\\2024_01_04. Numpy_이미지\\02_브로드캐스트 및 클래스,외부자료연결\\3. 픽셀아트로작업\\test01.csv','r')\n",
    "f=csv.reader(csv_file)\n",
    "data=list(f)\n",
    "np.shape(data), data"
   ]
  },
  {
   "cell_type": "code",
   "execution_count": 28,
   "metadata": {},
   "outputs": [
    {
     "data": {
      "text/plain": [
       "((23,),\n",
       " array(['0 0 0 0 0 0 0 0 0 0 0 0 0 0 0 0 0 0 0 0',\n",
       "        '0 0 0 0 0 0 0 0 4 4 4 4 0 0 0 0 0 0 0 0',\n",
       "        '0 0 0 0 0 0 0 4 2 2 0 4 0 0 0 0 0 0 0 0',\n",
       "        '0 0 0 0 0 0 4 2 0 0 4 0 0 0 0 0 0 0 0 0',\n",
       "        '0 0 0 0 0 0 4 0 0 0 4 0 0 0 0 0 0 0 0 0',\n",
       "        '0 0 0 0 0 4 0 2 0 4 0 4 0 0 0 0 0 0 0 0',\n",
       "        '0 0 0 0 0 4 0 2 0 0 0 0 4 4 0 0 0 0 0 0',\n",
       "        '0 0 0 0 4 4 0 2 2 0 0 0 0 2 4 4 0 0 0 0',\n",
       "        '0 0 0 4 1 1 4 0 2 2 0 0 0 0 2 2 4 0 0 0',\n",
       "        '0 0 4 1 1 0 1 4 0 2 2 0 0 0 0 2 4 0 0 0',\n",
       "        '0 0 4 1 1 1 1 4 0 0 2 2 0 0 0 0 2 4 0 0',\n",
       "        '0 4 2 4 1 1 4 2 2 0 0 2 0 0 0 0 2 4 0 0',\n",
       "        '0 4 2 2 4 4 2 0 2 0 0 2 0 0 0 0 2 4 0 0',\n",
       "        '0 4 2 0 2 2 2 0 0 0 2 0 0 0 0 0 2 4 0 0',\n",
       "        '0 0 4 2 0 0 0 2 2 2 0 0 0 0 0 2 4 0 0 0',\n",
       "        '0 0 4 2 2 0 0 0 0 0 0 0 0 2 4 4 4 0 0 0',\n",
       "        '0 0 0 4 4 2 0 0 0 2 2 4 4 4 4 4 4 0 0 0',\n",
       "        '0 0 0 0 4 4 4 4 4 4 4 4 3 3 4 3 4 0 0 0',\n",
       "        '0 0 0 0 4 4 3 3 4 3 3 3 4 3 4 3 4 0 0 0',\n",
       "        '0 0 0 0 0 4 3 3 3 4 3 3 4 3 3 4 0 0 0 0',\n",
       "        '0 0 0 0 0 0 4 3 3 4 3 3 3 4 4 0 0 0 0 0',\n",
       "        '0 0 0 0 0 0 0 4 4 4 4 4 4 0 0 0 0 0 0 0',\n",
       "        '0 0 0 0 0 0 0 0 0 0 0 0 0 0 0 0 0 0 0 0'], dtype='<U39'))"
      ]
     },
     "execution_count": 28,
     "metadata": {},
     "output_type": "execute_result"
    }
   ],
   "source": [
    "data=np.resize(data,(23))\n",
    "np.shape(data), data"
   ]
  },
  {
   "cell_type": "code",
   "execution_count": 29,
   "metadata": {},
   "outputs": [
    {
     "data": {
      "text/plain": [
       "((),\n",
       " '0 0 0 0 0 0 0 0 0 0 0 0 0 0 0 0 0 0 0 00 0 0 0 0 0 0 0 4 4 4 4 0 0 0 0 0 0 0 00 0 0 0 0 0 0 4 2 2 0 4 0 0 0 0 0 0 0 00 0 0 0 0 0 4 2 0 0 4 0 0 0 0 0 0 0 0 00 0 0 0 0 0 4 0 0 0 4 0 0 0 0 0 0 0 0 00 0 0 0 0 4 0 2 0 4 0 4 0 0 0 0 0 0 0 00 0 0 0 0 4 0 2 0 0 0 0 4 4 0 0 0 0 0 00 0 0 0 4 4 0 2 2 0 0 0 0 2 4 4 0 0 0 00 0 0 4 1 1 4 0 2 2 0 0 0 0 2 2 4 0 0 00 0 4 1 1 0 1 4 0 2 2 0 0 0 0 2 4 0 0 00 0 4 1 1 1 1 4 0 0 2 2 0 0 0 0 2 4 0 00 4 2 4 1 1 4 2 2 0 0 2 0 0 0 0 2 4 0 00 4 2 2 4 4 2 0 2 0 0 2 0 0 0 0 2 4 0 00 4 2 0 2 2 2 0 0 0 2 0 0 0 0 0 2 4 0 00 0 4 2 0 0 0 2 2 2 0 0 0 0 0 2 4 0 0 00 0 4 2 2 0 0 0 0 0 0 0 0 2 4 4 4 0 0 00 0 0 4 4 2 0 0 0 2 2 4 4 4 4 4 4 0 0 00 0 0 0 4 4 4 4 4 4 4 4 3 3 4 3 4 0 0 00 0 0 0 4 4 3 3 4 3 3 3 4 3 4 3 4 0 0 00 0 0 0 0 4 3 3 3 4 3 3 4 3 3 4 0 0 0 00 0 0 0 0 0 4 3 3 4 3 3 3 4 4 0 0 0 0 00 0 0 0 0 0 0 4 4 4 4 4 4 0 0 0 0 0 0 00 0 0 0 0 0 0 0 0 0 0 0 0 0 0 0 0 0 0 0')"
      ]
     },
     "execution_count": 29,
     "metadata": {},
     "output_type": "execute_result"
    }
   ],
   "source": [
    "data=''.join(data)\n",
    "np.shape(data), data"
   ]
  },
  {
   "cell_type": "code",
   "execution_count": null,
   "metadata": {},
   "outputs": [],
   "source": []
  }
 ],
 "metadata": {
  "kernelspec": {
   "display_name": "study",
   "language": "python",
   "name": "python3"
  },
  "language_info": {
   "codemirror_mode": {
    "name": "ipython",
    "version": 3
   },
   "file_extension": ".py",
   "mimetype": "text/x-python",
   "name": "python",
   "nbconvert_exporter": "python",
   "pygments_lexer": "ipython3",
   "version": "3.12.0"
  }
 },
 "nbformat": 4,
 "nbformat_minor": 2
}
