{
 "cells": [
  {
   "cell_type": "code",
   "execution_count": 7,
   "metadata": {},
   "outputs": [
    {
     "data": {
      "text/plain": [
       "str"
      ]
     },
     "execution_count": 7,
     "metadata": {},
     "output_type": "execute_result"
    }
   ],
   "source": [
    "import numpy as np\n",
    "import matplotlib.pyplot as plt\n",
    "\n",
    "data='''0 0 0 0 0 0 0 0 0 0 0 0 0 0 0 0 0 0 0 0\n",
    "0 0 0 0 0 0 0 0 0 3 3 3 3 0 0 0 0 0 0 0\n",
    "0 0 0 0 0 0 0 0 3 0 0 0 0 3 3 0 0 0 0 0\n",
    "0 0 0 0 0 0 0 3 0 0 1 1 0 0 0 3 0 0 0 0\n",
    "0 0 0 0 0 0 0 3 0 1 0 1 1 0 0 0 3 0 0 0\n",
    "0 0 0 0 0 0 3 0 0 1 1 1 1 0 0 0 0 3 0 0\n",
    "0 0 0 0 0 0 3 0 0 0 1 1 0 0 0 0 0 3 0 0\n",
    "0 0 0 0 0 3 0 0 0 0 0 0 0 0 0 0 0 3 0 0\n",
    "0 0 0 0 0 3 0 0 0 0 0 0 0 0 0 0 0 3 0 0\n",
    "0 0 0 0 3 0 0 0 0 0 0 0 0 0 3 3 0 3 0 0\n",
    "0 0 0 0 3 0 0 0 0 0 0 0 3 3 2 2 0 3 0 0\n",
    "0 0 0 3 0 0 0 0 0 0 3 3 2 2 2 2 0 3 0 0\n",
    "0 0 0 3 0 0 0 0 3 3 2 2 2 2 2 0 0 3 0 0\n",
    "0 0 3 0 0 0 3 3 2 2 2 2 2 0 0 2 0 3 0 0\n",
    "0 0 3 0 3 3 2 2 2 2 2 0 0 2 2 2 0 3 0 0\n",
    "0 0 3 3 2 2 2 2 2 0 0 2 2 2 2 2 3 3 0 0\n",
    "0 0 3 2 2 2 2 0 0 2 2 2 2 2 3 3 0 0 0 0\n",
    "0 0 3 2 2 0 0 2 2 2 2 2 3 3 0 0 0 0 0 0\n",
    "0 0 3 0 0 2 2 2 2 2 3 3 0 0 0 0 0 0 0 0\n",
    "0 0 3 2 2 2 2 2 3 3 0 0 0 0 0 0 0 0 0 0\n",
    "0 0 3 2 2 2 3 3 0 0 0 0 0 0 0 0 0 0 0 0\n",
    "0 0 3 2 3 3 0 0 0 0 0 0 0 0 0 0 0 0 0 0\n",
    "0 0 3 3 0 0 0 0 0 0 0 0 0 0 0 0 0 0 0 0\n",
    "0 0 0 0 0 0 0 0 0 0 0 0 0 0 0 0 0 0 0 0'''\n",
    "\n",
    "type(data)   # 문자열 자료를 리스트로 제작해야함. "
   ]
  },
  {
   "cell_type": "code",
   "execution_count": 10,
   "metadata": {},
   "outputs": [
    {
     "ename": "AttributeError",
     "evalue": "'numpy.ndarray' object has no attribute 'replace'",
     "output_type": "error",
     "traceback": [
      "\u001b[1;31m---------------------------------------------------------------------------\u001b[0m",
      "\u001b[1;31mAttributeError\u001b[0m                            Traceback (most recent call last)",
      "Cell \u001b[1;32mIn[10], line 1\u001b[0m\n\u001b[1;32m----> 1\u001b[0m data\u001b[38;5;241m=\u001b[39m\u001b[43mdata\u001b[49m\u001b[38;5;241;43m.\u001b[39;49m\u001b[43mreplace\u001b[49m(\u001b[38;5;124m'\u001b[39m\u001b[38;5;130;01m\\n\u001b[39;00m\u001b[38;5;124m'\u001b[39m,\u001b[38;5;124m'\u001b[39m\u001b[38;5;124m \u001b[39m\u001b[38;5;124m'\u001b[39m)\n\u001b[0;32m      2\u001b[0m data\u001b[38;5;241m=\u001b[39mdata\u001b[38;5;241m.\u001b[39msplit(\u001b[38;5;124m'\u001b[39m\u001b[38;5;124m \u001b[39m\u001b[38;5;124m'\u001b[39m)\n\u001b[0;32m      3\u001b[0m data\u001b[38;5;241m=\u001b[39mnp\u001b[38;5;241m.\u001b[39mreshape(data,(\u001b[38;5;241m-\u001b[39m\u001b[38;5;241m1\u001b[39m,\u001b[38;5;241m20\u001b[39m)) \n",
      "\u001b[1;31mAttributeError\u001b[0m: 'numpy.ndarray' object has no attribute 'replace'"
     ]
    }
   ],
   "source": [
    "data=data.replace('\\n',' ')\n",
    "data=data.split(' ')\n",
    "data=np.reshape(data,(-1,20)) "
   ]
  },
  {
   "cell_type": "code",
   "execution_count": 11,
   "metadata": {},
   "outputs": [
    {
     "data": {
      "text/plain": [
       "((24, 20),\n",
       " array([[0, 0, 0, 0, 0, 0, 0, 0, 0, 0, 0, 0, 0, 0, 0, 0, 0, 0, 0, 0],\n",
       "        [0, 0, 0, 0, 0, 0, 0, 0, 0, 3, 3, 3, 3, 0, 0, 0, 0, 0, 0, 0],\n",
       "        [0, 0, 0, 0, 0, 0, 0, 0, 3, 0, 0, 0, 0, 3, 3, 0, 0, 0, 0, 0],\n",
       "        [0, 0, 0, 0, 0, 0, 0, 3, 0, 0, 1, 1, 0, 0, 0, 3, 0, 0, 0, 0],\n",
       "        [0, 0, 0, 0, 0, 0, 0, 3, 0, 1, 0, 1, 1, 0, 0, 0, 3, 0, 0, 0],\n",
       "        [0, 0, 0, 0, 0, 0, 3, 0, 0, 1, 1, 1, 1, 0, 0, 0, 0, 3, 0, 0],\n",
       "        [0, 0, 0, 0, 0, 0, 3, 0, 0, 0, 1, 1, 0, 0, 0, 0, 0, 3, 0, 0],\n",
       "        [0, 0, 0, 0, 0, 3, 0, 0, 0, 0, 0, 0, 0, 0, 0, 0, 0, 3, 0, 0],\n",
       "        [0, 0, 0, 0, 0, 3, 0, 0, 0, 0, 0, 0, 0, 0, 0, 0, 0, 3, 0, 0],\n",
       "        [0, 0, 0, 0, 3, 0, 0, 0, 0, 0, 0, 0, 0, 0, 3, 3, 0, 3, 0, 0],\n",
       "        [0, 0, 0, 0, 3, 0, 0, 0, 0, 0, 0, 0, 3, 3, 2, 2, 0, 3, 0, 0],\n",
       "        [0, 0, 0, 3, 0, 0, 0, 0, 0, 0, 3, 3, 2, 2, 2, 2, 0, 3, 0, 0],\n",
       "        [0, 0, 0, 3, 0, 0, 0, 0, 3, 3, 2, 2, 2, 2, 2, 0, 0, 3, 0, 0],\n",
       "        [0, 0, 3, 0, 0, 0, 3, 3, 2, 2, 2, 2, 2, 0, 0, 2, 0, 3, 0, 0],\n",
       "        [0, 0, 3, 0, 3, 3, 2, 2, 2, 2, 2, 0, 0, 2, 2, 2, 0, 3, 0, 0],\n",
       "        [0, 0, 3, 3, 2, 2, 2, 2, 2, 0, 0, 2, 2, 2, 2, 2, 3, 3, 0, 0],\n",
       "        [0, 0, 3, 2, 2, 2, 2, 0, 0, 2, 2, 2, 2, 2, 3, 3, 0, 0, 0, 0],\n",
       "        [0, 0, 3, 2, 2, 0, 0, 2, 2, 2, 2, 2, 3, 3, 0, 0, 0, 0, 0, 0],\n",
       "        [0, 0, 3, 0, 0, 2, 2, 2, 2, 2, 3, 3, 0, 0, 0, 0, 0, 0, 0, 0],\n",
       "        [0, 0, 3, 2, 2, 2, 2, 2, 3, 3, 0, 0, 0, 0, 0, 0, 0, 0, 0, 0],\n",
       "        [0, 0, 3, 2, 2, 2, 3, 3, 0, 0, 0, 0, 0, 0, 0, 0, 0, 0, 0, 0],\n",
       "        [0, 0, 3, 2, 3, 3, 0, 0, 0, 0, 0, 0, 0, 0, 0, 0, 0, 0, 0, 0],\n",
       "        [0, 0, 3, 3, 0, 0, 0, 0, 0, 0, 0, 0, 0, 0, 0, 0, 0, 0, 0, 0],\n",
       "        [0, 0, 0, 0, 0, 0, 0, 0, 0, 0, 0, 0, 0, 0, 0, 0, 0, 0, 0, 0]],\n",
       "       dtype=uint8))"
      ]
     },
     "execution_count": 11,
     "metadata": {},
     "output_type": "execute_result"
    }
   ],
   "source": [
    "data=np.array(data, dtype='uint8')\n",
    "np.shape(data), data"
   ]
  },
  {
   "cell_type": "code",
   "execution_count": 12,
   "metadata": {},
   "outputs": [
    {
     "data": {
      "text/plain": [
       "<matplotlib.image.AxesImage at 0x1d3093b1460>"
      ]
     },
     "execution_count": 12,
     "metadata": {},
     "output_type": "execute_result"
    },
    {
     "data": {
      "image/png": "[encoded data removed]",
      "text/plain": [
       "<Figure size 640x480 with 1 Axes>"
      ]
     },
     "metadata": {},
     "output_type": "display_data"
    }
   ],
   "source": [
    "plt.imshow(data, cmap='gray')"
   ]
  },
  {
   "cell_type": "code",
   "execution_count": 13,
   "metadata": {},
   "outputs": [
    {
     "name": "stdout",
     "output_type": "stream",
     "text": [
      "(24, 20, 3)\n"
     ]
    }
   ],
   "source": [
    "tmp=np.zeros((24,20,3))\n",
    "tmp[:,:,0]=data[:,:]\n",
    "tmp[:,:,1]=data[:,:]\n",
    "tmp[:,:,2]=data[:,:]\n",
    "print(tmp.shape)"
   ]
  },
  {
   "cell_type": "code",
   "execution_count": 14,
   "metadata": {},
   "outputs": [
    {
     "name": "stdout",
     "output_type": "stream",
     "text": [
      "(24, 20, 3) [0 0 0 0 0 0 0 0 0 0 0 0 0 0 0 0 0 0 0 0 0 0 0 0]\n"
     ]
    }
   ],
   "source": [
    "tmp=tmp.astype('uint8')\n",
    "print(tmp.shape, tmp[:,0,0])"
   ]
  },
  {
   "cell_type": "code",
   "execution_count": 15,
   "metadata": {},
   "outputs": [
    {
     "name": "stdout",
     "output_type": "stream",
     "text": [
      "(24, 20, 3) [255 255 255 255 255 255 255 255 255 255 255 255 255 255 255 255 255 255\n",
      " 255 255 255 255 255 255]\n"
     ]
    },
    {
     "data": {
      "text/plain": [
       "<matplotlib.image.AxesImage at 0x1d309559af0>"
      ]
     },
     "execution_count": 15,
     "metadata": {},
     "output_type": "execute_result"
    },
    {
     "data": {
      "image/png": "[encoded data removed]",
      "text/plain": [
       "<Figure size 640x480 with 1 Axes>"
      ]
     },
     "metadata": {},
     "output_type": "display_data"
    }
   ],
   "source": [
    "tmp[tmp[:,:,0]==0]=[255,255,255]\n",
    "tmp[tmp[:,:,0]==3]=[0,0,0]\n",
    "tmp[tmp[:,:,0]==1]=[255,0,0]\n",
    "tmp[tmp[:,:,0]==2]=[165,42,42]\n",
    "print(tmp.shape,tmp[:,0,0])\n",
    "plt.imshow(tmp)"
   ]
  },
  {
   "cell_type": "code",
   "execution_count": null,
   "metadata": {},
   "outputs": [],
   "source": []
  }
 ],
 "metadata": {
  "kernelspec": {
   "display_name": "study",
   "language": "python",
   "name": "python3"
  },
  "language_info": {
   "codemirror_mode": {
    "name": "ipython",
    "version": 3
   },
   "file_extension": ".py",
   "mimetype": "text/x-python",
   "name": "python",
   "nbconvert_exporter": "python",
   "pygments_lexer": "ipython3",
   "version": "3.12.0"
  }
 },
 "nbformat": 4,
 "nbformat_minor": 2
}
