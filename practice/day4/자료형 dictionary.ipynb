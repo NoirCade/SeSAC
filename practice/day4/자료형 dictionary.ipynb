{
 "cells": [
  {
   "cell_type": "code",
   "execution_count": 3,
   "metadata": {},
   "outputs": [
    {
     "data": {
      "text/plain": [
       "dict_keys(['눈', 'b', '강아지'])"
      ]
     },
     "execution_count": 3,
     "metadata": {},
     "output_type": "execute_result"
    }
   ],
   "source": [
    "data={'눈':['사람의 눈', '기상에서의 눈'],\n",
    "    'b':['날다'],\n",
    "    '강아지':['애완동물','댕댕이라고도 함','반려견']}\n",
    "type(data)\n",
    "data['강아지']\n",
    "data.keys()"
   ]
  },
  {
   "cell_type": "code",
   "execution_count": 4,
   "metadata": {},
   "outputs": [
    {
     "data": {
      "text/plain": [
       "'눈'"
      ]
     },
     "execution_count": 4,
     "metadata": {},
     "output_type": "execute_result"
    }
   ],
   "source": [
    "list(data.keys())[0]\n",
    "# 키값들 중에 특정 값을 가져오고 싶으면 리스트화 해서 써라;"
   ]
  },
  {
   "cell_type": "code",
   "execution_count": 5,
   "metadata": {},
   "outputs": [
    {
     "data": {
      "text/plain": [
       "{'눈': ['사람의 눈', '기상에서의 눈'],\n",
       " 'b': ['날다', '비상하다', ',,,,'],\n",
       " '강아지': ['애완동물', '댕댕이라고도 함', '반려견']}"
      ]
     },
     "execution_count": 5,
     "metadata": {},
     "output_type": "execute_result"
    }
   ],
   "source": [
    "data['b']=['날다','비상하다',',,,,']\n",
    "data"
   ]
  },
  {
   "cell_type": "markdown",
   "metadata": {},
   "source": [
    "딕셔너리 구조는 json 파일과 같다!\n",
    "==> json 확장자는 딕셔너리 구조이다\n",
    "\n",
    "그리고 인공지능의 거의 모든 데이터셋은 json 파일이다!!!"
   ]
  }
 ],
 "metadata": {
  "kernelspec": {
   "display_name": "study",
   "language": "python",
   "name": "python3"
  },
  "language_info": {
   "codemirror_mode": {
    "name": "ipython",
    "version": 3
   },
   "file_extension": ".py",
   "mimetype": "text/x-python",
   "name": "python",
   "nbconvert_exporter": "python",
   "pygments_lexer": "ipython3",
   "version": "3.12.0"
  }
 },
 "nbformat": 4,
 "nbformat_minor": 2
}
