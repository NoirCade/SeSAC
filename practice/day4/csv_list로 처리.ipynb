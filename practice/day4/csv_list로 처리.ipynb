{
 "cells": [
  {
   "cell_type": "code",
   "execution_count": 13,
   "metadata": {},
   "outputs": [
    {
     "ename": "TypeError",
     "evalue": "'_csv.reader' object is not subscriptable",
     "output_type": "error",
     "traceback": [
      "\u001b[1;31m---------------------------------------------------------------------------\u001b[0m",
      "\u001b[1;31mTypeError\u001b[0m                                 Traceback (most recent call last)",
      "Cell \u001b[1;32mIn[13], line 6\u001b[0m\n\u001b[0;32m      4\u001b[0m f\u001b[38;5;241m=\u001b[39m\u001b[38;5;28mopen\u001b[39m(path)\n\u001b[0;32m      5\u001b[0m data\u001b[38;5;241m=\u001b[39mcsv\u001b[38;5;241m.\u001b[39mreader(f)\n\u001b[1;32m----> 6\u001b[0m title\u001b[38;5;241m=\u001b[39m\u001b[43mdata\u001b[49m\u001b[43m[\u001b[49m\u001b[38;5;241;43m0\u001b[39;49m\u001b[43m]\u001b[49m\n\u001b[0;32m      7\u001b[0m \u001b[38;5;28mnext\u001b[39m(data)  \u001b[38;5;66;03m# 맨 윗줄의 헤더를 제거하는 작업\u001b[39;00m\n\u001b[0;32m      8\u001b[0m data\u001b[38;5;241m=\u001b[39m\u001b[38;5;28mlist\u001b[39m(data)\n",
      "\u001b[1;31mTypeError\u001b[0m: '_csv.reader' object is not subscriptable"
     ]
    }
   ],
   "source": [
    "import csv\n",
    "path=r\"C:\\Users\\bluecom015\\Downloads\\Lets-get-it-Python-Lecture-main\\Lets-get-it-Python-Lecture-main\\card.csv\"\n",
    "\n",
    "f=open(path)\n",
    "data=csv.reader(f)\n",
    "title=list(data)[0]\n",
    "next(data)  # 맨 윗줄의 헤더를 제거하는 작업\n",
    "data=list(data)"
   ]
  },
  {
   "cell_type": "code",
   "execution_count": 8,
   "metadata": {},
   "outputs": [
    {
     "ename": "NotADirectoryError",
     "evalue": "[WinError 267] 디렉터리 이름이 올바르지 않습니다: 'C:\\\\Users\\\\bluecom015\\\\Downloads\\\\Lets-get-it-Python-Lecture-main\\\\Lets-get-it-Python-Lecture-main\\\\card.csv'",
     "output_type": "error",
     "traceback": [
      "\u001b[1;31m---------------------------------------------------------------------------\u001b[0m",
      "\u001b[1;31mNotADirectoryError\u001b[0m                        Traceback (most recent call last)",
      "Cell \u001b[1;32mIn[8], line 9\u001b[0m\n\u001b[0;32m      6\u001b[0m     fileList\u001b[38;5;241m=\u001b[39mos\u001b[38;5;241m.\u001b[39mlistdir(file_path)\n\u001b[0;32m      7\u001b[0m     \u001b[38;5;28mprint\u001b[39m(fileList)\n\u001b[1;32m----> 9\u001b[0m \u001b[43mchkData\u001b[49m\u001b[43m(\u001b[49m\u001b[43mpath\u001b[49m\u001b[43m)\u001b[49m\n",
      "Cell \u001b[1;32mIn[8], line 6\u001b[0m, in \u001b[0;36mchkData\u001b[1;34m(file_path)\u001b[0m\n\u001b[0;32m      5\u001b[0m \u001b[38;5;28;01mdef\u001b[39;00m \u001b[38;5;21mchkData\u001b[39m(file_path):\n\u001b[1;32m----> 6\u001b[0m     fileList\u001b[38;5;241m=\u001b[39m\u001b[43mos\u001b[49m\u001b[38;5;241;43m.\u001b[39;49m\u001b[43mlistdir\u001b[49m\u001b[43m(\u001b[49m\u001b[43mfile_path\u001b[49m\u001b[43m)\u001b[49m\n\u001b[0;32m      7\u001b[0m     \u001b[38;5;28mprint\u001b[39m(fileList)\n",
      "\u001b[1;31mNotADirectoryError\u001b[0m: [WinError 267] 디렉터리 이름이 올바르지 않습니다: 'C:\\\\Users\\\\bluecom015\\\\Downloads\\\\Lets-get-it-Python-Lecture-main\\\\Lets-get-it-Python-Lecture-main\\\\card.csv'"
     ]
    }
   ],
   "source": [
    "import os\n",
    "from glob import glob\n",
    "\n",
    "#### 파일 있는지 확인하는 함수\n",
    "def chkData(file_path):\n",
    "    fileList=os.listdir(file_path)\n",
    "    print(fileList)\n",
    "\n",
    "chkData(path)"
   ]
  },
  {
   "cell_type": "code",
   "execution_count": null,
   "metadata": {},
   "outputs": [
    {
     "name": "stdout",
     "output_type": "stream",
     "text": [
      "['2019-10-12 9:13', '1972753', '본', 'S&', '185', '네이버파이낸셜(주)', '546800', '일시불(A)', '부분취소']\n",
      "236\n"
     ]
    }
   ],
   "source": [
    "print(data[0])\n",
    "print(len(data))"
   ]
  },
  {
   "cell_type": "code",
   "execution_count": null,
   "metadata": {},
   "outputs": [
    {
     "name": "stdout",
     "output_type": "stream",
     "text": [
      "['2019', '10', '12 9:13']\n",
      "['2019', '10', '12 11:56']\n",
      "['2019', '10', '13 9:16']\n",
      "['2019', '10', '14 1:32']\n",
      "['2019', '10', '14 7:06']\n",
      "['2019', '10', '15 23:32']\n",
      "['2019', '10', '16 8:00']\n",
      "['2019', '10', '16 16:04']\n",
      "['2019', '10', '17 1:13']\n",
      "['2019', '10', '17 20:19']\n",
      "['2019', '10', '17 20:28']\n",
      "['2019', '10', '17 20:35']\n",
      "['2019', '10', '17 22:43']\n",
      "['2019', '10', '18 9:23']\n",
      "['2019', '10', '18 13:07']\n",
      "['2019', '10', '18 15:48']\n",
      "['2019', '10', '19 20:51']\n",
      "['2019', '10', '20 11:05']\n",
      "['2019', '10', '20 19:41']\n",
      "['2019', '10', '20 20:41']\n",
      "['2019', '10', '21 8:02']\n",
      "['2019', '10', '21 9:01']\n",
      "['2019', '10', '21 19:39']\n",
      "['2019', '10', '22 0:20']\n",
      "['2019', '10', '22 19:13']\n",
      "['2019', '10', '23 14:33']\n",
      "['2019', '10', '23 17:11']\n",
      "['2019', '10', '23 17:15']\n",
      "['2019', '10', '24 8:14']\n",
      "['2019', '10', '24 16:02']\n",
      "['2019', '10', '24 17:49']\n",
      "['2019', '10', '24 20:10']\n",
      "['2019', '10', '25 7:44']\n",
      "['2019', '10', '25 15:36']\n",
      "['2019', '10', '25 16:51']\n",
      "['2019', '10', '25 16:58']\n",
      "['2019', '10', '26 14:37']\n",
      "['2019', '10', '27 1:29']\n",
      "['2019', '10', '27 1:35']\n",
      "['2019', '10', '27 2:46']\n",
      "['2019', '10', '27 21:07']\n",
      "['2019', '10', '28 0:47']\n",
      "['2019', '10', '28 17:40']\n",
      "['2019', '10', '28 17:45']\n",
      "['2019', '10', '28 23:42']\n",
      "['2019', '10', '29 13:53']\n",
      "['2019', '10', '29 15:45']\n",
      "['2019', '10', '29 18:19']\n",
      "['2019', '10', '30 7:48']\n",
      "['2019', '10', '30 9:15']\n",
      "['2019', '10', '30 16:48']\n",
      "['2019', '10', '30 17:06']\n",
      "['2019', '10', '31 8:34']\n",
      "['2019', '10', '31 11:14']\n",
      "['2019', '10', '31 11:37']\n",
      "['2019', '10', '31 14:54']\n",
      "['2019', '11', '01 9:25']\n",
      "['2019', '11', '01 16:57']\n",
      "['2019', '11', '01 17:25']\n",
      "['2019', '11', '01 19:40']\n",
      "['2019', '11', '01 21:41']\n",
      "['2019', '11', '01 22:30']\n",
      "['2019', '11', '02 12:14']\n",
      "['2019', '11', '02 15:53']\n",
      "['2019', '11', '02 16:45']\n",
      "['2019', '11', '02 17:18']\n",
      "['2019', '11', '02 17:41']\n",
      "['2019', '11', '03 9:00']\n",
      "['2019', '11', '03 12:00']\n",
      "['2019', '11', '03 12:08']\n",
      "['2019', '11', '03 17:19']\n",
      "['2019', '11', '04 13:27']\n",
      "['2019', '11', '04 13:43']\n",
      "['2019', '11', '04 13:50']\n",
      "['2019', '11', '04 14:13']\n",
      "['2019', '11', '04 14:21']\n",
      "['2019', '11', '04 15:16']\n",
      "['2019', '11', '04 20:29']\n",
      "['2019', '11', '04 20:36']\n",
      "['2019', '11', '04 22:17']\n",
      "['2019', '11', '05 5:03']\n",
      "['2019', '11', '05 13:42']\n",
      "['2019', '11', '05 17:54']\n",
      "['2019', '11', '05 18:01']\n",
      "['2019', '11', '06 0:23']\n",
      "['2019', '11', '06 9:49']\n",
      "['2019', '11', '06 16:45']\n",
      "['2019', '11', '07 8:00']\n",
      "['2019', '11', '07 8:04']\n",
      "['2019', '11', '07 9:32']\n",
      "['2019', '11', '07 10:47']\n",
      "['2019', '11', '07 11:03']\n",
      "['2019', '11', '07 16:36']\n",
      "['2019', '11', '07 19:32']\n",
      "['2019', '11', '08 9:32']\n",
      "['2019', '11', '08 15:50']\n",
      "['2019', '11', '08 16:10']\n",
      "['2019', '11', '08 19:50']\n",
      "['2019', '11', '08 20:11']\n",
      "['2019', '11', '09 9:53']\n",
      "['2019', '11', '09 11:03']\n",
      "['2019', '11', '09 12:58']\n",
      "['2019', '11', '09 22:02']\n",
      "['2019', '11', '10 8:44']\n",
      "['2019', '11', '10 13:42']\n",
      "['2019', '11', '10 14:33']\n",
      "['2019', '11', '10 14:40']\n",
      "['2019', '11', '10 16:29']\n",
      "['2019', '11', '11 16:50']\n",
      "['2019', '11', '11 17:02']\n",
      "['2019', '11', '11 17:12']\n",
      "['2019', '11', '12 16:30']\n",
      "['2019', '11', '12 16:55']\n",
      "['2019', '11', '12 16:56']\n",
      "['2019', '11', '13 14:29']\n",
      "['2019', '11', '13 14:49']\n",
      "['2019', '11', '13 19:14']\n",
      "['2019', '11', '13 22:51']\n",
      "['2019', '11', '14 6:29']\n",
      "['2019', '11', '14 6:39']\n",
      "['2019', '11', '14 17:15']\n",
      "['2019', '11', '14 17:48']\n",
      "['2019', '11', '15 9:07']\n",
      "['2019', '11', '15 15:01']\n",
      "['2019', '11', '15 16:26']\n",
      "['2019', '11', '15 16:26']\n",
      "['2019', '11', '15 18:02']\n",
      "['2019', '11', '15 18:24']\n",
      "['2019', '11', '15 19:01']\n",
      "['2019', '11', '15 19:01']\n",
      "['2019', '11', '16 6:39']\n",
      "['2019', '11', '16 6:47']\n",
      "['2019', '11', '16 19:56']\n",
      "['2019', '11', '16 20:09']\n",
      "['2019', '11', '16 20:12']\n",
      "['2019', '11', '16 21:24']\n",
      "['2019', '11', '22 6:50']\n",
      "['2019', '11', '22 16:50']\n",
      "['2019', '11', '22 23:45']\n",
      "['2019', '11', '23 18:02']\n",
      "['2019', '11', '24 12:51']\n",
      "['2019', '11', '24 18:44']\n",
      "['2019', '11', '25 10:18']\n",
      "['2019', '11', '25 10:35']\n",
      "['2019', '11', '25 17:54']\n",
      "['2019', '11', '26 16:47']\n",
      "['2019', '11', '27 10:21']\n",
      "['2019', '11', '27 13:06']\n",
      "['2019', '11', '27 17:11']\n",
      "['2019', '11', '27 17:27']\n",
      "['2019', '11', '28 7:51']\n",
      "['2019', '11', '28 8:01']\n",
      "['2019', '11', '28 13:02']\n",
      "['2019', '11', '28 13:19']\n",
      "['2019', '11', '28 13:42']\n",
      "['2019', '11', '28 16:37']\n",
      "['2019', '11', '30 9:55']\n",
      "['2019', '11', '30 17:08']\n",
      "['2019', '11', '30 20:28']\n",
      "['2019', '11', '30 21:38']\n",
      "['2019', '12', '01 13:31']\n",
      "['2019', '12', '02 17:04']\n",
      "['2019', '12', '02 17:35']\n",
      "['2019', '12', '03 16:40']\n",
      "['2019', '12', '04 8:44']\n",
      "['2019', '12', '04 17:03']\n",
      "['2019', '12', '06 2:09']\n",
      "['2019', '12', '07 20:21']\n",
      "['2019', '12', '08 14:26']\n",
      "['2019', '12', '08 17:18']\n",
      "['2019', '12', '09 7:31']\n",
      "['2019', '12', '09 8:00']\n",
      "['2019', '12', '09 8:43']\n",
      "['2019', '12', '09 20:43']\n",
      "['2019', '12', '09 23:11']\n",
      "['2019', '12', '10 8:10']\n",
      "['2019', '12', '11 11:18']\n",
      "['2019', '12', '12 16:44']\n",
      "['2019', '12', '13 7:52']\n",
      "['2019', '12', '13 8:08']\n",
      "['2019', '12', '13 8:08']\n",
      "['2019', '12', '13 16:31']\n",
      "['2019', '12', '13 16:35']\n",
      "['2019', '12', '14 23:07']\n",
      "['2019', '12', '15 12:46']\n",
      "['2019', '12', '15 14:23']\n",
      "['2019', '12', '15 14:25']\n",
      "['2019', '12', '15 14:42']\n",
      "['2019', '12', '15 14:42']\n",
      "['2019', '12', '15 15:06']\n",
      "['2019', '12', '15 15:19']\n",
      "['2019', '12', '15 16:00']\n",
      "['2019', '12', '15 16:19']\n",
      "['2019', '12', '15 16:19']\n",
      "['2019', '12', '15 16:38']\n",
      "['2019', '12', '15 17:01']\n",
      "['2019', '12', '15 17:03']\n",
      "['2019', '12', '15 18:43']\n",
      "['2019', '12', '15 19:23']\n",
      "['2019', '12', '16 14:00']\n",
      "['2019', '12', '16 23:02']\n",
      "['2019', '12', '17 15:41']\n",
      "['2019', '12', '17 15:55']\n",
      "['2019', '12', '17 18:08']\n",
      "['2019', '12', '18 7:58']\n",
      "['2019', '12', '18 11:36']\n",
      "['2019', '12', '19 1:58']\n",
      "['2019', '12', '19 9:49']\n",
      "['2019', '12', '20 11:58']\n",
      "['2019', '12', '20 16:06']\n",
      "['2019', '12', '20 22:31']\n",
      "['2019', '12', '22 16:41']\n",
      "['2019', '12', '23 17:23']\n",
      "['2019', '12', '23 18:41']\n",
      "['2019', '12', '23 19:56']\n",
      "['2019', '12', '24 8:09']\n",
      "['2019', '12', '24 15:22']\n",
      "['2019', '12', '24 15:50']\n",
      "['2019', '12', '25 18:27']\n",
      "['2019', '12', '25 21:04']\n",
      "['2019', '12', '26 16:09']\n",
      "['2019', '12', '26 16:22']\n",
      "['2019', '12', '26 16:22']\n",
      "['2019', '12', '26 17:13']\n",
      "['2019', '12', '27 7:43']\n",
      "['2019', '12', '27 7:43']\n",
      "['2019', '12', '29 17:53']\n",
      "['2019', '12', '29 18:20']\n",
      "['2019', '12', '29 18:58']\n",
      "['2019', '12', '29 19:36']\n",
      "['2019', '12', '30 8:18']\n",
      "['2019', '12', '30 17:59']\n",
      "['2019', '12', '31 12:35']\n",
      "['2019', '12', '31 12:43']\n",
      "['2019', '12', '31 12:50']\n",
      "['2019', '12', '31 14:12']\n"
     ]
    }
   ],
   "source": [
    "for row in data:\n",
    "    print(row[0].split('-'))"
   ]
  },
  {
   "cell_type": "code",
   "execution_count": 12,
   "metadata": {},
   "outputs": [
    {
     "ename": "NameError",
     "evalue": "name 'title' is not defined",
     "output_type": "error",
     "traceback": [
      "\u001b[1;31m---------------------------------------------------------------------------\u001b[0m",
      "\u001b[1;31mNameError\u001b[0m                                 Traceback (most recent call last)",
      "Cell \u001b[1;32mIn[12], line 5\u001b[0m\n\u001b[0;32m      1\u001b[0m spend\u001b[38;5;241m=\u001b[39m[]\n\u001b[0;32m      3\u001b[0m \u001b[38;5;66;03m# for row in data:\u001b[39;00m\n\u001b[0;32m      4\u001b[0m \u001b[38;5;66;03m#     spend.append(int(row[6]))\u001b[39;00m\n\u001b[1;32m----> 5\u001b[0m idx\u001b[38;5;241m=\u001b[39m\u001b[43mtitle\u001b[49m\u001b[38;5;241m.\u001b[39mindex[\u001b[38;5;124m'\u001b[39m\u001b[38;5;124m이용금액\u001b[39m\u001b[38;5;124m'\u001b[39m]\n\u001b[0;32m      6\u001b[0m spend\u001b[38;5;241m=\u001b[39m [\u001b[38;5;28mint\u001b[39m(row[idx]) \u001b[38;5;28;01mfor\u001b[39;00m row \u001b[38;5;129;01min\u001b[39;00m data]\n\u001b[0;32m      7\u001b[0m \u001b[38;5;28mprint\u001b[39m(spend)\n",
      "\u001b[1;31mNameError\u001b[0m: name 'title' is not defined"
     ]
    }
   ],
   "source": [
    "spend=[]\n",
    "\n",
    "# for row in data:\n",
    "#     spend.append(int(row[6]))\n",
    "idx=title.index['이용금액']\n",
    "spend= [int(row[idx]) for row in data]\n",
    "print(spend)"
   ]
  },
  {
   "cell_type": "code",
   "execution_count": null,
   "metadata": {},
   "outputs": [
    {
     "name": "stdout",
     "output_type": "stream",
     "text": [
      "[2093015, 4127744, 1953269]\n"
     ]
    }
   ],
   "source": [
    "s_mon=[0,0,0]\n",
    "\n",
    "for row in data:\n",
    "    if row[-1]=='전표매입':\n",
    "        month_idx=int(row[0].split('-')[1])-10\n",
    "        s_mon[month_idx]+=int(row[-3])\n",
    "        \n",
    "print(s_mon)"
   ]
  },
  {
   "cell_type": "code",
   "execution_count": null,
   "metadata": {},
   "outputs": [
    {
     "data": {
      "image/png": "[encoded data removed]",
      "text/plain": [
       "<Figure size 640x480 with 1 Axes>"
      ]
     },
     "metadata": {},
     "output_type": "display_data"
    }
   ],
   "source": [
    "import matplotlib.pyplot as plt\n",
    "\n",
    "plt.figure(dpi=100)\n",
    "plt.rc('font', family='Malgun Gothic')\n",
    "plt.title('10-12월 지출현황')\n",
    "plt.bar(['10월', '11월', '12월'], s_mon, color='royalblue')\n",
    "plt.show()"
   ]
  },
  {
   "cell_type": "code",
   "execution_count": null,
   "metadata": {},
   "outputs": [
    {
     "name": "stdout",
     "output_type": "stream",
     "text": [
      "[8600, 83900, 52800]\n"
     ]
    }
   ],
   "source": [
    "s_taxi=[0,0,0]\n",
    "\n",
    "for row in data:\n",
    "    if row[-1]=='전표매입' and '택시' in row[5]:\n",
    "        month_idx=int(row[0].split('-')[1])-10\n",
    "        s_taxi[month_idx]+=int(row[-3])\n",
    "        \n",
    "print(s_taxi)"
   ]
  },
  {
   "cell_type": "code",
   "execution_count": null,
   "metadata": {},
   "outputs": [
    {
     "data": {
      "image/png": "[encoded data removed]",
      "text/plain": [
       "<Figure size 640x480 with 1 Axes>"
      ]
     },
     "metadata": {},
     "output_type": "display_data"
    }
   ],
   "source": [
    "plt.figure(dpi=100)\n",
    "plt.title('10-12월 택시비 지출 현황')\n",
    "plt.plot(['10월','11월','12월'],s_taxi, color='crimson',label='택시 지출액')\n",
    "plt.legend()\n",
    "plt.show()"
   ]
  }
 ],
 "metadata": {
  "kernelspec": {
   "display_name": "study",
   "language": "python",
   "name": "python3"
  },
  "language_info": {
   "codemirror_mode": {
    "name": "ipython",
    "version": 3
   },
   "file_extension": ".py",
   "mimetype": "text/x-python",
   "name": "python",
   "nbconvert_exporter": "python",
   "pygments_lexer": "ipython3",
   "version": "3.12.0"
  }
 },
 "nbformat": 4,
 "nbformat_minor": 2
}
