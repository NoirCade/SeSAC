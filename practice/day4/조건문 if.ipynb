{
 "cells": [
  {
   "cell_type": "code",
   "execution_count": 1,
   "metadata": {},
   "outputs": [
    {
     "data": {
      "text/plain": [
       "[100, 2]"
      ]
     },
     "execution_count": 1,
     "metadata": {},
     "output_type": "execute_result"
    }
   ],
   "source": [
    "a=[1,2]\n",
    "a[0];a[0]=100\n",
    "a"
   ]
  },
  {
   "cell_type": "code",
   "execution_count": 2,
   "metadata": {},
   "outputs": [
    {
     "name": "stdout",
     "output_type": "stream",
     "text": [
      "1\n"
     ]
    },
    {
     "ename": "TypeError",
     "evalue": "'tuple' object does not support item assignment",
     "output_type": "error",
     "traceback": [
      "\u001b[1;31m---------------------------------------------------------------------------\u001b[0m",
      "\u001b[1;31mTypeError\u001b[0m                                 Traceback (most recent call last)",
      "Cell \u001b[1;32mIn[2], line 2\u001b[0m\n\u001b[0;32m      1\u001b[0m a\u001b[38;5;241m=\u001b[39m(\u001b[38;5;241m1\u001b[39m,\u001b[38;5;241m2\u001b[39m)\n\u001b[1;32m----> 2\u001b[0m \u001b[38;5;28mprint\u001b[39m(a[\u001b[38;5;241m0\u001b[39m]); a[\u001b[38;5;241m0\u001b[39m]\u001b[38;5;241m=\u001b[39m\u001b[38;5;241m100\u001b[39m\n\u001b[0;32m      3\u001b[0m a\n",
      "\u001b[1;31mTypeError\u001b[0m: 'tuple' object does not support item assignment"
     ]
    }
   ],
   "source": [
    "a=(1,2)\n",
    "print(a[0]); a[0]=100\n",
    "a"
   ]
  },
  {
   "cell_type": "code",
   "execution_count": 7,
   "metadata": {},
   "outputs": [
    {
     "name": "stdout",
     "output_type": "stream",
     "text": [
      "<class 'tuple'>\n",
      "(50, 100)\n"
     ]
    }
   ],
   "source": [
    "from PIL import Image\n",
    "file=r\"C:\\Users\\bluecom015\\Downloads\\12-27\\img\\flower01.jpg\"\n",
    "img=Image.open(file)\n",
    "print(type(img.size))\n",
    "\n",
    "img=img.resize((50,100))\n",
    "print(img.size)"
   ]
  },
  {
   "cell_type": "markdown",
   "metadata": {},
   "source": [
    "resize는 단순하게 사이즈를 줄이거나 늘리는 것이라고 생각하기 쉬우나,  \n",
    "실제로는 각 픽셀들의 대표색값을 뽑아내어 줄여내거나 새로운 픽셀을 생성해내야하는 복잡한 작업이다.  \n",
    "자세한 내용은 resize 함수의 내용을 확인해보면 될 것"
   ]
  },
  {
   "cell_type": "code",
   "execution_count": 20,
   "metadata": {},
   "outputs": [
    {
     "name": "stdout",
     "output_type": "stream",
     "text": [
      "자료형은 <class 'tuple'> 입니다.\n",
      "변경없음\n"
     ]
    },
    {
     "data": {
      "text/plain": [
       "tuple"
      ]
     },
     "execution_count": 20,
     "metadata": {},
     "output_type": "execute_result"
    }
   ],
   "source": [
    "a=(1,2)\n",
    "print('자료형은', type(a), '입니다.')\n",
    "userChoice=input('변경은 1, 아니면 0')\n",
    "\n",
    "if type(a)==tuple:\n",
    "\n",
    "    if userChoice=='1':\n",
    "        a=list(a)\n",
    "        print('리스트로 변경했어요')\n",
    "    else:\n",
    "        print('변경없음')\n",
    "elif type(a)==list:\n",
    "    print('타입변경 없음')\n",
    "\n",
    "type(a)"
   ]
  },
  {
   "cell_type": "code",
   "execution_count": 3,
   "metadata": {},
   "outputs": [
    {
     "name": "stdout",
     "output_type": "stream",
     "text": [
      "<class 'tuple'> (100, 2)\n"
     ]
    }
   ],
   "source": [
    "a=(1,2)\n",
    "\n",
    "if type(a)==tuple:\n",
    "    a=list(a)\n",
    "    a[0]=100\n",
    "    a=tuple(a)\n",
    "\n",
    "elif type(a)==list:\n",
    "    print('타입변경 없음')\n",
    "    a[0]=100\n",
    "    a=tuple(a)\n",
    "\n",
    "print(type(a), a)"
   ]
  }
 ],
 "metadata": {
  "kernelspec": {
   "display_name": "study",
   "language": "python",
   "name": "python3"
  },
  "language_info": {
   "codemirror_mode": {
    "name": "ipython",
    "version": 3
   },
   "file_extension": ".py",
   "mimetype": "text/x-python",
   "name": "python",
   "nbconvert_exporter": "python",
   "pygments_lexer": "ipython3",
   "version": "3.12.0"
  }
 },
 "nbformat": 4,
 "nbformat_minor": 2
}
