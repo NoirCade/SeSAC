{
 "cells": [
  {
   "cell_type": "code",
   "execution_count": 21,
   "metadata": {},
   "outputs": [
    {
     "data": {
      "text/plain": [
       "(200, 101)"
      ]
     },
     "execution_count": 21,
     "metadata": {},
     "output_type": "execute_result"
    }
   ],
   "source": [
    "import numpy as np\n",
    "\n",
    "# 초성 리스트. 00 ~ 18\n",
    "CHOSUNG_LIST = ['ㄱ', 'ㄲ', 'ㄴ', 'ㄷ', 'ㄸ', 'ㄹ', 'ㅁ', 'ㅂ', 'ㅃ', 'ㅅ', 'ㅆ', 'ㅇ', 'ㅈ', 'ㅉ', 'ㅊ', 'ㅋ', 'ㅌ', 'ㅍ', 'ㅎ']\n",
    "# 중성 리스트. 00 ~ 20\n",
    "JUNGSUNG_LIST = ['ㅏ', 'ㅐ', 'ㅑ', 'ㅒ', 'ㅓ', 'ㅔ', 'ㅕ', 'ㅖ', 'ㅗ', 'ㅘ', 'ㅙ', 'ㅚ', 'ㅛ', 'ㅜ', 'ㅝ', 'ㅞ', 'ㅟ', 'ㅠ', 'ㅡ', 'ㅢ', 'ㅣ']\n",
    "# 종성 리스트. 00 ~ 27 + 1(1개 없음)\n",
    "JONGSUNG_LIST = [' ', 'ㄱ', 'ㄲ', 'ㄳ', 'ㄴ', 'ㄵ', 'ㄶ', 'ㄷ', 'ㄹ', 'ㄺ', 'ㄻ', 'ㄼ', 'ㄽ', 'ㄾ', 'ㄿ', 'ㅀ', 'ㅁ', 'ㅂ', 'ㅄ', 'ㅅ', 'ㅆ', 'ㅇ', 'ㅈ', 'ㅊ', 'ㅋ', 'ㅌ', 'ㅍ', 'ㅎ']\n",
    "\n",
    "def korean_to_be_englished(korean_word):\n",
    "    r_lst = []\n",
    "    for w in list(korean_word.strip()):\n",
    "        ## 영어인 경우 구분해서 작성함. \n",
    "        if '가'<=w<='힣':\n",
    "            ## 588개 마다 초성이 바뀜. \n",
    "            ch1 = (ord(w) - ord('가'))//588\n",
    "            ## 중성은 총 28가지 종류\n",
    "            ch2 = ((ord(w) - ord('가')) - (588*ch1)) // 28\n",
    "            ch3 = (ord(w) - ord('가')) - (588*ch1) - 28*ch2\n",
    "            r_lst.append([CHOSUNG_LIST[ch1], JUNGSUNG_LIST[ch2], JONGSUNG_LIST[ch3]])\n",
    "        else:\n",
    "            r_lst.append([w])\n",
    "    return r_lst\n",
    "\n",
    "\n",
    "# 입력한 문장의 자음, 모음 벡터화\n",
    "def make_input_vector(text):\n",
    "    # 자음, 모음 카데고리 사전 만들기\n",
    "    NUMBER_LIST = list(map(str, [i for i in range(10)]))\n",
    "    SPECIAL_WORD_LIST = ['!', '\"', '#', '$', '%', '&', '\\'', '?','@', '*', '+',',','-','.', '/', '~', ':', '^', ' ']\n",
    "    ONEWORD_LIST = ['ㄳ', 'ㄵ', 'ㅄ', 'ㄺ']\n",
    "\n",
    "    # 초성, 중성, 종성 리스트 생성\n",
    "    word_vector_list = CHOSUNG_LIST+JUNGSUNG_LIST+JONGSUNG_LIST+NUMBER_LIST+SPECIAL_WORD_LIST+ONEWORD_LIST\n",
    "\n",
    "    # 카데고리 사전의 각 데이터와 인덱스를 딕셔너리로 추출\n",
    "    # 자음일 때 예를 들어 'ㄱ': [0, 41]은 ㄱ이 초성으로 오면 0, 종성으로 오면 41\n",
    "    # ' '(공백) 이면 ' ': [40, 122]. 40은 글자에 종성이 없을 때. 122는 단어와 단어 사이 띄어쓰기\n",
    "\n",
    "    word_vector_idx_dict = {}\n",
    "\n",
    "    for idx, data in enumerate(word_vector_list):\n",
    "        if not data in word_vector_idx_dict:\n",
    "            word_vector_idx_dict[data] = [] \n",
    "        word_vector_idx_dict[data].append(idx)\n",
    "\n",
    "    # 자음 중 초성과 종성에서 종성에만 있는 데이터를 따로 추출\n",
    "    JONGSUNG_ONLY = sorted(list(set(JONGSUNG_LIST)-set(CHOSUNG_LIST)))[1:]\n",
    "    \n",
    "    input_vector = [[0 for _ in range(101)] for _ in range(200)]\n",
    "    text = text.lower()\n",
    "    consonants_and_vowels = korean_to_be_englished(text)\n",
    "\n",
    "    if len(sum(consonants_and_vowels,[]))<200:\n",
    "        cnt = 0  # input_vector의 index\n",
    "        for words in consonants_and_vowels:\n",
    "            if len(words) == 3:  # 한글일 때 (초성, 중성, 종성)\n",
    "                for idx in range(3):\n",
    "                    if idx == 0 or idx == 1 or (idx == 2 and (words[idx] == ' ' or words[idx] in JONGSUNG_ONLY)):\n",
    "                        \"\"\"\n",
    "                        1. 초성\n",
    "                        2. 중성 \n",
    "                        3. 종성이 없을 때 \n",
    "                        4. 종성이 있을 때, 자음 중 종성만 있으면\n",
    "                        \"\"\"\n",
    "                        input_vector[cnt][word_vector_idx_dict[words[idx]][0]]=1\n",
    "                    else:  # 자음 중 초성과 종성 둘 다 있는 경우, 종성\n",
    "                        input_vector[cnt][word_vector_idx_dict[words[idx]][1]]=1\n",
    "                    cnt += 1\n",
    "                    \n",
    "            else:  # 한글이 아닌 경우 (특수문자, 영어)\n",
    "                if words[0] not in word_vector_list:  # word_vector_list에 없는 특수문자는 제외\n",
    "                    pass\n",
    "                elif words[0] == ' ':  # 띄어쓰기인 경우\n",
    "                    input_vector[cnt][word_vector_idx_dict[words[0]][1]]=1\n",
    "                else:  # 특수문자, 영어인 경우\n",
    "                    input_vector[cnt][word_vector_idx_dict[words[0]][0]]=1\n",
    "                cnt += 1\n",
    "        \n",
    "        return input_vector\n",
    "    \n",
    "    else:\n",
    "        return print('Invalid Input')\n",
    "    \n",
    "text = \"취뽀하고 싶다. 나 좀 데려가줘~~\"\n",
    "text2 = \"동해물과 백두산이 마르고 닳도로 하느님이 보우하사 우리나라 만세 무궁화 삼천리 화려강산 대한사람 대한으로 길이 보전하세 이렇게 써도 50자가\"\n",
    "a = np.asarray(make_input_vector(text2))\n",
    "\n",
    "a.shape"
   ]
  },
  {
   "cell_type": "code",
   "execution_count": 2,
   "metadata": {},
   "outputs": [
    {
     "data": {
      "text/plain": [
       "101"
      ]
     },
     "execution_count": 2,
     "metadata": {},
     "output_type": "execute_result"
    }
   ],
   "source": [
    "# 초성 리스트. 00 ~ 18\n",
    "CHOSUNG_LIST = ['ㄱ', 'ㄲ', 'ㄴ', 'ㄷ', 'ㄸ', 'ㄹ', 'ㅁ', 'ㅂ', 'ㅃ', 'ㅅ', 'ㅆ', 'ㅇ', 'ㅈ', 'ㅉ', 'ㅊ', 'ㅋ', 'ㅌ', 'ㅍ', 'ㅎ']\n",
    "# 중성 리스트. 00 ~ 20\n",
    "JUNGSUNG_LIST = ['ㅏ', 'ㅐ', 'ㅑ', 'ㅒ', 'ㅓ', 'ㅔ', 'ㅕ', 'ㅖ', 'ㅗ', 'ㅘ', 'ㅙ', 'ㅚ', 'ㅛ', 'ㅜ', 'ㅝ', 'ㅞ', 'ㅟ', 'ㅠ', 'ㅡ', 'ㅢ', 'ㅣ']\n",
    "# 종성 리스트. 00 ~ 27 + 1(1개 없음)\n",
    "JONGSUNG_LIST = [' ', 'ㄱ', 'ㄲ', 'ㄳ', 'ㄴ', 'ㄵ', 'ㄶ', 'ㄷ', 'ㄹ', 'ㄺ', 'ㄻ', 'ㄼ', 'ㄽ', 'ㄾ', 'ㄿ', 'ㅀ', 'ㅁ', 'ㅂ', 'ㅄ', 'ㅅ', 'ㅆ', 'ㅇ', 'ㅈ', 'ㅊ', 'ㅋ', 'ㅌ', 'ㅍ', 'ㅎ']\n",
    "NUMBER_LIST = list(map(str, [i for i in range(10)]))\n",
    "SPECIAL_WORD_LIST = ['!', '\"', '#', '$', '%', '&', '\\'', '?','@', '*', '+',',','-','.', '/', '~', ':', '^', ' ']\n",
    "ONEWORD_LIST = ['ㄳ', 'ㄵ', 'ㅄ', 'ㄺ']\n",
    "\n",
    "# 초성, 중성, 종성 리스트 생성\n",
    "word_vector_list = CHOSUNG_LIST+JUNGSUNG_LIST+JONGSUNG_LIST+NUMBER_LIST+SPECIAL_WORD_LIST+ONEWORD_LIST\n",
    "\n",
    "len(word_vector_list)"
   ]
  },
  {
   "cell_type": "code",
   "execution_count": null,
   "metadata": {},
   "outputs": [],
   "source": []
  }
 ],
 "metadata": {
  "kernelspec": {
   "display_name": "fp",
   "language": "python",
   "name": "python3"
  },
  "language_info": {
   "codemirror_mode": {
    "name": "ipython",
    "version": 3
   },
   "file_extension": ".py",
   "mimetype": "text/x-python",
   "name": "python",
   "nbconvert_exporter": "python",
   "pygments_lexer": "ipython3",
   "version": "3.11.8"
  }
 },
 "nbformat": 4,
 "nbformat_minor": 2
}
