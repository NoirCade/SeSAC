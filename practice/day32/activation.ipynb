{
 "cells": [
  {
   "cell_type": "markdown",
   "metadata": {},
   "source": [
    "y값 분류\n",
    "다항 분류는 무조건 원핫 인코딩 후 softmax\n",
    "    softmax 함수는 wx+b 한 값을 sigmoid해서 0~1로 변경한 여러개의 값들을 더해서 나눈 확률 값\n",
    "\n",
    "이항 분류는 sigmoid와 softmax 중 사용자가 선택\n",
    "    y값의 출력 갯수가 1개면 sigmoid\n",
    "    y값의 출력 갯수가 2개면 softmax"
   ]
  }
 ],
 "metadata": {
  "kernelspec": {
   "display_name": "mp",
   "language": "python",
   "name": "python3"
  },
  "language_info": {
   "name": "python",
   "version": "3.7.12"
  }
 },
 "nbformat": 4,
 "nbformat_minor": 2
}
