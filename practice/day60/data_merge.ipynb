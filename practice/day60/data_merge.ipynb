{
 "cells": [
  {
   "cell_type": "code",
   "execution_count": 4,
   "metadata": {},
   "outputs": [
    {
     "data": {
      "text/plain": [
       "0        [[0, 0, 0, 0, 0, 0, 0, 0, 0, 0, 0, 0, 0, 0, 0,...\n",
       "1        [[0, 0, 0, 0, 0, 0, 0, 0, 0, 0, 0, 0, 0, 0, 0,...\n",
       "2        [[0, 0, 0, 0, 0, 0, 0, 0, 0, 0, 0, 0, 0, 0, 0,...\n",
       "3        [[0, 0, 0, 0, 0, 0, 0, 0, 0, 0, 0, 0, 0, 0, 0,...\n",
       "4        [[0, 0, 0, 0, 0, 0, 0, 0, 0, 0, 0, 0, 0, 0, 0,...\n",
       "                               ...                        \n",
       "57862    [[0, 0, 0, 0, 0, 0, 0, 0, 0, 0, 0, 0, 1, 0, 0,...\n",
       "57863    [[0, 0, 0, 1, 0, 0, 0, 0, 0, 0, 0, 0, 0, 0, 0,...\n",
       "57864    [[0, 0, 0, 0, 0, 0, 1, 0, 0, 0, 0, 0, 0, 0, 0,...\n",
       "57865    [[0, 0, 0, 0, 0, 0, 0, 0, 0, 0, 0, 0, 0, 0, 0,...\n",
       "57866    [[0, 0, 0, 0, 0, 0, 0, 0, 0, 0, 0, 0, 0, 0, 1,...\n",
       "Name: onehot_vector, Length: 57867, dtype: object"
      ]
     },
     "execution_count": 4,
     "metadata": {},
     "output_type": "execute_result"
    }
   ],
   "source": [
    "import pickle\n",
    "import gzip\n",
    "import pandas as pd\n",
    "\n",
    "with gzip.open('khs.pickle', 'rb') as f:\n",
    "    # pickle 파일 로드\n",
    "    data = pickle.load(f)\n",
    "\n",
    "X1 = data['onehot_vector']\n",
    "y1 = data['clean']\n",
    "\n",
    "with gzip.open('kold.pickle', 'rb') as f:\n",
    "    # pickle 파일 로드\n",
    "    data = pickle.load(f)\n",
    "\n",
    "X2 = data['onehot_vector']\n",
    "y2 = data['clean']\n",
    "\n",
    "with gzip.open('../day59/unsmile.pickle', 'rb') as f:\n",
    "    # pickle 파일 로드\n",
    "    data = pickle.load(f)\n",
    "\n",
    "X3 = data['onehot_vector']\n",
    "y3 = data['clean']\n",
    "\n",
    "with gzip.open('../day59/unsmile_val.pickle', 'rb') as f:\n",
    "    # pickle 파일 로드\n",
    "    data = pickle.load(f)\n",
    "\n",
    "X4 = data['onehot_vector']\n",
    "y4 = data['clean']\n",
    "\n",
    "result = pd.concat([X1, X2, X3, X4], ignore_index=True)\n",
    "label = pd.concat([y1, y2, y3, y4], ignore_index=True)\n",
    "\n",
    "result"
   ]
  },
  {
   "cell_type": "code",
   "execution_count": 6,
   "metadata": {},
   "outputs": [
    {
     "data": {
      "text/plain": [
       "24844"
      ]
     },
     "execution_count": 6,
     "metadata": {},
     "output_type": "execute_result"
    }
   ],
   "source": [
    "label.sum()"
   ]
  },
  {
   "cell_type": "code",
   "execution_count": 8,
   "metadata": {},
   "outputs": [],
   "source": [
    "from sklearn.model_selection import train_test_split\n",
    "\n",
    "X_train, X_test, y_train, y_test = train_test_split(result, label, test_size=0.1, random_state=42, stratify=label)\n",
    "\n",
    "with gzip.open('Xtrain.pickle', 'wb') as f:\n",
    "    # pickle 파일 로드\n",
    "    pickle.dump(X_train, f)\n",
    "\n",
    "with gzip.open('Xtest.pickle', 'wb') as f:\n",
    "    # pickle 파일 로드\n",
    "    pickle.dump(X_test,f)\n",
    "\n",
    "with gzip.open('ytrain.pickle', 'wb') as f:\n",
    "    # pickle 파일 로드\n",
    "    pickle.dump(y_train,f)\n",
    "\n",
    "with gzip.open('ytest.pickle', 'wb') as f:\n",
    "    # pickle 파일 로드\n",
    "    pickle.dump(y_test, f)"
   ]
  },
  {
   "cell_type": "code",
   "execution_count": null,
   "metadata": {},
   "outputs": [],
   "source": []
  }
 ],
 "metadata": {
  "kernelspec": {
   "display_name": "fp",
   "language": "python",
   "name": "python3"
  },
  "language_info": {
   "codemirror_mode": {
    "name": "ipython",
    "version": 3
   },
   "file_extension": ".py",
   "mimetype": "text/x-python",
   "name": "python",
   "nbconvert_exporter": "python",
   "pygments_lexer": "ipython3",
   "version": "3.11.8"
  }
 },
 "nbformat": 4,
 "nbformat_minor": 2
}
